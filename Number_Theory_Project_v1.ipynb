{
  "cells": [
    {
      "cell_type": "code",
      "execution_count": 1,
      "metadata": {
        "colab": {
          "base_uri": "https://localhost:8080/",
          "height": 0
        },
        "id": "qhMrfVs87FF7",
        "outputId": "634342ff-f366-4162-e92a-d9ff04f25350"
      },
      "outputs": [
        {
          "output_type": "stream",
          "name": "stdout",
          "text": [
            "Drive already mounted at /content/drive; to attempt to forcibly remount, call drive.mount(\"/content/drive\", force_remount=True).\n"
          ]
        }
      ],
      "source": [
        "from google.colab import drive\n",
        "drive.mount('/content/drive')\n"
      ]
    },
    {
      "cell_type": "code",
      "execution_count": 2,
      "metadata": {
        "id": "37SJVUg3bqSu"
      },
      "outputs": [],
      "source": [
        "# Import data by extracting 600  primes in dataset primes.txt\n",
        "# Initialize an empty list to hold the elements\n",
        "elements_list = []\n",
        "\n",
        "# Open the file in read mode\n",
        "with open('/content/drive/MyDrive/primes.txt', 'r') as file:\n",
        "    # Use enumerate to get both line numbers and lines\n",
        "    for i, line in enumerate(file):\n",
        "\n",
        "        elements_list.append(line.strip())  # strip() removes any leading/trailing whitespace, including newlines\n",
        "        # Break the loop\n",
        "        if i == 600:\n",
        "            break\n",
        "\n",
        "my_list = [int(item) for item in elements_list]\n"
      ]
    },
    {
      "cell_type": "code",
      "execution_count": 3,
      "metadata": {
        "id": "AmnuDUI6hCfN"
      },
      "outputs": [],
      "source": [
        "# Generate the product of primes with themselves and then sort the products in descending order\n",
        "products = [a * b for a in my_list for b in my_list]\n",
        "results = list(dict.fromkeys(products))\n",
        "# sort the result\n",
        "sorted_results = sorted(results)\n",
        "\n",
        "\n",
        "#len(sorted_results)"
      ]
    },
    {
      "cell_type": "code",
      "source": [
        "# The length of our data after multiplying prime numbers with themselves\n",
        "len(sorted_results)"
      ],
      "metadata": {
        "colab": {
          "base_uri": "https://localhost:8080/",
          "height": 0
        },
        "id": "fVBNtYwAD__8",
        "outputId": "a518dcba-d269-4ea0-8ebf-afdec6b80906"
      },
      "execution_count": 4,
      "outputs": [
        {
          "output_type": "execute_result",
          "data": {
            "text/plain": [
              "180901"
            ]
          },
          "metadata": {},
          "execution_count": 4
        }
      ]
    },
    {
      "cell_type": "code",
      "source": [
        "# Check for what is the maxium number of the products\n",
        "max(sorted_results)"
      ],
      "metadata": {
        "colab": {
          "base_uri": "https://localhost:8080/",
          "height": 0
        },
        "id": "DPuBSCzxqZJI",
        "outputId": "edf0757d-9089-4525-f549-54f152b4bf25"
      },
      "execution_count": 5,
      "outputs": [
        {
          "output_type": "execute_result",
          "data": {
            "text/plain": [
              "19545241"
            ]
          },
          "metadata": {},
          "execution_count": 5
        }
      ]
    },
    {
      "cell_type": "code",
      "execution_count": 6,
      "metadata": {
        "id": "QCnyxVxvFDYU"
      },
      "outputs": [],
      "source": [
        "# This function is to divide the data of product of primes into equivalent chunks. Dividing dataset into smaller chunks helps our algorithm run faster\n",
        "\n",
        "def divide_input(input_list):\n",
        "    # The total length of the input list\n",
        "    total_length = len(input_list)\n",
        "\n",
        "    # The size of each chunk\n",
        "    chunk_size = total_length // 10\n",
        "\n",
        "    # List to hold all the chunks\n",
        "    chunks = []\n",
        "\n",
        "    for i in range(0, total_length, chunk_size):\n",
        "        # Append chunks to the list\n",
        "        chunks.append(input_list[i:i + chunk_size])\n",
        "\n",
        "    return chunks"
      ]
    },
    {
      "cell_type": "code",
      "source": [
        "chunks = divide_input(sorted_results)"
      ],
      "metadata": {
        "id": "D8fYCeAhgoXA"
      },
      "execution_count": 7,
      "outputs": []
    },
    {
      "cell_type": "markdown",
      "source": [
        " Each json file stores the tuple whose difference between 2 numbers is 1, i.e tuple(n, n+1) . Each file has the length is 5001500"
      ],
      "metadata": {
        "id": "smFX8oOXQJiL"
      }
    },
    {
      "cell_type": "code",
      "execution_count": 8,
      "metadata": {
        "id": "A1DbTorNiplA"
      },
      "outputs": [],
      "source": [
        "import json\n",
        "with open('/content/drive/MyDrive/data_v2/tuple_diff1_chunk_1.json', 'r') as file:\n",
        "    loaded_data = json.load(file)\n",
        "restored_tuples_diff1 = [tuple(item) for item in loaded_data]\n"
      ]
    },
    {
      "cell_type": "code",
      "source": [
        "len(restored_tuples_diff1)"
      ],
      "metadata": {
        "colab": {
          "base_uri": "https://localhost:8080/",
          "height": 0
        },
        "id": "9f0Yq-x_RHLK",
        "outputId": "61477b00-e48a-425d-cffc-dacb00636540"
      },
      "execution_count": 9,
      "outputs": [
        {
          "output_type": "execute_result",
          "data": {
            "text/plain": [
              "5001500"
            ]
          },
          "metadata": {},
          "execution_count": 9
        }
      ]
    },
    {
      "cell_type": "code",
      "source": [
        "# First 10 rows of data\n",
        "restored_tuples_diff1[:10]"
      ],
      "metadata": {
        "colab": {
          "base_uri": "https://localhost:8080/",
          "height": 0
        },
        "id": "1wbZdYdHMtpJ",
        "outputId": "1823caee-b7b6-44a4-9cbd-1d3e27d0a0cf"
      },
      "execution_count": 10,
      "outputs": [
        {
          "output_type": "execute_result",
          "data": {
            "text/plain": [
              "[(1, 2),\n",
              " (2, 3),\n",
              " (3, 4),\n",
              " (4, 5),\n",
              " (5, 6),\n",
              " (6, 7),\n",
              " (7, 8),\n",
              " (8, 9),\n",
              " (9, 10),\n",
              " (10, 11)]"
            ]
          },
          "metadata": {},
          "execution_count": 10
        }
      ]
    },
    {
      "cell_type": "code",
      "source": [
        "# Last 10 rows of data\n",
        "restored_tuples_diff1[-10:]"
      ],
      "metadata": {
        "colab": {
          "base_uri": "https://localhost:8080/",
          "height": 0
        },
        "id": "qZtVim9EM0Xk",
        "outputId": "6b6a6f15-9e06-4678-a47b-800197474b47"
      },
      "execution_count": 11,
      "outputs": [
        {
          "output_type": "execute_result",
          "data": {
            "text/plain": [
              "[(5001491, 5001492),\n",
              " (5001492, 5001493),\n",
              " (5001493, 5001494),\n",
              " (5001494, 5001495),\n",
              " (5001495, 5001496),\n",
              " (5001496, 5001497),\n",
              " (5001497, 5001498),\n",
              " (5001498, 5001499),\n",
              " (5001499, 5001500),\n",
              " (5001500, 5001501)]"
            ]
          },
          "metadata": {},
          "execution_count": 11
        }
      ]
    },
    {
      "cell_type": "code",
      "source": [
        "with open('/content/drive/MyDrive/data_v2/tuple_diff1_chunk_2.json', 'r') as file:\n",
        "    loaded_data = json.load(file)\n",
        "restored_tuples_diff1_v1 = [tuple(item) for item in loaded_data]"
      ],
      "metadata": {
        "id": "CE3PyTcSm3ov"
      },
      "execution_count": 12,
      "outputs": []
    },
    {
      "cell_type": "code",
      "source": [
        "restored_tuples_diff1_v1[:10]"
      ],
      "metadata": {
        "colab": {
          "base_uri": "https://localhost:8080/",
          "height": 0
        },
        "id": "DG8DKhPFMzIh",
        "outputId": "e87b3213-6a5a-45cf-951b-8d392c6ad8c2"
      },
      "execution_count": 13,
      "outputs": [
        {
          "output_type": "execute_result",
          "data": {
            "text/plain": [
              "[(5001501, 5001502),\n",
              " (5001502, 5001503),\n",
              " (5001503, 5001504),\n",
              " (5001504, 5001505),\n",
              " (5001505, 5001506),\n",
              " (5001506, 5001507),\n",
              " (5001507, 5001508),\n",
              " (5001508, 5001509),\n",
              " (5001509, 5001510),\n",
              " (5001510, 5001511)]"
            ]
          },
          "metadata": {},
          "execution_count": 13
        }
      ]
    },
    {
      "cell_type": "code",
      "source": [
        "restored_tuples_diff1_v1[-10:]"
      ],
      "metadata": {
        "colab": {
          "base_uri": "https://localhost:8080/",
          "height": 0
        },
        "id": "vRJlHIWuNQOX",
        "outputId": "94bf4530-417d-44ad-80c6-ad5de159a504"
      },
      "execution_count": 14,
      "outputs": [
        {
          "output_type": "execute_result",
          "data": {
            "text/plain": [
              "[(10002991, 10002992),\n",
              " (10002992, 10002993),\n",
              " (10002993, 10002994),\n",
              " (10002994, 10002995),\n",
              " (10002995, 10002996),\n",
              " (10002996, 10002997),\n",
              " (10002997, 10002998),\n",
              " (10002998, 10002999),\n",
              " (10002999, 10003000),\n",
              " (10003000, 10003001)]"
            ]
          },
          "metadata": {},
          "execution_count": 14
        }
      ]
    },
    {
      "cell_type": "code",
      "source": [
        "with open('/content/drive/MyDrive/data_v2/tuple_diff1_chunk_3.json', 'r') as file:\n",
        "    loaded_data = json.load(file)\n",
        "restored_tuples_diff1_v2 = [tuple(item) for item in loaded_data]"
      ],
      "metadata": {
        "id": "ioClAuzGsacT"
      },
      "execution_count": 15,
      "outputs": []
    },
    {
      "cell_type": "code",
      "source": [
        "restored_tuples_diff1_v2[:10]"
      ],
      "metadata": {
        "colab": {
          "base_uri": "https://localhost:8080/",
          "height": 0
        },
        "id": "DXoUQBORNjhD",
        "outputId": "4d302719-c1a8-4546-b60a-77fdf034a595"
      },
      "execution_count": 16,
      "outputs": [
        {
          "output_type": "execute_result",
          "data": {
            "text/plain": [
              "[(10003001, 10003002),\n",
              " (10003002, 10003003),\n",
              " (10003003, 10003004),\n",
              " (10003004, 10003005),\n",
              " (10003005, 10003006),\n",
              " (10003006, 10003007),\n",
              " (10003007, 10003008),\n",
              " (10003008, 10003009),\n",
              " (10003009, 10003010),\n",
              " (10003010, 10003011)]"
            ]
          },
          "metadata": {},
          "execution_count": 16
        }
      ]
    },
    {
      "cell_type": "code",
      "source": [
        "restored_tuples_diff1_v2[-10:]"
      ],
      "metadata": {
        "colab": {
          "base_uri": "https://localhost:8080/",
          "height": 0
        },
        "id": "chU47wl5Npqh",
        "outputId": "ab7b50d5-5d70-477c-d920-2025da22d7d1"
      },
      "execution_count": 17,
      "outputs": [
        {
          "output_type": "execute_result",
          "data": {
            "text/plain": [
              "[(15004491, 15004492),\n",
              " (15004492, 15004493),\n",
              " (15004493, 15004494),\n",
              " (15004494, 15004495),\n",
              " (15004495, 15004496),\n",
              " (15004496, 15004497),\n",
              " (15004497, 15004498),\n",
              " (15004498, 15004499),\n",
              " (15004499, 15004500),\n",
              " (15004500, 15004501)]"
            ]
          },
          "metadata": {},
          "execution_count": 17
        }
      ]
    },
    {
      "cell_type": "code",
      "source": [
        "with open('/content/drive/MyDrive/data_v2/tuple_diff1_chunk_4.json', 'r') as file:\n",
        "    loaded_data = json.load(file)\n",
        "restored_tuples_diff1_v3 = [tuple(item) for item in loaded_data]"
      ],
      "metadata": {
        "id": "q1kk9-I5If2Y"
      },
      "execution_count": 18,
      "outputs": []
    },
    {
      "cell_type": "code",
      "source": [
        "restored_tuples_diff1_v3[:10]"
      ],
      "metadata": {
        "colab": {
          "base_uri": "https://localhost:8080/",
          "height": 0
        },
        "id": "6epIrhbQNuj1",
        "outputId": "9b1f75d1-bef2-45df-ab8e-762fbaa3b609"
      },
      "execution_count": 19,
      "outputs": [
        {
          "output_type": "execute_result",
          "data": {
            "text/plain": [
              "[(15004501, 15004502),\n",
              " (15004502, 15004503),\n",
              " (15004503, 15004504),\n",
              " (15004504, 15004505),\n",
              " (15004505, 15004506),\n",
              " (15004506, 15004507),\n",
              " (15004507, 15004508),\n",
              " (15004508, 15004509),\n",
              " (15004509, 15004510),\n",
              " (15004510, 15004511)]"
            ]
          },
          "metadata": {},
          "execution_count": 19
        }
      ]
    },
    {
      "cell_type": "code",
      "source": [
        "restored_tuples_diff1_v3[-10:]"
      ],
      "metadata": {
        "colab": {
          "base_uri": "https://localhost:8080/",
          "height": 0
        },
        "id": "opp2BQ8QNxnw",
        "outputId": "01bd78ba-c2e3-4cc6-d2b4-566b768de28a"
      },
      "execution_count": 20,
      "outputs": [
        {
          "output_type": "execute_result",
          "data": {
            "text/plain": [
              "[(20005991, 20005992),\n",
              " (20005992, 20005993),\n",
              " (20005993, 20005994),\n",
              " (20005994, 20005995),\n",
              " (20005995, 20005996),\n",
              " (20005996, 20005997),\n",
              " (20005997, 20005998),\n",
              " (20005998, 20005999),\n",
              " (20005999, 20006000),\n",
              " (20006000, 20006001)]"
            ]
          },
          "metadata": {},
          "execution_count": 20
        }
      ]
    },
    {
      "cell_type": "code",
      "source": [
        "# Combine 3 small dataset above and we obtain a new one named tuple_diff1 whose length is 2000600\n",
        "tuple_diff1 = restored_tuples_diff1 + restored_tuples_diff1_v1 +restored_tuples_diff1_v2 + restored_tuples_diff1_v3"
      ],
      "metadata": {
        "id": "YZaYve5vnt1N"
      },
      "execution_count": 21,
      "outputs": []
    },
    {
      "cell_type": "code",
      "source": [
        "len(tuple_diff1)"
      ],
      "metadata": {
        "colab": {
          "base_uri": "https://localhost:8080/",
          "height": 0
        },
        "id": "cW3bIBMHGraS",
        "outputId": "72f7bdc7-33f2-4d59-d7aa-93aaa2289c32"
      },
      "execution_count": 22,
      "outputs": [
        {
          "output_type": "execute_result",
          "data": {
            "text/plain": [
              "20006000"
            ]
          },
          "metadata": {},
          "execution_count": 22
        }
      ]
    },
    {
      "cell_type": "markdown",
      "source": [
        "\n",
        " Each json file stores the tuple whose difference between 2 numbers is 2, i.e tuple(n, n+2) . Each file has the length is 5001499"
      ],
      "metadata": {
        "id": "JPWOFMbTR0Fd"
      }
    },
    {
      "cell_type": "code",
      "source": [
        "with open('/content/drive/MyDrive/data_v2/tuple_diff2_chunk_1.json', 'r') as file:\n",
        "    loaded_data = json.load(file)\n",
        "    restored_tuples_diff2 = [tuple(item) for item in loaded_data]\n"
      ],
      "metadata": {
        "id": "3Tzf_cwjNIvx"
      },
      "execution_count": 23,
      "outputs": []
    },
    {
      "cell_type": "code",
      "source": [
        "len(restored_tuples_diff2)"
      ],
      "metadata": {
        "colab": {
          "base_uri": "https://localhost:8080/",
          "height": 0
        },
        "id": "-nnYl0mmR4Rv",
        "outputId": "0e8ed6e1-e3bf-4a05-f134-037abfc9014c"
      },
      "execution_count": 24,
      "outputs": [
        {
          "output_type": "execute_result",
          "data": {
            "text/plain": [
              "5001499"
            ]
          },
          "metadata": {},
          "execution_count": 24
        }
      ]
    },
    {
      "cell_type": "code",
      "source": [
        "restored_tuples_diff2[:10]"
      ],
      "metadata": {
        "colab": {
          "base_uri": "https://localhost:8080/",
          "height": 0
        },
        "id": "H-jkZWEJN18Q",
        "outputId": "bee0c625-12dd-44e1-b106-67b9eb62310d"
      },
      "execution_count": 25,
      "outputs": [
        {
          "output_type": "execute_result",
          "data": {
            "text/plain": [
              "[(1, 3),\n",
              " (2, 4),\n",
              " (3, 5),\n",
              " (4, 6),\n",
              " (5, 7),\n",
              " (6, 8),\n",
              " (7, 9),\n",
              " (8, 10),\n",
              " (9, 11),\n",
              " (10, 12)]"
            ]
          },
          "metadata": {},
          "execution_count": 25
        }
      ]
    },
    {
      "cell_type": "code",
      "source": [
        "restored_tuples_diff2[-10:]"
      ],
      "metadata": {
        "colab": {
          "base_uri": "https://localhost:8080/",
          "height": 0
        },
        "id": "T7Gw9L67N4_P",
        "outputId": "c2e19abd-d76d-4431-9830-088c7b0b5763"
      },
      "execution_count": 26,
      "outputs": [
        {
          "output_type": "execute_result",
          "data": {
            "text/plain": [
              "[(5001490, 5001492),\n",
              " (5001491, 5001493),\n",
              " (5001492, 5001494),\n",
              " (5001493, 5001495),\n",
              " (5001494, 5001496),\n",
              " (5001495, 5001497),\n",
              " (5001496, 5001498),\n",
              " (5001497, 5001499),\n",
              " (5001498, 5001500),\n",
              " (5001499, 5001501)]"
            ]
          },
          "metadata": {},
          "execution_count": 26
        }
      ]
    },
    {
      "cell_type": "code",
      "source": [
        "with open('/content/drive/MyDrive/data_v2/tuple_diff2_chunk_2.json', 'r') as file:\n",
        "    loaded_data = json.load(file)\n",
        "    restored_tuples_diff2_v1 = [tuple(item) for item in loaded_data]"
      ],
      "metadata": {
        "id": "d16hR5jdm8lW"
      },
      "execution_count": 27,
      "outputs": []
    },
    {
      "cell_type": "code",
      "source": [
        "restored_tuples_diff2_v1[:10]"
      ],
      "metadata": {
        "colab": {
          "base_uri": "https://localhost:8080/",
          "height": 0
        },
        "id": "Uj31Yj5PN88h",
        "outputId": "f9b832e2-36d2-4414-f80b-b5599723aeea"
      },
      "execution_count": 28,
      "outputs": [
        {
          "output_type": "execute_result",
          "data": {
            "text/plain": [
              "[(5001501, 5001503),\n",
              " (5001502, 5001504),\n",
              " (5001503, 5001505),\n",
              " (5001504, 5001506),\n",
              " (5001505, 5001507),\n",
              " (5001506, 5001508),\n",
              " (5001507, 5001509),\n",
              " (5001508, 5001510),\n",
              " (5001509, 5001511),\n",
              " (5001510, 5001512)]"
            ]
          },
          "metadata": {},
          "execution_count": 28
        }
      ]
    },
    {
      "cell_type": "code",
      "source": [
        "restored_tuples_diff2_v1[-10:]"
      ],
      "metadata": {
        "colab": {
          "base_uri": "https://localhost:8080/",
          "height": 0
        },
        "id": "mnb_eYCZOQxN",
        "outputId": "023ee6d0-8b29-4d0a-f530-94faa445ee79"
      },
      "execution_count": 29,
      "outputs": [
        {
          "output_type": "execute_result",
          "data": {
            "text/plain": [
              "[(10002990, 10002992),\n",
              " (10002991, 10002993),\n",
              " (10002992, 10002994),\n",
              " (10002993, 10002995),\n",
              " (10002994, 10002996),\n",
              " (10002995, 10002997),\n",
              " (10002996, 10002998),\n",
              " (10002997, 10002999),\n",
              " (10002998, 10003000),\n",
              " (10002999, 10003001)]"
            ]
          },
          "metadata": {},
          "execution_count": 29
        }
      ]
    },
    {
      "cell_type": "code",
      "source": [
        "with open('/content/drive/MyDrive/data_v2/tuple_diff2_chunk_3.json', 'r') as file:\n",
        "    loaded_data = json.load(file)\n",
        "    restored_tuples_diff2_v2 = [tuple(item) for item in loaded_data]"
      ],
      "metadata": {
        "id": "Y2_kMqQDsd4G"
      },
      "execution_count": 30,
      "outputs": []
    },
    {
      "cell_type": "code",
      "source": [
        "restored_tuples_diff2_v2[:10]"
      ],
      "metadata": {
        "colab": {
          "base_uri": "https://localhost:8080/",
          "height": 0
        },
        "id": "jVUFIwGUONOy",
        "outputId": "e88ea2bd-8a4a-4548-c148-50f21366ce7a"
      },
      "execution_count": 31,
      "outputs": [
        {
          "output_type": "execute_result",
          "data": {
            "text/plain": [
              "[(10003001, 10003003),\n",
              " (10003002, 10003004),\n",
              " (10003003, 10003005),\n",
              " (10003004, 10003006),\n",
              " (10003005, 10003007),\n",
              " (10003006, 10003008),\n",
              " (10003007, 10003009),\n",
              " (10003008, 10003010),\n",
              " (10003009, 10003011),\n",
              " (10003010, 10003012)]"
            ]
          },
          "metadata": {},
          "execution_count": 31
        }
      ]
    },
    {
      "cell_type": "code",
      "source": [
        "restored_tuples_diff2_v2[-10:]"
      ],
      "metadata": {
        "colab": {
          "base_uri": "https://localhost:8080/",
          "height": 0
        },
        "id": "MhhXToAvOffu",
        "outputId": "a6e3c15e-c07b-4678-9cc9-44ea72ff3a66"
      },
      "execution_count": 32,
      "outputs": [
        {
          "output_type": "execute_result",
          "data": {
            "text/plain": [
              "[(15004490, 15004492),\n",
              " (15004491, 15004493),\n",
              " (15004492, 15004494),\n",
              " (15004493, 15004495),\n",
              " (15004494, 15004496),\n",
              " (15004495, 15004497),\n",
              " (15004496, 15004498),\n",
              " (15004497, 15004499),\n",
              " (15004498, 15004500),\n",
              " (15004499, 15004501)]"
            ]
          },
          "metadata": {},
          "execution_count": 32
        }
      ]
    },
    {
      "cell_type": "code",
      "source": [
        "with open('/content/drive/MyDrive/data_v2/tuple_diff2_chunk_4.json', 'r') as file:\n",
        "    loaded_data = json.load(file)\n",
        "    restored_tuples_diff2_v3 = [tuple(item) for item in loaded_data]"
      ],
      "metadata": {
        "id": "fjyxRpzQJV2c"
      },
      "execution_count": 33,
      "outputs": []
    },
    {
      "cell_type": "code",
      "source": [
        "restored_tuples_diff2_v3[:10]"
      ],
      "metadata": {
        "colab": {
          "base_uri": "https://localhost:8080/",
          "height": 0
        },
        "id": "kjLoINAjOk-g",
        "outputId": "b9acbcf9-f63b-4c06-a45c-e83f7f3b015f"
      },
      "execution_count": 34,
      "outputs": [
        {
          "output_type": "execute_result",
          "data": {
            "text/plain": [
              "[(15004501, 15004503),\n",
              " (15004502, 15004504),\n",
              " (15004503, 15004505),\n",
              " (15004504, 15004506),\n",
              " (15004505, 15004507),\n",
              " (15004506, 15004508),\n",
              " (15004507, 15004509),\n",
              " (15004508, 15004510),\n",
              " (15004509, 15004511),\n",
              " (15004510, 15004512)]"
            ]
          },
          "metadata": {},
          "execution_count": 34
        }
      ]
    },
    {
      "cell_type": "code",
      "source": [
        "restored_tuples_diff2_v3[-10:]"
      ],
      "metadata": {
        "colab": {
          "base_uri": "https://localhost:8080/",
          "height": 0
        },
        "id": "HZmx7XAQOr3f",
        "outputId": "4946ad7b-8b03-4f9e-96ea-4ea3a4cacc57"
      },
      "execution_count": 35,
      "outputs": [
        {
          "output_type": "execute_result",
          "data": {
            "text/plain": [
              "[(20005990, 20005992),\n",
              " (20005991, 20005993),\n",
              " (20005992, 20005994),\n",
              " (20005993, 20005995),\n",
              " (20005994, 20005996),\n",
              " (20005995, 20005997),\n",
              " (20005996, 20005998),\n",
              " (20005997, 20005999),\n",
              " (20005998, 20006000),\n",
              " (20005999, 20006001)]"
            ]
          },
          "metadata": {},
          "execution_count": 35
        }
      ]
    },
    {
      "cell_type": "code",
      "source": [
        "#Combine 3 small dataset above and we obtain a new one named tuple_diff1 whose length is 2000594\n",
        "tuple_diff2 = restored_tuples_diff2 + restored_tuples_diff2_v1 + restored_tuples_diff2_v2 + restored_tuples_diff2_v3"
      ],
      "metadata": {
        "id": "5_G8kA0Wny_H"
      },
      "execution_count": 36,
      "outputs": []
    },
    {
      "cell_type": "code",
      "source": [
        "len(tuple_diff2)"
      ],
      "metadata": {
        "colab": {
          "base_uri": "https://localhost:8080/",
          "height": 0
        },
        "id": "g8TlkE2dSAHm",
        "outputId": "cd5c294f-d121-4bf4-d4e1-d548c1fb6163"
      },
      "execution_count": 37,
      "outputs": [
        {
          "output_type": "execute_result",
          "data": {
            "text/plain": [
              "20005996"
            ]
          },
          "metadata": {},
          "execution_count": 37
        }
      ]
    },
    {
      "cell_type": "code",
      "execution_count": 38,
      "metadata": {
        "id": "dxazBKoAFDdD"
      },
      "outputs": [],
      "source": [
        "def process_chunk(chunk, chunk1_diff1, chunk1_diff2):\n",
        "    # Sort the chunk to ensure the calculations are based on sorted order\n",
        "    sorted_results = sorted(chunk)\n",
        "\n",
        "    # Process for difference of 1\n",
        "    tuple_diff1 = chunk1_diff1\n",
        "    # Extract the numbers from our product of primes which have the difference is 1\n",
        "    product_diff1 = tuple((sorted_results[i], sorted_results[i + 1]) for i in range(len(sorted_results) - 1) if sorted_results[i + 1] - sorted_results[i] == 1)\n",
        "    set_tuple_diff1 = set(tuple_diff1)\n",
        "    set_product_diff1 = set(product_diff1)\n",
        "    # Find the common elements which are in both set_tuple_diff1 and set_product_diff1\n",
        "    common_elements_diff1 = set_tuple_diff1.intersection(set_product_diff1)\n",
        "    # The total number of common elements\n",
        "    num_tuple_diff1 = len(common_elements_diff1)\n",
        "\n",
        "    # Process for difference of 2\n",
        "    tuple_diff2 = chunk1_diff2\n",
        "     # Extract the numbers from our product of primes which have the difference is 1\n",
        "    product_diff2 = tuple((sorted_results[i], sorted_results[i + 1]) for i in range(len(sorted_results) - 1) if sorted_results[i + 1] - sorted_results[i] == 2)\n",
        "    set_tuple_diff2 = set(tuple_diff2)\n",
        "    set_product_diff2 = set(product_diff2)\n",
        "    # Find the common elements which are in both set_tuple_diff2 and set_product_diff2\n",
        "    common_elements_diff2 = set_tuple_diff2.intersection(set_product_diff2)\n",
        "    # The total number of common elements\n",
        "    num_tuple_diff2 = len(common_elements_diff2)\n",
        "\n",
        "    # Return the sums of common elements with the difference of 1 and 2\n",
        "    return num_tuple_diff1, num_tuple_diff2, common_elements_diff1, common_elements_diff2"
      ]
    },
    {
      "cell_type": "code",
      "source": [
        "num_tuples_diff1, num_tuples_diff2, common_elements_diff1, common_elements_diff2 = process_chunk(sorted_results, tuple_diff1,  tuple_diff2)"
      ],
      "metadata": {
        "id": "NlNSoy6Cn5Hs"
      },
      "execution_count": 41,
      "outputs": []
    },
    {
      "cell_type": "code",
      "source": [
        "# The total number of tuples whose difference is 1\n",
        "num_tuples_diff1"
      ],
      "metadata": {
        "id": "jWdCSTHooIix",
        "outputId": "b5147a2c-327c-477d-bb7e-39976b67c812",
        "colab": {
          "base_uri": "https://localhost:8080/",
          "height": 0
        }
      },
      "execution_count": 42,
      "outputs": [
        {
          "output_type": "execute_result",
          "data": {
            "text/plain": [
              "423"
            ]
          },
          "metadata": {},
          "execution_count": 42
        }
      ]
    },
    {
      "cell_type": "code",
      "source": [
        "# The total number of tuples whose difference is 1\n",
        "num_tuples_diff2"
      ],
      "metadata": {
        "id": "gbHQJkuzoKSy",
        "outputId": "cd923d92-cba9-47c1-d2b4-e2b27ee1ace8",
        "colab": {
          "base_uri": "https://localhost:8080/",
          "height": 0
        }
      },
      "execution_count": 43,
      "outputs": [
        {
          "output_type": "execute_result",
          "data": {
            "text/plain": [
              "6863"
            ]
          },
          "metadata": {},
          "execution_count": 43
        }
      ]
    },
    {
      "cell_type": "code",
      "source": [
        "# The number of tuples whose difference is 1\n",
        "#sum_tuple_diff1_v1"
      ],
      "metadata": {
        "id": "Fftkw3N6j39B"
      },
      "execution_count": 44,
      "outputs": []
    },
    {
      "cell_type": "code",
      "source": [
        "# The number of tuples whose difference is 2\n",
        "#sum_tuple_diff2_v1"
      ],
      "metadata": {
        "id": "ZoCclF6Dj5cZ"
      },
      "execution_count": 45,
      "outputs": []
    },
    {
      "cell_type": "code",
      "source": [
        "# Print out the tuples whose difference is 1 in a descending order\n",
        "sorted(common_elements_diff1)"
      ],
      "metadata": {
        "id": "snhBUcP4NKo9",
        "colab": {
          "base_uri": "https://localhost:8080/",
          "height": 0
        },
        "outputId": "f1859b8e-87e2-4f3b-a047-2cdb1b3203ca"
      },
      "execution_count": 46,
      "outputs": [
        {
          "output_type": "execute_result",
          "data": {
            "text/plain": [
              "[(9, 10),\n",
              " (14, 15),\n",
              " (21, 22),\n",
              " (25, 26),\n",
              " (33, 34),\n",
              " (34, 35),\n",
              " (38, 39),\n",
              " (57, 58),\n",
              " (85, 86),\n",
              " (86, 87),\n",
              " (93, 94),\n",
              " (94, 95),\n",
              " (118, 119),\n",
              " (121, 122),\n",
              " (122, 123),\n",
              " (133, 134),\n",
              " (141, 142),\n",
              " (142, 143),\n",
              " (145, 146),\n",
              " (158, 159),\n",
              " (177, 178),\n",
              " (201, 202),\n",
              " (202, 203),\n",
              " (205, 206),\n",
              " (213, 214),\n",
              " (214, 215),\n",
              " (217, 218),\n",
              " (218, 219),\n",
              " (253, 254),\n",
              " (298, 299),\n",
              " (301, 302),\n",
              " (302, 303),\n",
              " (326, 327),\n",
              " (334, 335),\n",
              " (361, 362),\n",
              " (381, 382),\n",
              " (393, 394),\n",
              " (394, 395),\n",
              " (445, 446),\n",
              " (446, 447),\n",
              " (453, 454),\n",
              " (481, 482),\n",
              " (501, 502),\n",
              " (514, 515),\n",
              " (526, 527),\n",
              " (537, 538),\n",
              " (542, 543),\n",
              " (553, 554),\n",
              " (565, 566),\n",
              " (622, 623),\n",
              " (633, 634),\n",
              " (634, 635),\n",
              " (694, 695),\n",
              " (697, 698),\n",
              " (698, 699),\n",
              " (706, 707),\n",
              " (717, 718),\n",
              " (745, 746),\n",
              " (766, 767),\n",
              " (778, 779),\n",
              " (793, 794),\n",
              " (802, 803),\n",
              " (817, 818),\n",
              " (841, 842),\n",
              " (842, 843),\n",
              " (865, 866),\n",
              " (878, 879),\n",
              " (898, 899),\n",
              " (913, 914),\n",
              " (921, 922),\n",
              " (922, 923),\n",
              " (933, 934),\n",
              " (958, 959),\n",
              " (973, 974),\n",
              " (1006, 1007),\n",
              " (1041, 1042),\n",
              " (1042, 1043),\n",
              " (1046, 1047),\n",
              " (1081, 1082),\n",
              " (1114, 1115),\n",
              " (1137, 1138),\n",
              " (1138, 1139),\n",
              " (1141, 1142),\n",
              " (1198, 1199),\n",
              " (1202, 1203),\n",
              " (1226, 1227),\n",
              " (1261, 1262),\n",
              " (1262, 1263),\n",
              " (1285, 1286),\n",
              " (1293, 1294),\n",
              " (1317, 1318),\n",
              " (1345, 1346),\n",
              " (1346, 1347),\n",
              " (1354, 1355),\n",
              " (1382, 1383),\n",
              " (1401, 1402),\n",
              " (1402, 1403),\n",
              " (1417, 1418),\n",
              " (1437, 1438),\n",
              " (1465, 1466),\n",
              " (1477, 1478),\n",
              " (1501, 1502),\n",
              " (1513, 1514),\n",
              " (1537, 1538),\n",
              " (1622, 1623),\n",
              " (1641, 1642),\n",
              " (1642, 1643),\n",
              " (1654, 1655),\n",
              " (1678, 1679),\n",
              " (1706, 1707),\n",
              " (1713, 1714),\n",
              " (1717, 1718),\n",
              " (1726, 1727),\n",
              " (1761, 1762),\n",
              " (1762, 1763),\n",
              " (1765, 1766),\n",
              " (1821, 1822),\n",
              " (1837, 1838),\n",
              " (1838, 1839),\n",
              " (1857, 1858),\n",
              " (1882, 1883),\n",
              " (1893, 1894),\n",
              " (1894, 1895),\n",
              " (1941, 1942),\n",
              " (1942, 1943),\n",
              " (1966, 1967),\n",
              " (1981, 1982),\n",
              " (1982, 1983),\n",
              " (2018, 2019),\n",
              " (2041, 2042),\n",
              " (2077, 2078),\n",
              " (2101, 2102),\n",
              " (2102, 2103),\n",
              " (2122, 2123),\n",
              " (2126, 2127),\n",
              " (2173, 2174),\n",
              " (2181, 2182),\n",
              " (2182, 2183),\n",
              " (2194, 2195),\n",
              " (2217, 2218),\n",
              " (2218, 2219),\n",
              " (2245, 2246),\n",
              " (2257, 2258),\n",
              " (2305, 2306),\n",
              " (2306, 2307),\n",
              " (2326, 2327),\n",
              " (2361, 2362),\n",
              " (2362, 2363),\n",
              " (2426, 2427),\n",
              " (2433, 2434),\n",
              " (2434, 2435),\n",
              " (2461, 2462),\n",
              " (2462, 2463),\n",
              " (2497, 2498),\n",
              " (2517, 2518),\n",
              " (2518, 2519),\n",
              " (2558, 2559),\n",
              " (2566, 2567),\n",
              " (2577, 2578),\n",
              " (2581, 2582),\n",
              " (2602, 2603),\n",
              " (2605, 2606),\n",
              " (2614, 2615),\n",
              " (2641, 2642),\n",
              " (2642, 2643),\n",
              " (2653, 2654),\n",
              " (2721, 2722),\n",
              " (2722, 2723),\n",
              " (2733, 2734),\n",
              " (2734, 2735),\n",
              " (2746, 2747),\n",
              " (2761, 2762),\n",
              " (2845, 2846),\n",
              " (2854, 2855),\n",
              " (2858, 2859),\n",
              " (2866, 2867),\n",
              " (2893, 2894),\n",
              " (2901, 2902),\n",
              " (2941, 2942),\n",
              " (2965, 2966),\n",
              " (2973, 2974),\n",
              " (2977, 2978),\n",
              " (2986, 2987),\n",
              " (3046, 3047),\n",
              " (3062, 3063),\n",
              " (3085, 3086),\n",
              " (3097, 3098),\n",
              " (3098, 3099),\n",
              " (3106, 3107),\n",
              " (3117, 3118),\n",
              " (3133, 3134),\n",
              " (3142, 3143),\n",
              " (3193, 3194),\n",
              " (3214, 3215),\n",
              " (3226, 3227),\n",
              " (3238, 3239),\n",
              " (3241, 3242),\n",
              " (3273, 3274),\n",
              " (3326, 3327),\n",
              " (3337, 3338),\n",
              " (3385, 3386),\n",
              " (3386, 3387),\n",
              " (3397, 3398),\n",
              " (3418, 3419),\n",
              " (3442, 3443),\n",
              " (3481, 3482),\n",
              " (3493, 3494),\n",
              " (3505, 3506),\n",
              " (3578, 3579),\n",
              " (3601, 3602),\n",
              " (3602, 3603),\n",
              " (3646, 3647),\n",
              " (3661, 3662),\n",
              " (3693, 3694),\n",
              " (3694, 3695),\n",
              " (3721, 3722),\n",
              " (3742, 3743),\n",
              " (3746, 3747),\n",
              " (3754, 3755),\n",
              " (3777, 3778),\n",
              " (3826, 3827),\n",
              " (3865, 3866),\n",
              " (3866, 3867),\n",
              " (3898, 3899),\n",
              " (3901, 3902),\n",
              " (3902, 3903),\n",
              " (3957, 3958),\n",
              " (3958, 3959),\n",
              " (3973, 3974),\n",
              " (3985, 3986),\n",
              " (3997, 3998),\n",
              " (4033, 4034),\n",
              " (4054, 4055),\n",
              " (4105, 4106),\n",
              " (4162, 4163),\n",
              " (4197, 4198),\n",
              " (4222, 4223),\n",
              " (4226, 4227),\n",
              " (4281, 4282),\n",
              " (4285, 4286),\n",
              " (4286, 4287),\n",
              " (4306, 4307),\n",
              " (4321, 4322),\n",
              " (4358, 4359),\n",
              " (4405, 4406),\n",
              " (4413, 4414),\n",
              " (4414, 4415),\n",
              " (4426, 4427),\n",
              " (4442, 4443),\n",
              " (4478, 4479),\n",
              " (4486, 4487),\n",
              " (4501, 4502),\n",
              " (4533, 4534),\n",
              " (4534, 4535),\n",
              " (4537, 4538),\n",
              " (4573, 4574),\n",
              " (4593, 4594),\n",
              " (4594, 4595),\n",
              " (4618, 4619),\n",
              " (4666, 4667),\n",
              " (4677, 4678),\n",
              " (4681, 4682),\n",
              " (4701, 4702),\n",
              " (4713, 4714),\n",
              " (4741, 4742),\n",
              " (4762, 4763),\n",
              " (4765, 4766),\n",
              " (4777, 4778),\n",
              " (4821, 4822),\n",
              " (4834, 4835),\n",
              " (4846, 4847),\n",
              " (4873, 4874),\n",
              " (4881, 4882),\n",
              " (4882, 4883),\n",
              " (4954, 4955),\n",
              " (5006, 5007),\n",
              " (5041, 5042),\n",
              " (5062, 5063),\n",
              " (5078, 5079),\n",
              " (5097, 5098),\n",
              " (5182, 5183),\n",
              " (5218, 5219),\n",
              " (5241, 5242),\n",
              " (5266, 5267),\n",
              " (5293, 5294),\n",
              " (5314, 5315),\n",
              " (5317, 5318),\n",
              " (5326, 5327),\n",
              " (5353, 5354),\n",
              " (5366, 5367),\n",
              " (5377, 5378),\n",
              " (5458, 5459),\n",
              " (5461, 5462),\n",
              " (5497, 5498),\n",
              " (5533, 5534),\n",
              " (5578, 5579),\n",
              " (5582, 5583),\n",
              " (5601, 5602),\n",
              " (5602, 5603),\n",
              " (5637, 5638),\n",
              " (5666, 5667),\n",
              " (5702, 5703),\n",
              " (5713, 5714),\n",
              " (5721, 5722),\n",
              " (5722, 5723),\n",
              " (5758, 5759),\n",
              " (5773, 5774),\n",
              " (5793, 5794),\n",
              " (5833, 5834),\n",
              " (5853, 5854),\n",
              " (5854, 5855),\n",
              " (5905, 5906),\n",
              " (5937, 5938),\n",
              " (5941, 5942),\n",
              " (5997, 5998),\n",
              " (5998, 5999),\n",
              " (6001, 6002),\n",
              " (6022, 6023),\n",
              " (6081, 6082),\n",
              " (6157, 6158),\n",
              " (6158, 6159),\n",
              " (6166, 6167),\n",
              " (6178, 6179),\n",
              " (6238, 6239),\n",
              " (6241, 6242),\n",
              " (6242, 6243),\n",
              " (6333, 6334),\n",
              " (6338, 6339),\n",
              " (6382, 6383),\n",
              " (6406, 6407),\n",
              " (6433, 6434),\n",
              " (6442, 6443),\n",
              " (6457, 6458),\n",
              " (6458, 6459),\n",
              " (6502, 6503),\n",
              " (6505, 6506),\n",
              " (6514, 6515),\n",
              " (6541, 6542),\n",
              " (6613, 6614),\n",
              " (6638, 6639),\n",
              " (6662, 6663),\n",
              " (6717, 6718),\n",
              " (6742, 6743),\n",
              " (6865, 6866),\n",
              " (6913, 6914),\n",
              " (6926, 6927),\n",
              " (6933, 6934),\n",
              " (6937, 6938),\n",
              " (6998, 6999),\n",
              " (7022, 7023),\n",
              " (7033, 7034),\n",
              " (7053, 7054),\n",
              " (7066, 7067),\n",
              " (7081, 7082),\n",
              " (7093, 7094),\n",
              " (7113, 7114),\n",
              " (7114, 7115),\n",
              " (7117, 7118),\n",
              " (7141, 7142),\n",
              " (7142, 7143),\n",
              " (7165, 7166),\n",
              " (7166, 7167),\n",
              " (7233, 7234),\n",
              " (7234, 7235),\n",
              " (7261, 7262),\n",
              " (7273, 7274),\n",
              " (7318, 7319),\n",
              " (7341, 7342),\n",
              " (7342, 7343),\n",
              " (7354, 7355),\n",
              " (7401, 7402),\n",
              " (7402, 7403),\n",
              " (7418, 7419),\n",
              " (7438, 7439),\n",
              " (7453, 7454),\n",
              " (7465, 7466),\n",
              " (7593, 7594),\n",
              " (7646, 7647),\n",
              " (7762, 7763),\n",
              " (7778, 7779),\n",
              " (7813, 7814),\n",
              " (7834, 7835),\n",
              " (7837, 7838),\n",
              " (7858, 7859),\n",
              " (7861, 7862),\n",
              " (7862, 7863),\n",
              " (7894, 7895),\n",
              " (7977, 7978),\n",
              " (7978, 7979),\n",
              " (8002, 8003),\n",
              " (8005, 8006),\n",
              " (8013, 8014),\n",
              " (8026, 8027),\n",
              " (8097, 8098),\n",
              " (8157, 8158),\n",
              " (8158, 8159),\n",
              " (8185, 8186),\n",
              " (8186, 8187),\n",
              " (8197, 8198),\n",
              " (8222, 8223),\n",
              " (8257, 8258),\n",
              " (8258, 8259),\n",
              " (8266, 8267),\n",
              " (8278, 8279),\n",
              " (8314, 8315),\n",
              " (8401, 8402),\n",
              " (8402, 8403),\n",
              " (8457, 8458),\n",
              " (8458, 8459),\n",
              " (8482, 8483),\n",
              " (8485, 8486),\n",
              " (8506, 8507),\n",
              " (8518, 8519),\n",
              " (8545, 8546),\n",
              " (8566, 8567),\n",
              " (8578, 8579),\n",
              " (8593, 8594),\n",
              " (8653, 8654),\n",
              " (8726, 8727),\n",
              " (8781, 8782),\n",
              " (8794, 8795),\n",
              " (8817, 8818),\n",
              " (8842, 8843)]"
            ]
          },
          "metadata": {},
          "execution_count": 46
        }
      ]
    },
    {
      "cell_type": "code",
      "source": [
        "# Print out the tuples whose difference is 2 in a descending order\n",
        "sorted(common_elements_diff2)"
      ],
      "metadata": {
        "colab": {
          "base_uri": "https://localhost:8080/",
          "height": 0
        },
        "id": "jVvXSXi4VTlp",
        "outputId": "dfb34f72-79a5-4da3-a68f-dedc5ce4db53"
      },
      "execution_count": 49,
      "outputs": [
        {
          "output_type": "execute_result",
          "data": {
            "text/plain": [
              "[(4, 6),\n",
              " (49, 51),\n",
              " (55, 57),\n",
              " (91, 93),\n",
              " (119, 121),\n",
              " (143, 145),\n",
              " (159, 161),\n",
              " (183, 185),\n",
              " (185, 187),\n",
              " (203, 205),\n",
              " (215, 217),\n",
              " (219, 221),\n",
              " (235, 237),\n",
              " (247, 249),\n",
              " (265, 267),\n",
              " (287, 289),\n",
              " (289, 291),\n",
              " (299, 301),\n",
              " (303, 305),\n",
              " (319, 321),\n",
              " (321, 323),\n",
              " (327, 329),\n",
              " (339, 341),\n",
              " (391, 393),\n",
              " (411, 413),\n",
              " (413, 415),\n",
              " (415, 417),\n",
              " (451, 453),\n",
              " (469, 471),\n",
              " (471, 473),\n",
              " (515, 517),\n",
              " (517, 519),\n",
              " (527, 529),\n",
              " (533, 535),\n",
              " (535, 537),\n",
              " (543, 545),\n",
              " (551, 553),\n",
              " (579, 581),\n",
              " (581, 583),\n",
              " (589, 591),\n",
              " (667, 669),\n",
              " (669, 671),\n",
              " (679, 681),\n",
              " (685, 687),\n",
              " (687, 689),\n",
              " (695, 697),\n",
              " (721, 723),\n",
              " (753, 755),\n",
              " (779, 781),\n",
              " (789, 791),\n",
              " (791, 793),\n",
              " (813, 815),\n",
              " (815, 817),\n",
              " (849, 851),\n",
              " (869, 871),\n",
              " (893, 895),\n",
              " (899, 901),\n",
              " (949, 951),\n",
              " (959, 961),\n",
              " (993, 995),\n",
              " (1055, 1057),\n",
              " (1057, 1059),\n",
              " (1077, 1079),\n",
              " (1079, 1081),\n",
              " (1099, 1101),\n",
              " (1119, 1121),\n",
              " (1133, 1135),\n",
              " (1135, 1137),\n",
              " (1139, 1141),\n",
              " (1145, 1147),\n",
              " (1147, 1149),\n",
              " (1157, 1159),\n",
              " (1165, 1167),\n",
              " (1167, 1169),\n",
              " (1189, 1191),\n",
              " (1203, 1205),\n",
              " (1205, 1207),\n",
              " (1241, 1243),\n",
              " (1253, 1255),\n",
              " (1255, 1257),\n",
              " (1271, 1273),\n",
              " (1313, 1315),\n",
              " (1315, 1317),\n",
              " (1337, 1339),\n",
              " (1343, 1345),\n",
              " (1347, 1349),\n",
              " (1349, 1351),\n",
              " (1355, 1357),\n",
              " (1369, 1371),\n",
              " (1383, 1385),\n",
              " (1385, 1387),\n",
              " (1387, 1389),\n",
              " (1389, 1391),\n",
              " (1391, 1393),\n",
              " (1403, 1405),\n",
              " (1415, 1417),\n",
              " (1507, 1509),\n",
              " (1527, 1529),\n",
              " (1535, 1537),\n",
              " (1561, 1563),\n",
              " (1563, 1565),\n",
              " (1589, 1591),\n",
              " (1631, 1633),\n",
              " (1639, 1641),\n",
              " (1649, 1651),\n",
              " (1671, 1673),\n",
              " (1679, 1681),\n",
              " (1685, 1687),\n",
              " (1687, 1689),\n",
              " (1689, 1691),\n",
              " (1711, 1713),\n",
              " (1763, 1765),\n",
              " (1779, 1781),\n",
              " (1793, 1795),\n",
              " (1795, 1797),\n",
              " (1797, 1799),\n",
              " (1817, 1819),\n",
              " (1819, 1821),\n",
              " (1835, 1837),\n",
              " (1839, 1841),\n",
              " (1841, 1843),\n",
              " (1849, 1851),\n",
              " (1851, 1853),\n",
              " (1891, 1893),\n",
              " (1895, 1897),\n",
              " (1919, 1921),\n",
              " (1921, 1923),\n",
              " (1927, 1929),\n",
              " (1937, 1939),\n",
              " (1939, 1941),\n",
              " (1943, 1945),\n",
              " (1957, 1959),\n",
              " (1959, 1961),\n",
              " (1961, 1963),\n",
              " (1967, 1969),\n",
              " (1983, 1985),\n",
              " (2019, 2021),\n",
              " (2031, 2033),\n",
              " (2045, 2047),\n",
              " (2047, 2049),\n",
              " (2049, 2051),\n",
              " (2071, 2073),\n",
              " (2103, 2105),\n",
              " (2117, 2119),\n",
              " (2147, 2149),\n",
              " (2155, 2157),\n",
              " (2157, 2159),\n",
              " (2165, 2167),\n",
              " (2171, 2173),\n",
              " (2189, 2191),\n",
              " (2199, 2201),\n",
              " (2215, 2217),\n",
              " (2227, 2229),\n",
              " (2229, 2231),\n",
              " (2283, 2285),\n",
              " (2315, 2317),\n",
              " (2317, 2319),\n",
              " (2319, 2321),\n",
              " (2321, 2323),\n",
              " (2327, 2329),\n",
              " (2359, 2361),\n",
              " (2427, 2429),\n",
              " (2453, 2455),\n",
              " (2469, 2471),\n",
              " (2479, 2481),\n",
              " (2481, 2483),\n",
              " (2487, 2489),\n",
              " (2489, 2491),\n",
              " (2495, 2497),\n",
              " (2507, 2509),\n",
              " (2513, 2515),\n",
              " (2515, 2517),\n",
              " (2559, 2561),\n",
              " (2561, 2563),\n",
              " (2567, 2569),\n",
              " (2569, 2571),\n",
              " (2571, 2573),\n",
              " (2587, 2589),\n",
              " (2603, 2605),\n",
              " (2627, 2629),\n",
              " (2629, 2631),\n",
              " (2649, 2651),\n",
              " (2651, 2653),\n",
              " (2757, 2759),\n",
              " (2759, 2761),\n",
              " (2771, 2773),\n",
              " (2785, 2787),\n",
              " (2807, 2809),\n",
              " (2809, 2811),\n",
              " (2811, 2813),\n",
              " (2813, 2815),\n",
              " (2839, 2841),\n",
              " (2867, 2869),\n",
              " (2899, 2901),\n",
              " (2911, 2913),\n",
              " (2921, 2923),\n",
              " (2929, 2931),\n",
              " (2931, 2933),\n",
              " (2933, 2935),\n",
              " (2947, 2949),\n",
              " (2949, 2951),\n",
              " (2981, 2983),\n",
              " (2991, 2993),\n",
              " (2993, 2995),\n",
              " (3005, 3007),\n",
              " (3027, 3029),\n",
              " (3029, 3031),\n",
              " (3063, 3065),\n",
              " (3071, 3073),\n",
              " (3091, 3093),\n",
              " (3093, 3095),\n",
              " (3095, 3097),\n",
              " (3099, 3101),\n",
              " (3101, 3103),\n",
              " (3131, 3133),\n",
              " (3147, 3149),\n",
              " (3149, 3151),\n",
              " (3151, 3153),\n",
              " (3153, 3155),\n",
              " (3197, 3199),\n",
              " (3205, 3207),\n",
              " (3233, 3235),\n",
              " (3239, 3241),\n",
              " (3261, 3263),\n",
              " (3263, 3265),\n",
              " (3277, 3279),\n",
              " (3279, 3281),\n",
              " (3291, 3293),\n",
              " (3293, 3295),\n",
              " (3349, 3351),\n",
              " (3351, 3353),\n",
              " (3377, 3379),\n",
              " (3383, 3385),\n",
              " (3401, 3403),\n",
              " (3419, 3421),\n",
              " (3437, 3439),\n",
              " (3453, 3455),\n",
              " (3487, 3489),\n",
              " (3503, 3505),\n",
              " (3521, 3523),\n",
              " (3543, 3545),\n",
              " (3561, 3563),\n",
              " (3587, 3589),\n",
              " (3599, 3601),\n",
              " (3639, 3641),\n",
              " (3647, 3649),\n",
              " (3649, 3651),\n",
              " (3651, 3653),\n",
              " (3665, 3667),\n",
              " (3667, 3669),\n",
              " (3711, 3713),\n",
              " (3713, 3715),\n",
              " (3747, 3749),\n",
              " (3785, 3787),\n",
              " (3809, 3811),\n",
              " (3827, 3829),\n",
              " (3829, 3831),\n",
              " (3837, 3839),\n",
              " (3839, 3841),\n",
              " (3867, 3869),\n",
              " (3891, 3893),\n",
              " (3899, 3901),\n",
              " (3935, 3937),\n",
              " (3959, 3961),\n",
              " (3961, 3963),\n",
              " (3977, 3979),\n",
              " (3979, 3981),\n",
              " (3981, 3983),\n",
              " (3983, 3985),\n",
              " (4031, 4033),\n",
              " (4037, 4039),\n",
              " (4043, 4045),\n",
              " (4061, 4063),\n",
              " (4101, 4103),\n",
              " (4103, 4105),\n",
              " (4115, 4117),\n",
              " (4117, 4119),\n",
              " (4119, 4121),\n",
              " (4141, 4143),\n",
              " (4143, 4145),\n",
              " (4169, 4171),\n",
              " (4181, 4183),\n",
              " (4187, 4189),\n",
              " (4193, 4195),\n",
              " (4195, 4197),\n",
              " (4247, 4249),\n",
              " (4265, 4267),\n",
              " (4267, 4269),\n",
              " (4279, 4281),\n",
              " (4307, 4309),\n",
              " (4313, 4315),\n",
              " (4315, 4317),\n",
              " (4317, 4319),\n",
              " (4319, 4321),\n",
              " (4331, 4333),\n",
              " (4341, 4343),\n",
              " (4351, 4353),\n",
              " (4367, 4369),\n",
              " (4377, 4379),\n",
              " (4379, 4381),\n",
              " (4385, 4387),\n",
              " (4411, 4413),\n",
              " (4415, 4417),\n",
              " (4427, 4429),\n",
              " (4467, 4469),\n",
              " (4469, 4471),\n",
              " (4487, 4489),\n",
              " (4497, 4499),\n",
              " (4499, 4501),\n",
              " (4529, 4531),\n",
              " (4531, 4533),\n",
              " (4535, 4537),\n",
              " (4553, 4555),\n",
              " (4569, 4571),\n",
              " (4571, 4573),\n",
              " (4577, 4579),\n",
              " (4607, 4609),\n",
              " (4627, 4629),\n",
              " (4629, 4631),\n",
              " (4631, 4633),\n",
              " (4645, 4647),\n",
              " (4659, 4661),\n",
              " (4685, 4687),\n",
              " (4699, 4701),\n",
              " (4709, 4711),\n",
              " (4711, 4713),\n",
              " (4735, 4737),\n",
              " (4737, 4739),\n",
              " (4739, 4741),\n",
              " (4747, 4749),\n",
              " (4763, 4765),\n",
              " (4769, 4771),\n",
              " (4819, 4821),\n",
              " (4827, 4829),\n",
              " (4835, 4837),\n",
              " (4837, 4839),\n",
              " (4839, 4841),\n",
              " (4841, 4843),\n",
              " (4847, 4849),\n",
              " (4853, 4855),\n",
              " (4855, 4857),\n",
              " (4857, 4859),\n",
              " (4883, 4885),\n",
              " (4979, 4981),\n",
              " (5027, 5029),\n",
              " (5063, 5065),\n",
              " (5069, 5071),\n",
              " (5089, 5091),\n",
              " (5091, 5093),\n",
              " (5093, 5095),\n",
              " (5095, 5097),\n",
              " (5127, 5129),\n",
              " (5129, 5131),\n",
              " (5141, 5143),\n",
              " (5161, 5163),\n",
              " (5163, 5165),\n",
              " (5199, 5201),\n",
              " (5219, 5221),\n",
              " (5221, 5223),\n",
              " (5249, 5251),\n",
              " (5255, 5257),\n",
              " (5257, 5259),\n",
              " (5267, 5269),\n",
              " (5315, 5317),\n",
              " (5327, 5329),\n",
              " (5329, 5331),\n",
              " (5357, 5359),\n",
              " (5359, 5361),\n",
              " (5361, 5363),\n",
              " (5401, 5403),\n",
              " (5433, 5435),\n",
              " (5459, 5461),\n",
              " (5513, 5515),\n",
              " (5539, 5541),\n",
              " (5541, 5543),\n",
              " (5543, 5545),\n",
              " (5583, 5585),\n",
              " (5585, 5587),\n",
              " (5597, 5599),\n",
              " (5599, 5601),\n",
              " (5609, 5611),\n",
              " (5611, 5613),\n",
              " (5613, 5615),\n",
              " (5615, 5617),\n",
              " (5617, 5619),\n",
              " (5627, 5629),\n",
              " (5629, 5631),\n",
              " (5631, 5633),\n",
              " (5729, 5731),\n",
              " (5753, 5755),\n",
              " (5759, 5761),\n",
              " (5765, 5767),\n",
              " (5771, 5773),\n",
              " (5891, 5893),\n",
              " (5909, 5911),\n",
              " (5917, 5919),\n",
              " (5919, 5921),\n",
              " (5933, 5935),\n",
              " (5935, 5937),\n",
              " (5959, 5961),\n",
              " (5961, 5963),\n",
              " (5963, 5965),\n",
              " (5969, 5971),\n",
              " (5977, 5979),\n",
              " (5989, 5991),\n",
              " (5991, 5993),\n",
              " (5999, 6001),\n",
              " (6017, 6019),\n",
              " (6031, 6033),\n",
              " (6049, 6051),\n",
              " (6085, 6087),\n",
              " (6107, 6109),\n",
              " (6115, 6117),\n",
              " (6117, 6119),\n",
              " (6155, 6157),\n",
              " (6159, 6161),\n",
              " (6167, 6169),\n",
              " (6179, 6181),\n",
              " (6185, 6187),\n",
              " (6187, 6189),\n",
              " (6189, 6191),\n",
              " (6191, 6193),\n",
              " (6207, 6209),\n",
              " (6239, 6241),\n",
              " (6243, 6245),\n",
              " (6259, 6261),\n",
              " (6281, 6283),\n",
              " (6295, 6297),\n",
              " (6331, 6333),\n",
              " (6339, 6341),\n",
              " (6347, 6349),\n",
              " (6383, 6385),\n",
              " (6385, 6387),\n",
              " (6393, 6395),\n",
              " (6401, 6403),\n",
              " (6429, 6431),\n",
              " (6431, 6433),\n",
              " (6437, 6439),\n",
              " (6443, 6445),\n",
              " (6455, 6457),\n",
              " (6483, 6485),\n",
              " (6485, 6487),\n",
              " (6497, 6499),\n",
              " (6503, 6505),\n",
              " (6509, 6511),\n",
              " (6533, 6535),\n",
              " (6535, 6537),\n",
              " (6537, 6539),\n",
              " (6539, 6541),\n",
              " (6557, 6559),\n",
              " (6587, 6589),\n",
              " (6593, 6595),\n",
              " (6609, 6611),\n",
              " (6611, 6613),\n",
              " (6621, 6623),\n",
              " (6629, 6631),\n",
              " (6639, 6641),\n",
              " (6729, 6731),\n",
              " (6749, 6751),\n",
              " (6751, 6753),\n",
              " (6767, 6769),\n",
              " (6797, 6799),\n",
              " (6799, 6801),\n",
              " (6805, 6807),\n",
              " (6807, 6809),\n",
              " (6817, 6819),\n",
              " (6819, 6821),\n",
              " (6879, 6881),\n",
              " (6887, 6889),\n",
              " (6889, 6891),\n",
              " (6891, 6893),\n",
              " (6931, 6933),\n",
              " (6941, 6943),\n",
              " (7031, 7033),\n",
              " (7051, 7053),\n",
              " (7061, 7063),\n",
              " (7071, 7073),\n",
              " (7091, 7093),\n",
              " (7097, 7099),\n",
              " (7111, 7113),\n",
              " (7115, 7117),\n",
              " (7131, 7133),\n",
              " (7133, 7135),\n",
              " (7143, 7145),\n",
              " (7145, 7147),\n",
              " (7147, 7149),\n",
              " (7167, 7169),\n",
              " (7169, 7171),\n",
              " (7179, 7181),\n",
              " (7181, 7183),\n",
              " (7195, 7197),\n",
              " (7197, 7199),\n",
              " (7199, 7201),\n",
              " (7231, 7233),\n",
              " (7249, 7251),\n",
              " (7269, 7271),\n",
              " (7271, 7273),\n",
              " (7277, 7279),\n",
              " (7289, 7291),\n",
              " (7311, 7313),\n",
              " (7339, 7341),\n",
              " (7355, 7357),\n",
              " (7361, 7363),\n",
              " (7377, 7379),\n",
              " (7403, 7405),\n",
              " (7419, 7421),\n",
              " (7421, 7423),\n",
              " (7439, 7441),\n",
              " (7445, 7447),\n",
              " (7463, 7465),\n",
              " (7493, 7495),\n",
              " (7613, 7615),\n",
              " (7615, 7617),\n",
              " (7617, 7619),\n",
              " (7627, 7629),\n",
              " (7629, 7631),\n",
              " (7631, 7633),\n",
              " (7651, 7653),\n",
              " (7653, 7655),\n",
              " (7661, 7663),\n",
              " (7709, 7711),\n",
              " (7737, 7739),\n",
              " (7745, 7747),\n",
              " (7763, 7765),\n",
              " (7769, 7771),\n",
              " (7771, 7773),\n",
              " (7779, 7781),\n",
              " (7781, 7783),\n",
              " (7799, 7801),\n",
              " (7811, 7813),\n",
              " (7835, 7837),\n",
              " (7849, 7851),\n",
              " (7859, 7861),\n",
              " (7895, 7897),\n",
              " (7897, 7899),\n",
              " (7913, 7915),\n",
              " (7939, 7941),\n",
              " (7967, 7969),\n",
              " (7969, 7971),\n",
              " (7979, 7981),\n",
              " (7989, 7991),\n",
              " (7997, 7999),\n",
              " (8003, 8005),\n",
              " (8021, 8023),\n",
              " (8031, 8033),\n",
              " (8033, 8035),\n",
              " (8045, 8047),\n",
              " (8047, 8049),\n",
              " (8049, 8051),\n",
              " (8061, 8063),\n",
              " (8063, 8065),\n",
              " (8065, 8067),\n",
              " (8077, 8079),\n",
              " (8095, 8097),\n",
              " (8119, 8121),\n",
              " (8129, 8131),\n",
              " (8131, 8133),\n",
              " (8133, 8135),\n",
              " (8135, 8137),\n",
              " (8137, 8139),\n",
              " (8139, 8141),\n",
              " (8141, 8143),\n",
              " (8187, 8189),\n",
              " (8201, 8203),\n",
              " (8247, 8249),\n",
              " (8249, 8251),\n",
              " (8259, 8261),\n",
              " (8299, 8301),\n",
              " (8331, 8333),\n",
              " (8333, 8335),\n",
              " (8339, 8341),\n",
              " (8345, 8347),\n",
              " (8357, 8359),\n",
              " (8371, 8373),\n",
              " (8399, 8401),\n",
              " (8407, 8409),\n",
              " (8409, 8411),\n",
              " (8411, 8413),\n",
              " (8471, 8473),\n",
              " (8483, 8485),\n",
              " (8489, 8491),\n",
              " (8495, 8497),\n",
              " (8497, 8499),\n",
              " (8507, 8509),\n",
              " (8509, 8511),\n",
              " (8529, 8531),\n",
              " (8549, 8551),\n",
              " (8551, 8553),\n",
              " (8603, 8605),\n",
              " (8615, 8617),\n",
              " (8637, 8639),\n",
              " (8651, 8653),\n",
              " (8657, 8659),\n",
              " (8659, 8661),\n",
              " (8709, 8711),\n",
              " (8749, 8751),\n",
              " (8765, 8767),\n",
              " (8795, 8797),\n",
              " (8857, 8859),\n",
              " (8871, 8873),\n",
              " (8879, 8881),\n",
              " (8889, 8891),\n",
              " (8907, 8909),\n",
              " (8913, 8915),\n",
              " (8915, 8917),\n",
              " (8945, 8947),\n",
              " (8981, 8983),\n",
              " (9003, 9005),\n",
              " (9017, 9019),\n",
              " (9031, 9033),\n",
              " (9053, 9055),\n",
              " (9055, 9057),\n",
              " (9069, 9071),\n",
              " (9071, 9073),\n",
              " (9077, 9079),\n",
              " (9111, 9113),\n",
              " (9113, 9115),\n",
              " (9119, 9121),\n",
              " (9121, 9123),\n",
              " (9147, 9149),\n",
              " (9167, 9169),\n",
              " (9233, 9235),\n",
              " (9235, 9237),\n",
              " (9247, 9249),\n",
              " (9287, 9289),\n",
              " (9299, 9301),\n",
              " (9305, 9307),\n",
              " (9327, 9329),\n",
              " (9353, 9355),\n",
              " (9355, 9357),\n",
              " (9363, 9365),\n",
              " (9383, 9385),\n",
              " (9407, 9409),\n",
              " (9409, 9411),\n",
              " (9449, 9451),\n",
              " (9487, 9489),\n",
              " (9505, 9507),\n",
              " (9507, 9509),\n",
              " (9527, 9529),\n",
              " (9561, 9563),\n",
              " (9563, 9565),\n",
              " (9569, 9571),\n",
              " (9571, 9573),\n",
              " (9607, 9609),\n",
              " (9609, 9611),\n",
              " (9663, 9665),\n",
              " (9665, 9667),\n",
              " (9671, 9673),\n",
              " (9701, 9703),\n",
              " (9753, 9755),\n",
              " (9755, 9757),\n",
              " (9757, 9759),\n",
              " (9759, 9761),\n",
              " (9761, 9763),\n",
              " (9771, 9773),\n",
              " (9797, 9799),\n",
              " (9863, 9865),\n",
              " (9893, 9895),\n",
              " (9895, 9897),\n",
              " (9897, 9899),\n",
              " (9935, 9937),\n",
              " (9937, 9939),\n",
              " (9957, 9959),\n",
              " (9959, 9961),\n",
              " (9977, 9979),\n",
              " (9983, 9985),\n",
              " (9985, 9987),\n",
              " (9987, 9989),\n",
              " (9989, 9991),\n",
              " (9991, 9993),\n",
              " (9993, 9995),\n",
              " (9995, 9997),\n",
              " (10001, 10003),\n",
              " (10019, 10021),\n",
              " (10027, 10029),\n",
              " (10029, 10031),\n",
              " (10031, 10033),\n",
              " (10055, 10057),\n",
              " (10081, 10083),\n",
              " (10083, 10085),\n",
              " (10117, 10119),\n",
              " (10119, 10121),\n",
              " (10121, 10123),\n",
              " (10145, 10147),\n",
              " (10171, 10173),\n",
              " (10187, 10189),\n",
              " (10217, 10219),\n",
              " (10219, 10221),\n",
              " (10229, 10231),\n",
              " (10237, 10239),\n",
              " (10277, 10279),\n",
              " (10297, 10299),\n",
              " (10345, 10347),\n",
              " (10347, 10349),\n",
              " (10349, 10351),\n",
              " (10361, 10363),\n",
              " (10379, 10381),\n",
              " (10381, 10383),\n",
              " (10401, 10403),\n",
              " (10403, 10405),\n",
              " (10405, 10407),\n",
              " (10407, 10409),\n",
              " (10409, 10411),\n",
              " (10415, 10417),\n",
              " (10421, 10423),\n",
              " (10445, 10447),\n",
              " (10471, 10473),\n",
              " (10481, 10483),\n",
              " (10493, 10495),\n",
              " (10495, 10497),\n",
              " (10517, 10519),\n",
              " (10541, 10543),\n",
              " (10551, 10553),\n",
              " (10553, 10555),\n",
              " (10577, 10579),\n",
              " (10579, 10581),\n",
              " (10581, 10583),\n",
              " (10641, 10643),\n",
              " (10643, 10645),\n",
              " (10669, 10671),\n",
              " (10671, 10673),\n",
              " (10677, 10679),\n",
              " (10679, 10681),\n",
              " (10697, 10699),\n",
              " (10713, 10715),\n",
              " (10715, 10717),\n",
              " (10741, 10743),\n",
              " (10747, 10749),\n",
              " (10749, 10751),\n",
              " (10763, 10765),\n",
              " (10777, 10779),\n",
              " (10805, 10807),\n",
              " (10811, 10813),\n",
              " (10817, 10819),\n",
              " (10819, 10821),\n",
              " (10821, 10823),\n",
              " (10839, 10841),\n",
              " (10841, 10843),\n",
              " (10849, 10851),\n",
              " (10869, 10871),\n",
              " (10871, 10873),\n",
              " (10893, 10895),\n",
              " (10895, 10897),\n",
              " (10911, 10913),\n",
              " (10919, 10921),\n",
              " (10929, 10931),\n",
              " (10961, 10963),\n",
              " (10967, 10969),\n",
              " (10997, 10999),\n",
              " (11013, 11015),\n",
              " (11015, 11017),\n",
              " (11017, 11019),\n",
              " (11019, 11021),\n",
              " (11021, 11023),\n",
              " (11029, 11031),\n",
              " (11051, 11053),\n",
              " (11089, 11091),\n",
              " (11099, 11101),\n",
              " (11101, 11103),\n",
              " (11103, 11105),\n",
              " (11105, 11107),\n",
              " (11127, 11129),\n",
              " (11141, 11143),\n",
              " (11179, 11181),\n",
              " (11181, 11183),\n",
              " (11183, 11185),\n",
              " (11199, 11201),\n",
              " (11201, 11203),\n",
              " (11207, 11209),\n",
              " (11215, 11217),\n",
              " (11217, 11219),\n",
              " (11231, 11233),\n",
              " (11267, 11269),\n",
              " (11281, 11283),\n",
              " (11291, 11293),\n",
              " (11301, 11303),\n",
              " (11307, 11309),\n",
              " (11333, 11335),\n",
              " (11335, 11337),\n",
              " (11345, 11347),\n",
              " (11357, 11359),\n",
              " (11363, 11365),\n",
              " (11377, 11379),\n",
              " (11379, 11381),\n",
              " (11387, 11389),\n",
              " (11389, 11391),\n",
              " (11459, 11461),\n",
              " (11461, 11463),\n",
              " (11463, 11465),\n",
              " (11477, 11479),\n",
              " (11507, 11509),\n",
              " (11531, 11533),\n",
              " (11537, 11539),\n",
              " (11539, 11541),\n",
              " (11553, 11555),\n",
              " (11559, 11561),\n",
              " (11561, 11563),\n",
              " (11567, 11569),\n",
              " (11589, 11591),\n",
              " (11629, 11631),\n",
              " (11639, 11641),\n",
              " (11641, 11643),\n",
              " (11651, 11653),\n",
              " (11663, 11665),\n",
              " (11665, 11667),\n",
              " (11667, 11669),\n",
              " (11669, 11671),\n",
              " (11693, 11695),\n",
              " (11705, 11707),\n",
              " (11721, 11723),\n",
              " (11733, 11735),\n",
              " (11747, 11749),\n",
              " (11749, 11751),\n",
              " (11755, 11757),\n",
              " (11757, 11759),\n",
              " (11759, 11761),\n",
              " (11769, 11771),\n",
              " (11771, 11773),\n",
              " (11785, 11787),\n",
              " (11791, 11793),\n",
              " (11841, 11843),\n",
              " (11855, 11857),\n",
              " (11879, 11881),\n",
              " (11899, 11901),\n",
              " (11915, 11917),\n",
              " (11945, 11947),\n",
              " (11963, 11965),\n",
              " (11965, 11967),\n",
              " (11993, 11995),\n",
              " (12001, 12003),\n",
              " (12021, 12023),\n",
              " (12029, 12031),\n",
              " (12053, 12055),\n",
              " (12055, 12057),\n",
              " (12057, 12059),\n",
              " (12059, 12061),\n",
              " (12061, 12063),\n",
              " (12077, 12079),\n",
              " (12079, 12081),\n",
              " (12081, 12083),\n",
              " (12083, 12085),\n",
              " (12131, 12133),\n",
              " (12137, 12139),\n",
              " (12151, 12153),\n",
              " (12169, 12171),\n",
              " (12179, 12181),\n",
              " (12185, 12187),\n",
              " (12191, 12193),\n",
              " (12217, 12219),\n",
              " (12233, 12235),\n",
              " (12235, 12237),\n",
              " (12271, 12273),\n",
              " (12293, 12295),\n",
              " (12295, 12297),\n",
              " (12311, 12313),\n",
              " (12317, 12319),\n",
              " (12333, 12335),\n",
              " (12359, 12361),\n",
              " (12365, 12367),\n",
              " (12385, 12387),\n",
              " (12387, 12389),\n",
              " (12417, 12419),\n",
              " (12459, 12461),\n",
              " (12469, 12471),\n",
              " (12521, 12523),\n",
              " (12531, 12533),\n",
              " (12557, 12559),\n",
              " (12603, 12605),\n",
              " (12605, 12607),\n",
              " (12629, 12631),\n",
              " (12631, 12633),\n",
              " (12655, 12657),\n",
              " (12677, 12679),\n",
              " (12693, 12695),\n",
              " (12707, 12709),\n",
              " (12729, 12731),\n",
              " (12759, 12761),\n",
              " (12767, 12769),\n",
              " (12777, 12779),\n",
              " (12783, 12785),\n",
              " (12785, 12787),\n",
              " (12811, 12813),\n",
              " (12817, 12819),\n",
              " (12847, 12849),\n",
              " (12849, 12851),\n",
              " (12867, 12869),\n",
              " (12869, 12871),\n",
              " (12881, 12883),\n",
              " (12929, 12931),\n",
              " (12989, 12991),\n",
              " (13017, 13019),\n",
              " (13019, 13021),\n",
              " (13045, 13047),\n",
              " (13067, 13069),\n",
              " (13069, 13071),\n",
              " (13071, 13073),\n",
              " (13085, 13087),\n",
              " (13087, 13089),\n",
              " (13117, 13119),\n",
              " (13139, 13141),\n",
              " (13191, 13193),\n",
              " (13199, 13201),\n",
              " (13211, 13213),\n",
              " (13261, 13263),\n",
              " (13271, 13273),\n",
              " (13283, 13285),\n",
              " (13301, 13303),\n",
              " (13385, 13387),\n",
              " (13391, 13393),\n",
              " (13427, 13429),\n",
              " (13493, 13495),\n",
              " (13517, 13519),\n",
              " (13529, 13531),\n",
              " (13541, 13543),\n",
              " (13607, 13609),\n",
              " (13637, 13639),\n",
              " (13643, 13645),\n",
              " (13655, 13657),\n",
              " (13661, 13663),\n",
              " (13703, 13705),\n",
              " (13745, 13747),\n",
              " (13811, 13813),\n",
              " (13817, 13819),\n",
              " (13835, 13837),\n",
              " (13847, 13849),\n",
              " (13943, 13945),\n",
              " (13955, 13957),\n",
              " (13985, 13987),\n",
              " (13991, 13993),\n",
              " (14015, 14017),\n",
              " (14021, 14023),\n",
              " (14039, 14041),\n",
              " (14093, 14095),\n",
              " (14099, 14101),\n",
              " (14111, 14113),\n",
              " (14117, 14119),\n",
              " (14129, 14131),\n",
              " (14165, 14167),\n",
              " (14183, 14185),\n",
              " (14189, 14191),\n",
              " (14201, 14203),\n",
              " (14213, 14215),\n",
              " (14237, 14239),\n",
              " (14255, 14257),\n",
              " (14261, 14263),\n",
              " (14267, 14269),\n",
              " (14309, 14311),\n",
              " (14351, 14353),\n",
              " (14381, 14383),\n",
              " (14393, 14395),\n",
              " (14471, 14473),\n",
              " (14483, 14485),\n",
              " (14507, 14509),\n",
              " (14513, 14515),\n",
              " (14567, 14569),\n",
              " (14579, 14581),\n",
              " (14585, 14587),\n",
              " (14597, 14599),\n",
              " (14609, 14611),\n",
              " (14687, 14689),\n",
              " (14693, 14695),\n",
              " (14789, 14791),\n",
              " (14855, 14857),\n",
              " (14987, 14989),\n",
              " (14999, 15001),\n",
              " (15005, 15007),\n",
              " (15047, 15049),\n",
              " (15095, 15097),\n",
              " (15203, 15205),\n",
              " (15221, 15223),\n",
              " (15245, 15247),\n",
              " (15251, 15253),\n",
              " (15395, 15397),\n",
              " (15419, 15421),\n",
              " (15479, 15481),\n",
              " (15545, 15547),\n",
              " (15593, 15595),\n",
              " (15611, 15613),\n",
              " (15701, 15703),\n",
              " (15707, 15709),\n",
              " (15719, 15721),\n",
              " (15779, 15781),\n",
              " (15833, 15835),\n",
              " (15869, 15871),\n",
              " (15929, 15931),\n",
              " (15941, 15943),\n",
              " (15947, 15949),\n",
              " (16013, 16015),\n",
              " (16019, 16021),\n",
              " (16043, 16045),\n",
              " (16049, 16051),\n",
              " (16079, 16081),\n",
              " (16145, 16147),\n",
              " (16151, 16153),\n",
              " (16199, 16201),\n",
              " (16241, 16243),\n",
              " (16277, 16279),\n",
              " (16283, 16285),\n",
              " (16295, 16297),\n",
              " (16307, 16309),\n",
              " ...]"
            ]
          },
          "metadata": {},
          "execution_count": 49
        }
      ]
    },
    {
      "cell_type": "code",
      "source": [
        "# The largest tuple\n",
        "sorted(common_elements_diff2)[-1]"
      ],
      "metadata": {
        "id": "wamTZstpOZa8",
        "colab": {
          "base_uri": "https://localhost:8080/",
          "height": 0
        },
        "outputId": "e6e9aed1-2f20-4dc5-e032-360d2f06ba36"
      },
      "execution_count": 51,
      "outputs": [
        {
          "output_type": "execute_result",
          "data": {
            "text/plain": [
              "(17131319, 17131321)"
            ]
          },
          "metadata": {},
          "execution_count": 51
        }
      ]
    }
  ],
  "metadata": {
    "accelerator": "TPU",
    "colab": {
      "provenance": []
    },
    "kernelspec": {
      "display_name": "Python 3",
      "name": "python3"
    },
    "language_info": {
      "name": "python"
    }
  },
  "nbformat": 4,
  "nbformat_minor": 0
}