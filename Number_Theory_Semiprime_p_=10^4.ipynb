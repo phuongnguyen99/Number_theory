{
  "cells": [
    {
      "cell_type": "code",
      "execution_count": null,
      "metadata": {
        "colab": {
          "base_uri": "https://localhost:8080/"
        },
        "id": "qhMrfVs87FF7",
        "outputId": "044b81c1-a938-4964-d555-3720ed13c93f"
      },
      "outputs": [
        {
          "output_type": "stream",
          "name": "stdout",
          "text": [
            "Drive already mounted at /content/drive; to attempt to forcibly remount, call drive.mount(\"/content/drive\", force_remount=True).\n"
          ]
        }
      ],
      "source": [
        "from google.colab import drive\n",
        "drive.mount('/content/drive')\n"
      ]
    },
    {
      "cell_type": "markdown",
      "source": [
        "## Data preprocessing"
      ],
      "metadata": {
        "id": "HmpCHwL_y_SN"
      }
    },
    {
      "cell_type": "markdown",
      "source": [
        "Extract first 10000 primes in the prime.txt\n",
        "\n",
        "\n"
      ],
      "metadata": {
        "id": "2Kyyf_3jy5sC"
      }
    },
    {
      "cell_type": "code",
      "execution_count": null,
      "metadata": {
        "id": "37SJVUg3bqSu"
      },
      "outputs": [],
      "source": [
        "# Import data by extracting 10000 primes in dataset primes.txt\n",
        "# Initialize an empty list to hold the elements\n",
        "elements_list = []\n",
        "\n",
        "# Open the file in read mode\n",
        "with open('/content/drive/MyDrive/primes.txt', 'r') as file:\n",
        "    # Use enumerate to get both line numbers and lines\n",
        "    for i, line in enumerate(file):\n",
        "\n",
        "        elements_list.append(line.strip())  # strip() removes any leading/trailing whitespace, including newlines\n",
        "        # Break the loop\n",
        "        if i == 9999:\n",
        "            break\n",
        "\n",
        "my_list1 = [int(item) for item in elements_list]\n"
      ]
    },
    {
      "cell_type": "code",
      "source": [
        "# The length of first 10000 primes array\n",
        "len(my_list1)"
      ],
      "metadata": {
        "colab": {
          "base_uri": "https://localhost:8080/"
        },
        "id": "qCmsX-elQ9cU",
        "outputId": "7e1577b8-db47-4c78-d09b-8ecc6c83d508"
      },
      "execution_count": null,
      "outputs": [
        {
          "output_type": "execute_result",
          "data": {
            "text/plain": [
              "10000"
            ]
          },
          "metadata": {},
          "execution_count": 3
        }
      ]
    },
    {
      "cell_type": "code",
      "source": [
        "from tqdm import tqdm"
      ],
      "metadata": {
        "id": "qVTPK3owDQoi"
      },
      "execution_count": null,
      "outputs": []
    },
    {
      "cell_type": "code",
      "source": [
        "# The largest prime of the first 100000 primes\n",
        "my_list1[-1]"
      ],
      "metadata": {
        "colab": {
          "base_uri": "https://localhost:8080/"
        },
        "id": "ZO3wjm8GK76S",
        "outputId": "ea729476-f8c1-433a-c277-e54ff8f17615"
      },
      "execution_count": null,
      "outputs": [
        {
          "output_type": "execute_result",
          "data": {
            "text/plain": [
              "104729"
            ]
          },
          "metadata": {},
          "execution_count": 5
        }
      ]
    },
    {
      "cell_type": "markdown",
      "source": [
        "Multiply 10,000 primes with itself"
      ],
      "metadata": {
        "id": "_cYvZyVwesWU"
      }
    },
    {
      "cell_type": "code",
      "source": [
        "data = set()\n",
        "for x in tqdm(my_list1):\n",
        "  for y in my_list1:\n",
        "    data.add(x*y)"
      ],
      "metadata": {
        "colab": {
          "base_uri": "https://localhost:8080/"
        },
        "id": "TU2aS0s1D4uc",
        "outputId": "308d0f5b-805c-4962-cf17-ebc54746e128"
      },
      "execution_count": null,
      "outputs": [
        {
          "output_type": "stream",
          "name": "stderr",
          "text": [
            "100%|██████████| 10000/10000 [01:24<00:00, 118.94it/s]\n"
          ]
        }
      ]
    },
    {
      "cell_type": "markdown",
      "source": [
        "Sort the data in an ascending order"
      ],
      "metadata": {
        "id": "F55dJsFnYaIV"
      }
    },
    {
      "cell_type": "code",
      "source": [
        "data = sorted(list(data))\n",
        "print(data[:50])"
      ],
      "metadata": {
        "colab": {
          "base_uri": "https://localhost:8080/"
        },
        "id": "xrFVy4GwFQ_t",
        "outputId": "c0575ec0-8fd3-4759-cb28-666f3b9c9485"
      },
      "execution_count": null,
      "outputs": [
        {
          "output_type": "stream",
          "name": "stdout",
          "text": [
            "[4, 6, 9, 10, 14, 15, 21, 22, 25, 26, 33, 34, 35, 38, 39, 46, 49, 51, 55, 57, 58, 62, 65, 69, 74, 77, 82, 85, 86, 87, 91, 93, 94, 95, 106, 111, 115, 118, 119, 121, 122, 123, 129, 133, 134, 141, 142, 143, 145, 146]\n"
          ]
        }
      ]
    },
    {
      "cell_type": "markdown",
      "source": [
        "## Computational part"
      ],
      "metadata": {
        "id": "gLVkuD-JYxXo"
      }
    },
    {
      "cell_type": "markdown",
      "source": [
        "Compute the primes triplest with gap 2-4 and gap 4-2, i.e (p, p+2, p+6) and (p, p+4, p+6) respectively where p is semi-prime"
      ],
      "metadata": {
        "id": "7tSGkp0d3Nkb"
      }
    },
    {
      "cell_type": "code",
      "source": [
        "def compute_prime_triplet(chunk):\n",
        "    chunk = sorted(chunk)\n",
        "    num_diff24 = num_diff42 = 0\n",
        "    common_elements_diff24 = []\n",
        "    common_elements_diff42 = []\n",
        "\n",
        "    # Check triplets directly within chunk\n",
        "    for i in range(len(chunk) - 2):\n",
        "        # Extract current triplet\n",
        "        current_triplet = (chunk[i], chunk[i + 1], chunk[i + 2])\n",
        "\n",
        "        # Calculate differences between consecutive elements\n",
        "        diff1 = chunk[i + 1] - chunk[i]\n",
        "        diff2 = chunk[i + 2] - chunk[i + 1]\n",
        "\n",
        "        # Check for pattern 2-4\n",
        "        if diff1 == 2 and diff2 == 4:\n",
        "            num_diff24 += 1\n",
        "            common_elements_diff24.append(current_triplet)\n",
        "\n",
        "        # Check for pattern 4-2\n",
        "        elif diff1 == 4 and diff2 == 2:\n",
        "            num_diff42 += 1\n",
        "            common_elements_diff42.append(current_triplet)\n",
        "\n",
        "    return num_diff24, num_diff42, common_elements_diff24, common_elements_diff42"
      ],
      "metadata": {
        "id": "-T1_9T6VloHv"
      },
      "execution_count": null,
      "outputs": []
    },
    {
      "cell_type": "markdown",
      "source": [
        "## Numerical results"
      ],
      "metadata": {
        "id": "JiTGTAOHYziB"
      }
    },
    {
      "cell_type": "code",
      "source": [
        "num_diff24_v1, num_diff42_v1, common_elements_diff24_v1, common_elements_diff42_v1 = compute_prime_triplet(data)\n"
      ],
      "metadata": {
        "id": "AEOKpAhtQzCR"
      },
      "execution_count": null,
      "outputs": []
    },
    {
      "cell_type": "markdown",
      "source": [
        "The number of prime triplets (p, p+2, p+6) for p <= 10^4\n"
      ],
      "metadata": {
        "id": "qkes80cLY4NA"
      }
    },
    {
      "cell_type": "code",
      "source": [
        "num_diff24_v1"
      ],
      "metadata": {
        "colab": {
          "base_uri": "https://localhost:8080/"
        },
        "id": "KdVwoE72_WwO",
        "outputId": "a16a734b-5ccd-4365-faf6-f1d7b047f001"
      },
      "execution_count": null,
      "outputs": [
        {
          "output_type": "execute_result",
          "data": {
            "text/plain": [
              "47542"
            ]
          },
          "metadata": {},
          "execution_count": 10
        }
      ]
    },
    {
      "cell_type": "code",
      "source": [
        "sorted(common_elements_diff24_v1)[:10]"
      ],
      "metadata": {
        "colab": {
          "base_uri": "https://localhost:8080/"
        },
        "id": "SFQ9KXa5ZAVv",
        "outputId": "099ff75f-c7b5-4c26-b1ed-e5aee982bd8d"
      },
      "execution_count": null,
      "outputs": [
        {
          "output_type": "execute_result",
          "data": {
            "text/plain": [
              "[(49, 51, 55),\n",
              " (247, 249, 253),\n",
              " (289, 291, 295),\n",
              " (303, 305, 309),\n",
              " (527, 529, 533),\n",
              " (679, 681, 685),\n",
              " (779, 781, 785),\n",
              " (899, 901, 905),\n",
              " (949, 951, 955),\n",
              " (959, 961, 965)]"
            ]
          },
          "metadata": {},
          "execution_count": 11
        }
      ]
    },
    {
      "cell_type": "markdown",
      "source": [
        "The largest prime triplet (p,p+2,p+6) for p<=10^4"
      ],
      "metadata": {
        "id": "6F176JpbZPpE"
      }
    },
    {
      "cell_type": "code",
      "source": [
        "max(sorted(common_elements_diff24_v1))"
      ],
      "metadata": {
        "colab": {
          "base_uri": "https://localhost:8080/"
        },
        "id": "E111NjIHZJUx",
        "outputId": "04428755-9843-4b16-e3aa-a74d516c28ed"
      },
      "execution_count": null,
      "outputs": [
        {
          "output_type": "execute_result",
          "data": {
            "text/plain": [
              "(10352415917, 10352415919, 10352415923)"
            ]
          },
          "metadata": {},
          "execution_count": 12
        }
      ]
    },
    {
      "cell_type": "markdown",
      "source": [
        "The number of prime triplets (p, p+4, p+6) for p <= 10^4\n"
      ],
      "metadata": {
        "id": "m97l03vGZbZ0"
      }
    },
    {
      "cell_type": "code",
      "source": [
        "num_diff42_v1"
      ],
      "metadata": {
        "colab": {
          "base_uri": "https://localhost:8080/"
        },
        "id": "zztXVmM9RCot",
        "outputId": "9d50247d-2770-44d9-9be7-5fcdf75f794e"
      },
      "execution_count": null,
      "outputs": [
        {
          "output_type": "execute_result",
          "data": {
            "text/plain": [
              "47552"
            ]
          },
          "metadata": {},
          "execution_count": 13
        }
      ]
    },
    {
      "cell_type": "code",
      "source": [
        "sorted(common_elements_diff42_v1)[:10]"
      ],
      "metadata": {
        "colab": {
          "base_uri": "https://localhost:8080/"
        },
        "id": "AOxyE9-q_YZ7",
        "outputId": "69fcf94a-4b9e-4d08-f50e-4aec150dead5"
      },
      "execution_count": null,
      "outputs": [
        {
          "output_type": "execute_result",
          "data": {
            "text/plain": [
              "[(51, 55, 57),\n",
              " (87, 91, 93),\n",
              " (335, 339, 341),\n",
              " (407, 411, 413),\n",
              " (447, 451, 453),\n",
              " (529, 533, 535),\n",
              " (681, 685, 687),\n",
              " (749, 753, 755),\n",
              " (785, 789, 791),\n",
              " (889, 893, 895)]"
            ]
          },
          "metadata": {},
          "execution_count": 14
        }
      ]
    },
    {
      "cell_type": "markdown",
      "source": [
        "The largest prime triplet (p,p+4,p+6) for p <= 10^4\n",
        "\n"
      ],
      "metadata": {
        "id": "y4fxcYh5ZhI_"
      }
    },
    {
      "cell_type": "code",
      "source": [
        "max(sorted(common_elements_diff42_v1))"
      ],
      "metadata": {
        "colab": {
          "base_uri": "https://localhost:8080/"
        },
        "id": "GqMgJhY2_k1m",
        "outputId": "10a5dc29-e8d3-40b4-ec3a-cb8cd2b78d1b"
      },
      "execution_count": null,
      "outputs": [
        {
          "output_type": "execute_result",
          "data": {
            "text/plain": [
              "(8956913683, 8956913687, 8956913689)"
            ]
          },
          "metadata": {},
          "execution_count": 15
        }
      ]
    },
    {
      "cell_type": "markdown",
      "source": [
        "Compute the primes triplest with gap 1-2 and gap 2-1, i.e (p, p+1, p+3) and (p, p+2, p+3) respectively where p is semi-prime"
      ],
      "metadata": {
        "id": "ht_itthBj9S_"
      }
    },
    {
      "cell_type": "code",
      "source": [
        "def compute_semiprime_triplets_v2(chunk):\n",
        "    chunk = sorted(chunk)\n",
        "    num_diff12= num_diff21= 0\n",
        "    common_elements_diff12 = []\n",
        "    common_elements_diff21 = []\n",
        "\n",
        "    # Check triplets directly within chunk\n",
        "    for i in range(len(chunk) - 2):\n",
        "        # Extract current triplet\n",
        "        current_triplet = (chunk[i], chunk[i + 1], chunk[i + 2])\n",
        "\n",
        "        # Calculate differences between consecutive elements\n",
        "        diff1 = chunk[i + 1] - chunk[i]\n",
        "        diff2 = chunk[i + 2] - chunk[i + 1]\n",
        "\n",
        "        # Check for pattern 2-4\n",
        "        if diff1 == 1 and diff2 == 2:\n",
        "            num_diff12 += 1\n",
        "            common_elements_diff12.append(current_triplet)\n",
        "\n",
        "        # Check for pattern 4-2\n",
        "        elif diff1 == 2 and diff2 == 1:\n",
        "            num_diff21 += 1\n",
        "            common_elements_diff21.append(current_triplet)\n",
        "\n",
        "    return num_diff12, num_diff21, common_elements_diff12, common_elements_diff21"
      ],
      "metadata": {
        "id": "K2HL6bxXj4tl"
      },
      "execution_count": null,
      "outputs": []
    },
    {
      "cell_type": "code",
      "source": [
        "num_diff12, num_diff21, common_elements_diff12, common_elements_diff21 = compute_semiprime_triplets_v2(data)"
      ],
      "metadata": {
        "id": "MWSv86hBkk3S"
      },
      "execution_count": null,
      "outputs": []
    },
    {
      "cell_type": "markdown",
      "source": [
        "The number of semi-prime triplets (p, p+1, p+3)"
      ],
      "metadata": {
        "id": "9Jb5DNgbLFEv"
      }
    },
    {
      "cell_type": "code",
      "source": [
        "num_diff12"
      ],
      "metadata": {
        "colab": {
          "base_uri": "https://localhost:8080/"
        },
        "id": "DO58h0VJl59S",
        "outputId": "6c6b8890-b50c-4c00-b0e9-663a58c1b32e"
      },
      "execution_count": null,
      "outputs": [
        {
          "output_type": "execute_result",
          "data": {
            "text/plain": [
              "1248"
            ]
          },
          "metadata": {},
          "execution_count": 18
        }
      ]
    },
    {
      "cell_type": "code",
      "source": [
        "sorted(common_elements_diff12)[:5]"
      ],
      "metadata": {
        "colab": {
          "base_uri": "https://localhost:8080/"
        },
        "id": "wvw-rv1FmYB-",
        "outputId": "cc6430af-8d33-4411-83bd-b91b6ad9bc7b"
      },
      "execution_count": null,
      "outputs": [
        {
          "output_type": "execute_result",
          "data": {
            "text/plain": [
              "[(118, 119, 121),\n",
              " (142, 143, 145),\n",
              " (158, 159, 161),\n",
              " (202, 203, 205),\n",
              " (214, 215, 217)]"
            ]
          },
          "metadata": {},
          "execution_count": 19
        }
      ]
    },
    {
      "cell_type": "markdown",
      "source": [
        "The largest prime triplet (p,p+1,p+3) for p <= 10^4"
      ],
      "metadata": {
        "id": "GarP6kw0WCGO"
      }
    },
    {
      "cell_type": "code",
      "source": [
        "max(sorted(common_elements_diff12))"
      ],
      "metadata": {
        "colab": {
          "base_uri": "https://localhost:8080/"
        },
        "id": "dkVHhMYqNUjt",
        "outputId": "b2124ba9-91e2-47c4-9150-cdca89c9ee56"
      },
      "execution_count": null,
      "outputs": [
        {
          "output_type": "execute_result",
          "data": {
            "text/plain": [
              "(209098, 209099, 209101)"
            ]
          },
          "metadata": {},
          "execution_count": 21
        }
      ]
    },
    {
      "cell_type": "markdown",
      "source": [
        "The number of semi-prime triplets (p, p+2, p+3)"
      ],
      "metadata": {
        "id": "58rW-jHNLLgT"
      }
    },
    {
      "cell_type": "code",
      "source": [
        "num_diff21"
      ],
      "metadata": {
        "colab": {
          "base_uri": "https://localhost:8080/"
        },
        "id": "iRsIwH3ZmLWc",
        "outputId": "1753cdd3-17e9-4e42-fb27-53fcbeb4c644"
      },
      "execution_count": null,
      "outputs": [
        {
          "output_type": "execute_result",
          "data": {
            "text/plain": [
              "1277"
            ]
          },
          "metadata": {},
          "execution_count": 22
        }
      ]
    },
    {
      "cell_type": "code",
      "source": [
        "sorted(common_elements_diff21)[:5]"
      ],
      "metadata": {
        "colab": {
          "base_uri": "https://localhost:8080/"
        },
        "id": "5Wlt4YMjms3j",
        "outputId": "7041c08c-5456-451a-e199-8b1f644ee9e2"
      },
      "execution_count": null,
      "outputs": [
        {
          "output_type": "execute_result",
          "data": {
            "text/plain": [
              "[(55, 57, 58), (91, 93, 94), (119, 121, 122), (143, 145, 146), (203, 205, 206)]"
            ]
          },
          "metadata": {},
          "execution_count": 23
        }
      ]
    },
    {
      "cell_type": "markdown",
      "source": [
        "The largest prime triplet (p,p+2,p+3) for p <= 10^4"
      ],
      "metadata": {
        "id": "1EmHHjhHV8mG"
      }
    },
    {
      "cell_type": "code",
      "source": [
        "max(sorted(common_elements_diff21))"
      ],
      "metadata": {
        "colab": {
          "base_uri": "https://localhost:8080/"
        },
        "id": "smwmKFz3NSAo",
        "outputId": "85a9327c-4bef-4c63-f130-5c3800fbb599"
      },
      "execution_count": null,
      "outputs": [
        {
          "output_type": "execute_result",
          "data": {
            "text/plain": [
              "(209411, 209413, 209414)"
            ]
          },
          "metadata": {},
          "execution_count": 25
        }
      ]
    }
  ],
  "metadata": {
    "accelerator": "TPU",
    "colab": {
      "provenance": []
    },
    "kernelspec": {
      "display_name": "Python 3",
      "name": "python3"
    },
    "language_info": {
      "name": "python"
    }
  },
  "nbformat": 4,
  "nbformat_minor": 0
}