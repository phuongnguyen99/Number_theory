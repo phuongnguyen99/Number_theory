{
  "cells": [
    {
      "cell_type": "markdown",
      "metadata": {
        "id": "view-in-github",
        "colab_type": "text"
      },
      "source": [
        "<a href=\"https://colab.research.google.com/github/phuongnguyen99/Number_theory/blob/main/Nunber_Theory_SemiPrime.ipynb\" target=\"_parent\"><img src=\"https://colab.research.google.com/assets/colab-badge.svg\" alt=\"Open In Colab\"/></a>"
      ]
    },
    {
      "cell_type": "code",
      "execution_count": 1,
      "metadata": {
        "colab": {
          "base_uri": "https://localhost:8080/"
        },
        "id": "qhMrfVs87FF7",
        "outputId": "d584bb65-e23a-4e1a-90e9-faae4f15a982"
      },
      "outputs": [
        {
          "output_type": "stream",
          "name": "stdout",
          "text": [
            "Mounted at /content/drive\n"
          ]
        }
      ],
      "source": [
        "from google.colab import drive\n",
        "drive.mount('/content/drive')\n"
      ]
    },
    {
      "cell_type": "markdown",
      "source": [
        "## Data preprocessing"
      ],
      "metadata": {
        "id": "HmpCHwL_y_SN"
      }
    },
    {
      "cell_type": "markdown",
      "source": [
        "Extract first 10000 primes in the prime.txt*\n",
        "\n",
        "\n"
      ],
      "metadata": {
        "id": "2Kyyf_3jy5sC"
      }
    },
    {
      "cell_type": "code",
      "execution_count": 2,
      "metadata": {
        "id": "37SJVUg3bqSu"
      },
      "outputs": [],
      "source": [
        "# Import data by extracting 10000 primes in dataset primes.txt\n",
        "# Initialize an empty list to hold the elements\n",
        "elements_list = []\n",
        "\n",
        "# Open the file in read mode\n",
        "with open('/content/drive/MyDrive/primes.txt', 'r') as file:\n",
        "    # Use enumerate to get both line numbers and lines\n",
        "    for i, line in enumerate(file):\n",
        "\n",
        "        elements_list.append(line.strip())  # strip() removes any leading/trailing whitespace, including newlines\n",
        "        # Break the loop\n",
        "        if i == 9999:\n",
        "            break\n",
        "\n",
        "my_list1 = [int(item) for item in elements_list]\n"
      ]
    },
    {
      "cell_type": "code",
      "source": [
        "# The length of first 10000 primes array\n",
        "len(my_list1)"
      ],
      "metadata": {
        "colab": {
          "base_uri": "https://localhost:8080/"
        },
        "id": "qCmsX-elQ9cU",
        "outputId": "9965f16f-289e-413f-bd64-08f8ffa21b43"
      },
      "execution_count": 3,
      "outputs": [
        {
          "output_type": "execute_result",
          "data": {
            "text/plain": [
              "10000"
            ]
          },
          "metadata": {},
          "execution_count": 3
        }
      ]
    },
    {
      "cell_type": "code",
      "source": [
        "# The largest prime of the first 10000 primes\n",
        "my_list1[-1]"
      ],
      "metadata": {
        "colab": {
          "base_uri": "https://localhost:8080/"
        },
        "id": "ZO3wjm8GK76S",
        "outputId": "d5b792a4-ce1a-4259-b556-9cb044d6a90c"
      },
      "execution_count": 4,
      "outputs": [
        {
          "output_type": "execute_result",
          "data": {
            "text/plain": [
              "104729"
            ]
          },
          "metadata": {},
          "execution_count": 4
        }
      ]
    },
    {
      "cell_type": "markdown",
      "source": [
        "Extract next 5000 primes in the prime.txt\n"
      ],
      "metadata": {
        "id": "thkqlixUzW28"
      }
    },
    {
      "cell_type": "code",
      "source": [
        "# Initialize an empty list to hold the next 5000 prime\n",
        "elements_list_next_5000 = []\n",
        "\n",
        "# Open the file in read mode\n",
        "with open('/content/drive/MyDrive/primes.txt', 'r') as file:\n",
        "    # Use enumerate to get both line numbers and lines\n",
        "    for i, line in enumerate(file):\n",
        "        # Start appending after the first 10000 primes\n",
        "        if i >= 10000:  # Skip the first 10000 lines\n",
        "            elements_list_next_5000.append(line.strip())\n",
        "\n",
        "        # Break the loop\n",
        "        if i == 14999:  # 14999 because enumeration starts at 0\n",
        "            break\n",
        "\n",
        "# Convert list items to integers\n",
        "my_list2 = [int(item) for item in elements_list_next_5000]\n"
      ],
      "metadata": {
        "id": "jnGqeNV0KoTe"
      },
      "execution_count": 5,
      "outputs": []
    },
    {
      "cell_type": "code",
      "source": [
        "# Check the length\n",
        "len(my_list2)"
      ],
      "metadata": {
        "colab": {
          "base_uri": "https://localhost:8080/"
        },
        "id": "WtrRPBHRQ3pI",
        "outputId": "0df131c6-8b84-44ef-f670-da9e91f8c159"
      },
      "execution_count": 6,
      "outputs": [
        {
          "output_type": "execute_result",
          "data": {
            "text/plain": [
              "5000"
            ]
          },
          "metadata": {},
          "execution_count": 6
        }
      ]
    },
    {
      "cell_type": "code",
      "source": [
        "# The largest prime of the first 15000 primes\n",
        "my_list2[-1]"
      ],
      "metadata": {
        "colab": {
          "base_uri": "https://localhost:8080/"
        },
        "id": "kpHz7MaiJ-lh",
        "outputId": "0505a4e1-809d-4c8c-d199-e031a79f4288"
      },
      "execution_count": 56,
      "outputs": [
        {
          "output_type": "execute_result",
          "data": {
            "text/plain": [
              "163841"
            ]
          },
          "metadata": {},
          "execution_count": 56
        }
      ]
    },
    {
      "cell_type": "markdown",
      "source": [
        "Extract more next 5000 primes in the prime.txt\n"
      ],
      "metadata": {
        "id": "58w0a6tH0oH7"
      }
    },
    {
      "cell_type": "code",
      "source": [
        "# Initialize an empty list to hold the next 5000 prime\n",
        "elements_list_next_5000_v1 = []\n",
        "\n",
        "# Open the file in read mode\n",
        "with open('/content/drive/MyDrive/primes.txt', 'r') as file:\n",
        "    # Use enumerate to get both line numbers and lines\n",
        "    for i, line in enumerate(file):\n",
        "        # Start appending after the first 15000 primes\n",
        "        if i >= 15000:  # Skip the first 15000 lines\n",
        "            elements_list_next_5000_v1.append(line.strip())\n",
        "\n",
        "        # Break the loop\n",
        "        if i == 19999:  # 14999 because enumeration starts at 0\n",
        "            break\n",
        "\n",
        "# Convert list items to integers\n",
        "my_list3 = [int(item) for item in  elements_list_next_5000_v1]"
      ],
      "metadata": {
        "id": "Ek19PK4mstb7"
      },
      "execution_count": 8,
      "outputs": []
    },
    {
      "cell_type": "code",
      "source": [
        "# Check the length of the array\n",
        "len(my_list3)"
      ],
      "metadata": {
        "colab": {
          "base_uri": "https://localhost:8080/"
        },
        "id": "2mR1PCp7s-iq",
        "outputId": "6ec005dd-40db-4f28-ecb8-0480e5807afb"
      },
      "execution_count": 9,
      "outputs": [
        {
          "output_type": "execute_result",
          "data": {
            "text/plain": [
              "5000"
            ]
          },
          "metadata": {},
          "execution_count": 9
        }
      ]
    },
    {
      "cell_type": "code",
      "source": [
        "# The largest prime of the  the first 20000 primes\n",
        "my_list3[-1]"
      ],
      "metadata": {
        "colab": {
          "base_uri": "https://localhost:8080/"
        },
        "id": "AYGN9XTWtAFr",
        "outputId": "9f3c2e4e-daac-4b94-fccf-2fe316c83c8a"
      },
      "execution_count": 10,
      "outputs": [
        {
          "output_type": "execute_result",
          "data": {
            "text/plain": [
              "[163847, 163853, 163859, 163861, 163871]"
            ]
          },
          "metadata": {},
          "execution_count": 10
        }
      ]
    },
    {
      "cell_type": "markdown",
      "source": [
        "#### Create the semi-prime lists"
      ],
      "metadata": {
        "id": "jTO5lwIT05me"
      }
    },
    {
      "cell_type": "markdown",
      "source": [
        "The product of first 10000 primes with itself"
      ],
      "metadata": {
        "id": "vIdWEnDP1CTq"
      }
    },
    {
      "cell_type": "code",
      "execution_count": 12,
      "metadata": {
        "id": "AmnuDUI6hCfN"
      },
      "outputs": [],
      "source": [
        "# Generate the product of first 10000 primes with themselves and then sort the products in ascending order\n",
        "products_v1 = [a * b for a in my_list1 for b in my_list1]\n",
        "results_v1 = list(dict.fromkeys(products_v1))\n",
        "# sort the result\n",
        "sorted_results_v1 = sorted(results_v1)\n"
      ]
    },
    {
      "cell_type": "markdown",
      "source": [
        "The product of next 5000 primes with itself\n"
      ],
      "metadata": {
        "id": "dfha3R1g1BQe"
      }
    },
    {
      "cell_type": "code",
      "source": [
        "# Generate the product of next 10000 primes with themselves and then sort the products in ascending order\n",
        "products_v2 = [a * b for a in my_list2 for b in my_list2]\n",
        "next_results = list(dict.fromkeys(products_v2))\n",
        "# sort the result\n",
        "sorted_results_v2 = sorted(next_results)\n",
        "\n",
        "\n"
      ],
      "metadata": {
        "id": "UHX92nN9TRsQ"
      },
      "execution_count": 13,
      "outputs": []
    },
    {
      "cell_type": "markdown",
      "source": [
        "The product of next 5000 primes with itself\n"
      ],
      "metadata": {
        "id": "QR4Ns-f21ORU"
      }
    },
    {
      "cell_type": "code",
      "source": [
        "# Generate the product of next 10000 primes with themselves and then sort the products in ascending order\n",
        "products_v3 = [a * b for a in my_list3 for b in my_list3]\n",
        "next_results = list(dict.fromkeys(products_v3))\n",
        "# sort the result\n",
        "sorted_results_v3 = sorted(next_results)\n",
        "\n",
        "\n"
      ],
      "metadata": {
        "id": "0Iqwz1aOtWx7"
      },
      "execution_count": 14,
      "outputs": []
    },
    {
      "cell_type": "code",
      "source": [
        "# The length of our data after multiplying 100000 prime numbers with themselves\n",
        "len(sorted_results_v1)"
      ],
      "metadata": {
        "colab": {
          "base_uri": "https://localhost:8080/"
        },
        "id": "fVBNtYwAD__8",
        "outputId": "4eb43a6a-935d-43ac-934c-2818e6528876"
      },
      "execution_count": 15,
      "outputs": [
        {
          "output_type": "execute_result",
          "data": {
            "text/plain": [
              "50005000"
            ]
          },
          "metadata": {},
          "execution_count": 15
        }
      ]
    },
    {
      "cell_type": "code",
      "source": [
        "# The length of our data after multiplying 50000 prime numbers with themselves\n",
        "len(sorted_results_v2)"
      ],
      "metadata": {
        "colab": {
          "base_uri": "https://localhost:8080/"
        },
        "id": "BLz3tzPFpEBO",
        "outputId": "0b0bf2bc-ff0f-4fa4-9c12-757a2acbaecb"
      },
      "execution_count": 16,
      "outputs": [
        {
          "output_type": "execute_result",
          "data": {
            "text/plain": [
              "12502500"
            ]
          },
          "metadata": {},
          "execution_count": 16
        }
      ]
    },
    {
      "cell_type": "code",
      "source": [
        "# The length of our data after multiplying 50000 prime numbers with themselves\n",
        "len(sorted_results_v3)"
      ],
      "metadata": {
        "colab": {
          "base_uri": "https://localhost:8080/"
        },
        "id": "G-nvpm5vtfMT",
        "outputId": "faf1b1a4-40b2-4d30-c3f7-8a2f665b2b46"
      },
      "execution_count": 17,
      "outputs": [
        {
          "output_type": "execute_result",
          "data": {
            "text/plain": [
              "12502500"
            ]
          },
          "metadata": {},
          "execution_count": 17
        }
      ]
    },
    {
      "cell_type": "code",
      "source": [
        "# Check for what is the largest number of the products\n",
        "max(sorted_results_v1)"
      ],
      "metadata": {
        "colab": {
          "base_uri": "https://localhost:8080/"
        },
        "id": "DPuBSCzxqZJI",
        "outputId": "e0ecd61f-73fa-4a51-89d0-bb87748b057f"
      },
      "execution_count": 19,
      "outputs": [
        {
          "output_type": "execute_result",
          "data": {
            "text/plain": [
              "10968163441"
            ]
          },
          "metadata": {},
          "execution_count": 19
        }
      ]
    },
    {
      "cell_type": "code",
      "source": [
        "max(sorted_results_v2)"
      ],
      "metadata": {
        "colab": {
          "base_uri": "https://localhost:8080/"
        },
        "id": "xgZ_49GpWYer",
        "outputId": "adabc79a-8e89-4b89-e87c-f2aa73a23c3a"
      },
      "execution_count": 20,
      "outputs": [
        {
          "output_type": "execute_result",
          "data": {
            "text/plain": [
              "26843873281"
            ]
          },
          "metadata": {},
          "execution_count": 20
        }
      ]
    },
    {
      "cell_type": "code",
      "source": [
        "max(sorted_results_v3)"
      ],
      "metadata": {
        "colab": {
          "base_uri": "https://localhost:8080/"
        },
        "id": "KE-HJ_-Sud9g",
        "outputId": "d989e8eb-859f-4a27-8de7-a0e460557c38"
      },
      "execution_count": 21,
      "outputs": [
        {
          "output_type": "execute_result",
          "data": {
            "text/plain": [
              "50506719169"
            ]
          },
          "metadata": {},
          "execution_count": 21
        }
      ]
    },
    {
      "cell_type": "markdown",
      "source": [
        " Divide data into smaller chunks for faster computation"
      ],
      "metadata": {
        "id": "dUur_8PE1gJP"
      }
    },
    {
      "cell_type": "code",
      "execution_count": 22,
      "metadata": {
        "id": "QCnyxVxvFDYU"
      },
      "outputs": [],
      "source": [
        "# This function is to divide the data of product of primes into equivalent chunks. Dividing dataset into smaller chunks helps our algorithm run faster\n",
        "def divide_input(input_list):\n",
        "    # The total length of the input list\n",
        "    total_length = len(input_list)\n",
        "\n",
        "    # The size of each chunk\n",
        "    chunk_size = total_length // 10\n",
        "\n",
        "    # List to hold all the chunks\n",
        "    chunks = []\n",
        "\n",
        "    for i in range(0, total_length, chunk_size):\n",
        "        # Append chunks to the list\n",
        "        chunks.append(input_list[i:i + chunk_size])\n",
        "\n",
        "    return chunks"
      ]
    },
    {
      "cell_type": "code",
      "source": [
        "chunks_v1 = divide_input(sorted_results_v1)"
      ],
      "metadata": {
        "id": "D8fYCeAhgoXA"
      },
      "execution_count": 23,
      "outputs": []
    },
    {
      "cell_type": "code",
      "source": [
        "len(chunks_v1)"
      ],
      "metadata": {
        "colab": {
          "base_uri": "https://localhost:8080/"
        },
        "id": "R7Gb8E4bSudF",
        "outputId": "00dcfccc-07e6-444f-deff-b06e4d42bc70"
      },
      "execution_count": 24,
      "outputs": [
        {
          "output_type": "execute_result",
          "data": {
            "text/plain": [
              "10"
            ]
          },
          "metadata": {},
          "execution_count": 24
        }
      ]
    },
    {
      "cell_type": "code",
      "source": [
        "chunks_v2 = divide_input(sorted_results_v2)"
      ],
      "metadata": {
        "id": "4UmJMOegWeob"
      },
      "execution_count": 25,
      "outputs": []
    },
    {
      "cell_type": "code",
      "source": [
        "chunks_v3 = divide_input(sorted_results_v3)"
      ],
      "metadata": {
        "id": "7fA0q5lyZ4a6"
      },
      "execution_count": 26,
      "outputs": []
    },
    {
      "cell_type": "markdown",
      "source": [
        "### Numerical Computation part"
      ],
      "metadata": {
        "id": "TVdm-B3_1oXH"
      }
    },
    {
      "cell_type": "markdown",
      "source": [
        "Compute the semi primes tuples with gap 1 and gap 2, i.e (n, n+1) and (n, n+2) for n is semi-prime"
      ],
      "metadata": {
        "id": "owBOfHNT1ylH"
      }
    },
    {
      "cell_type": "code",
      "source": [
        "def process_chunk_optimized(chunk1):\n",
        "    chunk1_set = set(chunk1)  # Convert to set for efficient lookups\n",
        "\n",
        "    # Initialize counters\n",
        "    num_diff1 = 0\n",
        "    num_diff2 = 0\n",
        "    common_elements_diff1 = set()\n",
        "    common_elements_diff2 = set()\n",
        "\n",
        "    # Directly compute pairs with differences of 1 and 2\n",
        "    for elem in chunk1:\n",
        "        if (elem + 1) in chunk1_set:\n",
        "            num_diff1 += 1\n",
        "            common_elements_diff1.add((elem, elem + 1))\n",
        "        if (elem + 2) in chunk1_set:\n",
        "            num_diff2 += 1\n",
        "            common_elements_diff2.add((elem, elem + 2))\n",
        "\n",
        "    return num_diff1, num_diff2, common_elements_diff1, common_elements_diff2"
      ],
      "metadata": {
        "id": "oA6eS_OODhqK"
      },
      "execution_count": 27,
      "outputs": []
    },
    {
      "cell_type": "code",
      "source": [
        "# Compute the tuple with gap of 1 and gap of 2 for the product of first 10000 primes with itsefl\n",
        "num_gap1_v1 = 0\n",
        "num_gap2_v1 = 0\n",
        "common_elements_gap1_v1= []\n",
        "common_elements_gap2_v1 = []\n",
        "for i in range(len(chunks_v1)):\n",
        "    num_tuple_diff1_chunk1, num_tuple_diff2_chunk1, common_elements_diff11, common_elements_diff22 = process_chunk_optimized(chunks_v1[i])\n",
        "    num_gap1_v1 += num_tuple_diff1_chunk1\n",
        "    num_gap2_v1 += num_tuple_diff2_chunk1\n",
        "    common_elements_gap1_v1 += common_elements_diff11\n",
        "    common_elements_gap2_v1 += common_elements_diff22\n",
        "\n"
      ],
      "metadata": {
        "id": "vo4r-EoWFODA"
      },
      "execution_count": 28,
      "outputs": []
    },
    {
      "cell_type": "code",
      "source": [
        "# Number of tuples whose difference is 1 in the product of first 10000 primes\n",
        "num_gap1_v1"
      ],
      "metadata": {
        "colab": {
          "base_uri": "https://localhost:8080/"
        },
        "id": "Fk8gB6GqFlk7",
        "outputId": "78a859a2-82e0-4541-8101-1de3d1614a7e"
      },
      "execution_count": 29,
      "outputs": [
        {
          "output_type": "execute_result",
          "data": {
            "text/plain": [
              "5934"
            ]
          },
          "metadata": {},
          "execution_count": 29
        }
      ]
    },
    {
      "cell_type": "code",
      "source": [
        "# Number of tuples whose difference is 2 in the product of first 10000 primes\n",
        "num_gap2_v1"
      ],
      "metadata": {
        "colab": {
          "base_uri": "https://localhost:8080/"
        },
        "id": "fLFGIP5MFU4t",
        "outputId": "62c2838e-6df8-4641-8cff-990c333c5037"
      },
      "execution_count": 30,
      "outputs": [
        {
          "output_type": "execute_result",
          "data": {
            "text/plain": [
              "801321"
            ]
          },
          "metadata": {},
          "execution_count": 30
        }
      ]
    },
    {
      "cell_type": "code",
      "source": [
        "# View the first few tuple with gap 1 in the product of first 10000 primes\n",
        "sorted(common_elements_gap1_v1)[:20]"
      ],
      "metadata": {
        "colab": {
          "base_uri": "https://localhost:8080/"
        },
        "id": "iv2Hkvj_aLAt",
        "outputId": "ced452fa-024e-4d24-89a8-fa7131d8ff2a"
      },
      "execution_count": 68,
      "outputs": [
        {
          "output_type": "execute_result",
          "data": {
            "text/plain": [
              "[(9, 10),\n",
              " (14, 15),\n",
              " (21, 22),\n",
              " (25, 26),\n",
              " (33, 34),\n",
              " (34, 35),\n",
              " (38, 39),\n",
              " (57, 58),\n",
              " (85, 86),\n",
              " (86, 87),\n",
              " (93, 94),\n",
              " (94, 95),\n",
              " (118, 119),\n",
              " (121, 122),\n",
              " (122, 123),\n",
              " (133, 134),\n",
              " (141, 142),\n",
              " (142, 143),\n",
              " (145, 146),\n",
              " (158, 159)]"
            ]
          },
          "metadata": {},
          "execution_count": 68
        }
      ]
    },
    {
      "cell_type": "code",
      "source": [
        "# View the first few tuple with gap 2 in the product of first 10000 primes\n",
        "sorted(common_elements_gap2_v1)[:20]"
      ],
      "metadata": {
        "colab": {
          "base_uri": "https://localhost:8080/"
        },
        "id": "esdPdluaMPSC",
        "outputId": "72f13314-5149-4a49-c34e-641b3e1aa21f"
      },
      "execution_count": 69,
      "outputs": [
        {
          "output_type": "execute_result",
          "data": {
            "text/plain": [
              "[(4, 6),\n",
              " (33, 35),\n",
              " (49, 51),\n",
              " (55, 57),\n",
              " (85, 87),\n",
              " (91, 93),\n",
              " (93, 95),\n",
              " (119, 121),\n",
              " (121, 123),\n",
              " (141, 143),\n",
              " (143, 145),\n",
              " (159, 161),\n",
              " (183, 185),\n",
              " (185, 187),\n",
              " (201, 203),\n",
              " (203, 205),\n",
              " (213, 215),\n",
              " (215, 217),\n",
              " (217, 219),\n",
              " (219, 221)]"
            ]
          },
          "metadata": {},
          "execution_count": 69
        }
      ]
    },
    {
      "cell_type": "code",
      "source": [
        "# Compute the tuple with gap of 1 and gap of 2 for the product of next 5000 primes with itsefl\n",
        "num_gap1_v2 = 0\n",
        "num_gap2_v2 = 0\n",
        "common_elements_gap1_v2= []\n",
        "common_elements_gap2_v2 = []\n",
        "for i in range(len(chunks_v2)):\n",
        "    num_tuple_diff1_chunk1, num_tuple_diff2_chunk1, common_elements_diff11, common_elements_diff22 = process_chunk_optimized(chunks_v2[i])\n",
        "    num_gap1_v2 += num_tuple_diff1_chunk1\n",
        "    num_gap2_v2 += num_tuple_diff2_chunk1\n",
        "    common_elements_gap1_v2 += common_elements_diff11\n",
        "    common_elements_gap2_v2 += common_elements_diff22\n",
        "\n",
        "\n"
      ],
      "metadata": {
        "id": "Q2IpzZzZasvz"
      },
      "execution_count": 33,
      "outputs": []
    },
    {
      "cell_type": "code",
      "source": [
        "# Number of tuples whose difference is 1 in the product of next 5000 primes\n",
        "num_gap1_v2"
      ],
      "metadata": {
        "colab": {
          "base_uri": "https://localhost:8080/"
        },
        "id": "fPUDwT4TbDaj",
        "outputId": "1ebe76ce-be05-44f3-fba1-7895465cd127"
      },
      "execution_count": 34,
      "outputs": [
        {
          "output_type": "execute_result",
          "data": {
            "text/plain": [
              "0"
            ]
          },
          "metadata": {},
          "execution_count": 34
        }
      ]
    },
    {
      "cell_type": "code",
      "source": [
        "# Number of tuples  whose difference is 2 in the product of next 5000 primes\n",
        "num_gap2_v2"
      ],
      "metadata": {
        "colab": {
          "base_uri": "https://localhost:8080/"
        },
        "id": "BZHwgRmdbl9I",
        "outputId": "e6154780-a70a-4f39-810b-10e3e4340557"
      },
      "execution_count": 35,
      "outputs": [
        {
          "output_type": "execute_result",
          "data": {
            "text/plain": [
              "17338"
            ]
          },
          "metadata": {},
          "execution_count": 35
        }
      ]
    },
    {
      "cell_type": "code",
      "source": [
        "# View the first few tuple with gap 2 in the product of next 5000 primes\n",
        "sorted(common_elements_gap2_v2)[:20]"
      ],
      "metadata": {
        "colab": {
          "base_uri": "https://localhost:8080/"
        },
        "id": "oKIAe-TwiHVB",
        "outputId": "6b526152-1c0c-4f84-dc64-863e172b7bc3"
      },
      "execution_count": 67,
      "outputs": [
        {
          "output_type": "execute_result",
          "data": {
            "text/plain": [
              "[(11092901927, 11092901929),\n",
              " (11287996661, 11287996663),\n",
              " (11388719759, 11388719761),\n",
              " (11414926511, 11414926513),\n",
              " (11434020929, 11434020931),\n",
              " (11488195487, 11488195489),\n",
              " (11489153579, 11489153581),\n",
              " (11499175481, 11499175483),\n",
              " (11499987311, 11499987313),\n",
              " (11525940269, 11525940271),\n",
              " (11528899397, 11528899399),\n",
              " (11539688471, 11539688473),\n",
              " (11557134929, 11557134931),\n",
              " (11574486617, 11574486619),\n",
              " (11583902177, 11583902179),\n",
              " (11622215027, 11622215029),\n",
              " (11624594699, 11624594701),\n",
              " (11642967407, 11642967409),\n",
              " (11654030021, 11654030023),\n",
              " (11661050081, 11661050083)]"
            ]
          },
          "metadata": {},
          "execution_count": 67
        }
      ]
    },
    {
      "cell_type": "code",
      "source": [
        "# Compute the tuples with the gap of 1 and gap of 2 for the product of next more 5000 primes with itsefl\n",
        "\n",
        "num_gap1_v3 = 0\n",
        "num_gap2_v3 = 0\n",
        "common_elements_gap1_v3= []\n",
        "common_elements_gap2_v3 = []\n",
        "for i in range(len(chunks_v3)):\n",
        "    num_tuple_diff1_chunk1, num_tuple_diff2_chunk1, common_elements_diff11, common_elements_diff22 = process_chunk_optimized(chunks_v3[i])\n",
        "    num_gap1_v3 += num_tuple_diff1_chunk1\n",
        "    num_gap2_v3 += num_tuple_diff2_chunk1\n",
        "    common_elements_gap1_v3 += common_elements_diff11\n",
        "    common_elements_gap2_v3 += common_elements_diff22\n",
        "\n"
      ],
      "metadata": {
        "id": "a72zq02TwSqW"
      },
      "execution_count": 39,
      "outputs": []
    },
    {
      "cell_type": "code",
      "source": [
        "print(num_gap1_v3)\n",
        "print(num_gap2_v3)"
      ],
      "metadata": {
        "colab": {
          "base_uri": "https://localhost:8080/"
        },
        "id": "CaKdyx1ewhog",
        "outputId": "cd5198f1-ad29-40a9-e016-71a02b0c0138"
      },
      "execution_count": 40,
      "outputs": [
        {
          "output_type": "stream",
          "name": "stdout",
          "text": [
            "0\n",
            "11795\n"
          ]
        }
      ]
    },
    {
      "cell_type": "code",
      "source": [
        "# View the first few tuple with gap 2 in the product of next 5000 primes\n",
        "sorted(common_elements_gap2_v3)[:20]"
      ],
      "metadata": {
        "colab": {
          "base_uri": "https://localhost:8080/"
        },
        "id": "BRUgrHS6wz29",
        "outputId": "0cbcebd6-eef9-4168-f4ca-73dff137ef1c"
      },
      "execution_count": 66,
      "outputs": [
        {
          "output_type": "execute_result",
          "data": {
            "text/plain": [
              "[(27416057441, 27416057443),\n",
              " (27504802691, 27504802693),\n",
              " (27605779007, 27605779009),\n",
              " (27792735587, 27792735589),\n",
              " (27909624287, 27909624289),\n",
              " (27938485691, 27938485693),\n",
              " (27980374547, 27980374549),\n",
              " (28052266901, 28052266903),\n",
              " (28066766489, 28066766491),\n",
              " (28074628889, 28074628891),\n",
              " (28076952521, 28076952523),\n",
              " (28095657761, 28095657763),\n",
              " (28102659899, 28102659901),\n",
              " (28125758117, 28125758119),\n",
              " (28157363321, 28157363323),\n",
              " (28164654251, 28164654253),\n",
              " (28186517237, 28186517239),\n",
              " (28188773069, 28188773071),\n",
              " (28222233539, 28222233541),\n",
              " (28236910157, 28236910159)]"
            ]
          },
          "metadata": {},
          "execution_count": 66
        }
      ]
    },
    {
      "cell_type": "code",
      "source": [
        "# Compute how many tuples in total with gap of 1 and 2 respectly in the product of 20000 primes with itself\n",
        "sum_num_gap1 = num_gap1_v1 + num_gap1_v2 + num_gap1_v3\n",
        "sum_num_gap2 = num_gap2_v1 + num_gap2_v2 + num_gap2_v3\n"
      ],
      "metadata": {
        "id": "j-SCeb8frRad"
      },
      "execution_count": 57,
      "outputs": []
    },
    {
      "cell_type": "markdown",
      "source": [
        "There are 5934 tuples which has gap of 1"
      ],
      "metadata": {
        "id": "AoQqo9Rz20_b"
      }
    },
    {
      "cell_type": "code",
      "source": [
        "sum_num_gap1"
      ],
      "metadata": {
        "id": "VfQ3aLx_rZ1e",
        "outputId": "0a36a35d-e2e1-47ed-f861-2eb75e4f949b",
        "colab": {
          "base_uri": "https://localhost:8080/"
        }
      },
      "execution_count": 58,
      "outputs": [
        {
          "output_type": "execute_result",
          "data": {
            "text/plain": [
              "5934"
            ]
          },
          "metadata": {},
          "execution_count": 58
        }
      ]
    },
    {
      "cell_type": "markdown",
      "source": [
        "There are 830454 tuples which has gap of 2"
      ],
      "metadata": {
        "id": "87Y72HaV3G7D"
      }
    },
    {
      "cell_type": "code",
      "source": [
        "sum_num_gap2"
      ],
      "metadata": {
        "id": "J-XrUdEVra5l",
        "outputId": "a9aaf45b-f74d-4a73-c99a-dbda52560d13",
        "colab": {
          "base_uri": "https://localhost:8080/"
        }
      },
      "execution_count": 59,
      "outputs": [
        {
          "output_type": "execute_result",
          "data": {
            "text/plain": [
              "830454"
            ]
          },
          "metadata": {},
          "execution_count": 59
        }
      ]
    },
    {
      "cell_type": "markdown",
      "source": [
        "Compute the semi primes tuples with gap 1-2 and gap 2-1, i.e (n, n+1, n+2) and (n, n+2, n+3) respectively where n is semi-prime"
      ],
      "metadata": {
        "id": "7tSGkp0d3Nkb"
      }
    },
    {
      "cell_type": "code",
      "source": [
        "def process_chunk_v2(chunk):\n",
        "    chunk = sorted(chunk)\n",
        "    num_diff12 = num_diff21 = 0\n",
        "    common_elements_diff12 = []\n",
        "    common_elements_diff21 = []\n",
        "\n",
        "    # Check triplets directly within chunk\n",
        "    for i in range(len(chunk) - 2):\n",
        "        # Extract current triplet\n",
        "        current_triplet = (chunk[i], chunk[i + 1], chunk[i + 2])\n",
        "\n",
        "        # Calculate differences between consecutive elements\n",
        "        diff1 = chunk[i + 1] - chunk[i]\n",
        "        diff2 = chunk[i + 2] - chunk[i + 1]\n",
        "\n",
        "        # Check for pattern 1-2\n",
        "        if diff1 == 1 and diff2 == 2:\n",
        "            num_diff12 += 1\n",
        "            common_elements_diff12.append(current_triplet)\n",
        "\n",
        "        # Check for pattern 2-1\n",
        "        elif diff1 == 2 and diff2 == 1:\n",
        "            num_diff21 += 1\n",
        "            common_elements_diff21.append(current_triplet)\n",
        "\n",
        "    return num_diff12, num_diff21, common_elements_diff12, common_elements_diff21"
      ],
      "metadata": {
        "id": "-T1_9T6VloHv"
      },
      "execution_count": 45,
      "outputs": []
    },
    {
      "cell_type": "code",
      "source": [
        "# Compute the number of tuples with the gap of pattern 1-2 and number of gap of pattern 2-1 for the product of first 10000 primes with itsefl\n",
        "num_gap12_v1= 0\n",
        "num_gap21_v1 = 0\n",
        "common_elements_gap12_v1 = []\n",
        "common_elements_gap21_v1 = []\n",
        "\n",
        "for i in range(len(chunks_v1)):\n",
        "    num_diff1, num_diff2, common_elements_diff12, common_elements_diff21 = process_chunk_v2(chunks_v1[i])\n",
        "    num_gap12_v1 += num_diff1\n",
        "    num_gap21_v1 += num_diff2\n",
        "    common_elements_gap12_v1 += common_elements_diff12\n",
        "    common_elements_gap21_v1 += common_elements_diff21\n",
        "\n",
        "\n",
        "\n",
        "\n"
      ],
      "metadata": {
        "id": "HNXbYAqkIKAb"
      },
      "execution_count": 46,
      "outputs": []
    },
    {
      "cell_type": "code",
      "source": [
        "# The number of the gap of pattern 1-2 in the product of first 10000 primes with itsefl\n",
        "num_gap12_v1"
      ],
      "metadata": {
        "colab": {
          "base_uri": "https://localhost:8080/"
        },
        "id": "BtSrw2a5JuCk",
        "outputId": "042e6b56-b78d-4759-93a7-7ae0c58a2b1e"
      },
      "execution_count": 47,
      "outputs": [
        {
          "output_type": "execute_result",
          "data": {
            "text/plain": [
              "1248"
            ]
          },
          "metadata": {},
          "execution_count": 47
        }
      ]
    },
    {
      "cell_type": "code",
      "source": [
        "# The number of the gap of pattern 2-1 in the product of first 10000 primes with itsefl\n",
        "num_gap21_v1"
      ],
      "metadata": {
        "colab": {
          "base_uri": "https://localhost:8080/"
        },
        "id": "ufYpin0wjdXl",
        "outputId": "a944effc-022e-4859-cdcb-2de4886deeae"
      },
      "execution_count": 48,
      "outputs": [
        {
          "output_type": "execute_result",
          "data": {
            "text/plain": [
              "1277"
            ]
          },
          "metadata": {},
          "execution_count": 48
        }
      ]
    },
    {
      "cell_type": "code",
      "source": [
        "# View the first few tuples with gap of pattern 1-2 in the the product of first 10000 primes with itsefl\n",
        "sorted(common_elements_gap12_v1)[:20]"
      ],
      "metadata": {
        "colab": {
          "base_uri": "https://localhost:8080/"
        },
        "id": "iPVtPe3IdMvz",
        "outputId": "5d09f9e3-1982-4fe0-8a00-5663117c4098"
      },
      "execution_count": 64,
      "outputs": [
        {
          "output_type": "execute_result",
          "data": {
            "text/plain": [
              "[(118, 119, 121),\n",
              " (142, 143, 145),\n",
              " (158, 159, 161),\n",
              " (202, 203, 205),\n",
              " (214, 215, 217),\n",
              " (218, 219, 221),\n",
              " (298, 299, 301),\n",
              " (302, 303, 305),\n",
              " (326, 327, 329),\n",
              " (514, 515, 517),\n",
              " (526, 527, 529),\n",
              " (542, 543, 545),\n",
              " (694, 695, 697),\n",
              " (778, 779, 781),\n",
              " (898, 899, 901),\n",
              " (958, 959, 961),\n",
              " (1138, 1139, 1141),\n",
              " (1202, 1203, 1205),\n",
              " (1346, 1347, 1349),\n",
              " (1354, 1355, 1357)]"
            ]
          },
          "metadata": {},
          "execution_count": 64
        }
      ]
    },
    {
      "cell_type": "code",
      "source": [
        "# View the first few tuples with gap of pattern 2-1 in the the product of first 10000 primes with itsefl\n",
        "sorted(common_elements_gap21_v1)[:20]"
      ],
      "metadata": {
        "colab": {
          "base_uri": "https://localhost:8080/"
        },
        "id": "puBH8m5XIlx9",
        "outputId": "57e6f44a-da5e-465b-baeb-a660a1fd8604"
      },
      "execution_count": 65,
      "outputs": [
        {
          "output_type": "execute_result",
          "data": {
            "text/plain": [
              "[(55, 57, 58),\n",
              " (91, 93, 94),\n",
              " (119, 121, 122),\n",
              " (143, 145, 146),\n",
              " (203, 205, 206),\n",
              " (215, 217, 218),\n",
              " (299, 301, 302),\n",
              " (391, 393, 394),\n",
              " (451, 453, 454),\n",
              " (535, 537, 538),\n",
              " (551, 553, 554),\n",
              " (695, 697, 698),\n",
              " (791, 793, 794),\n",
              " (815, 817, 818),\n",
              " (1079, 1081, 1082),\n",
              " (1135, 1137, 1138),\n",
              " (1139, 1141, 1142),\n",
              " (1315, 1317, 1318),\n",
              " (1343, 1345, 1346),\n",
              " (1415, 1417, 1418)]"
            ]
          },
          "metadata": {},
          "execution_count": 65
        }
      ]
    },
    {
      "cell_type": "code",
      "source": [
        "# Compute the number of tuples with the gap of pattern 1-2 and number of gap of pattern 2-1 for the product of next 5000 primes with itsefl\n",
        "num_gap12_v2= 0\n",
        "num_gap21_v2 = 0\n",
        "common_elements_gap12_v2 = []\n",
        "common_elements_gap21_v2 = []\n",
        "\n",
        "for i in range(len(chunks_v2)):\n",
        "    num_diff1, num_diff2, common_elements_diff12, common_elements_diff21 = process_chunk_v2(chunks_v2[i])\n",
        "    num_gap12_v2 += num_diff1\n",
        "    num_gap21_v2 += num_diff2\n",
        "    common_elements_gap12_v2 += common_elements_diff12\n",
        "    common_elements_gap21_v2 += common_elements_diff21\n",
        "\n",
        "\n",
        "\n",
        "\n",
        "\n"
      ],
      "metadata": {
        "id": "v_KBFswIIoWb"
      },
      "execution_count": 51,
      "outputs": []
    },
    {
      "cell_type": "code",
      "source": [
        "num_gap12_v2"
      ],
      "metadata": {
        "colab": {
          "base_uri": "https://localhost:8080/"
        },
        "id": "whqUV5GCc4wG",
        "outputId": "9d52c6d8-46f3-4227-ffb6-0a6e8e98f17f"
      },
      "execution_count": null,
      "outputs": [
        {
          "output_type": "execute_result",
          "data": {
            "text/plain": [
              "0"
            ]
          },
          "metadata": {},
          "execution_count": 114
        }
      ]
    },
    {
      "cell_type": "code",
      "source": [
        "num_gap21_v2"
      ],
      "metadata": {
        "colab": {
          "base_uri": "https://localhost:8080/"
        },
        "id": "7lqUaKmAc6mg",
        "outputId": "3b530c7a-c984-4a5a-808d-1c89d78bbb9a"
      },
      "execution_count": null,
      "outputs": [
        {
          "output_type": "execute_result",
          "data": {
            "text/plain": [
              "0"
            ]
          },
          "metadata": {},
          "execution_count": 115
        }
      ]
    },
    {
      "cell_type": "code",
      "source": [
        "# Compute the number of tuples with the gap of pattern 1-2 and number of gap of pattern 2-1 for the product of next 5000 primes with itsefl\n",
        "num_gap12_v3= 0\n",
        "num_gap21_v3 = 0\n",
        "common_elements_gap12_v3 = []\n",
        "common_elements_gap21_v3 = []\n",
        "\n",
        "for i in range(len(chunks_v2)):\n",
        "    num_diff1, num_diff2, common_elements_diff12, common_elements_diff21 = process_chunk_v2(chunks_v2[i])\n",
        "    num_gap12_v3 += num_diff1\n",
        "    num_gap21_v3 += num_diff2\n",
        "    common_elements_gap12_v3 += common_elements_diff12\n",
        "    common_elements_gap21_v3 += common_elements_diff21\n",
        "\n",
        "\n",
        "\n",
        "\n"
      ],
      "metadata": {
        "id": "K08G8o8TyKX1"
      },
      "execution_count": 52,
      "outputs": []
    },
    {
      "cell_type": "code",
      "source": [
        "num_gap12_v3"
      ],
      "metadata": {
        "colab": {
          "base_uri": "https://localhost:8080/"
        },
        "id": "vLTPdmCpykEz",
        "outputId": "3ebc87ff-5cb8-48ef-a2ad-5d6ab078291e"
      },
      "execution_count": 53,
      "outputs": [
        {
          "output_type": "execute_result",
          "data": {
            "text/plain": [
              "0"
            ]
          },
          "metadata": {},
          "execution_count": 53
        }
      ]
    },
    {
      "cell_type": "code",
      "source": [
        "num_gap21_v3"
      ],
      "metadata": {
        "colab": {
          "base_uri": "https://localhost:8080/"
        },
        "id": "Fr2or1wOylQM",
        "outputId": "1f2c3425-d0f0-406b-ed8a-6b46f90ba600"
      },
      "execution_count": 54,
      "outputs": [
        {
          "output_type": "execute_result",
          "data": {
            "text/plain": [
              "0"
            ]
          },
          "metadata": {},
          "execution_count": 54
        }
      ]
    },
    {
      "cell_type": "code",
      "source": [
        "#  Compute how many tuples in total with gap of 1-2 and 2-1 respectly in the product of 20000 primes with itself\n",
        "sum_tuples_gap12 = num_gap12_v1 + num_gap12_v2 + num_gap12_v3\n",
        "sum_tuples_gap21 = num_gap21_v1 + num_gap21_v2 + num_gap21_v3"
      ],
      "metadata": {
        "id": "V04htdk93lZE"
      },
      "execution_count": 60,
      "outputs": []
    },
    {
      "cell_type": "code",
      "source": [
        "sum_tuples_gap12"
      ],
      "metadata": {
        "colab": {
          "base_uri": "https://localhost:8080/"
        },
        "id": "wIPRtj5_34h_",
        "outputId": "9e1d1078-61e9-4c4e-b200-9e76d429cac7"
      },
      "execution_count": 61,
      "outputs": [
        {
          "output_type": "execute_result",
          "data": {
            "text/plain": [
              "1248"
            ]
          },
          "metadata": {},
          "execution_count": 61
        }
      ]
    },
    {
      "cell_type": "code",
      "source": [
        "sum_tuples_gap21"
      ],
      "metadata": {
        "colab": {
          "base_uri": "https://localhost:8080/"
        },
        "id": "Ai8dzcZh360C",
        "outputId": "ae0eb382-9276-4f0d-edad-621a5a4a2a8d"
      },
      "execution_count": 62,
      "outputs": [
        {
          "output_type": "execute_result",
          "data": {
            "text/plain": [
              "1277"
            ]
          },
          "metadata": {},
          "execution_count": 62
        }
      ]
    }
  ],
  "metadata": {
    "accelerator": "TPU",
    "colab": {
      "provenance": [],
      "mount_file_id": "1GNzWIn-ESMrttCBYaNh16Me-Pxzzd6k0",
      "authorship_tag": "ABX9TyM3Tix6EY2d1+rMKf3bTAww",
      "include_colab_link": true
    },
    "kernelspec": {
      "display_name": "Python 3",
      "name": "python3"
    },
    "language_info": {
      "name": "python"
    }
  },
  "nbformat": 4,
  "nbformat_minor": 0
}