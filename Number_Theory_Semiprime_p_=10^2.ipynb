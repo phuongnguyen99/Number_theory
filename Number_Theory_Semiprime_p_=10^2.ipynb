{
  "cells": [
    {
      "cell_type": "code",
      "execution_count": null,
      "metadata": {
        "colab": {
          "base_uri": "https://localhost:8080/"
        },
        "id": "qhMrfVs87FF7",
        "outputId": "41d6c43c-ff6a-46b3-c86e-42cdfeb7a78c"
      },
      "outputs": [
        {
          "output_type": "stream",
          "name": "stdout",
          "text": [
            "Drive already mounted at /content/drive; to attempt to forcibly remount, call drive.mount(\"/content/drive\", force_remount=True).\n"
          ]
        }
      ],
      "source": [
        "from google.colab import drive\n",
        "drive.mount('/content/drive')\n"
      ]
    },
    {
      "cell_type": "markdown",
      "source": [
        "## Data preprocessing"
      ],
      "metadata": {
        "id": "HmpCHwL_y_SN"
      }
    },
    {
      "cell_type": "markdown",
      "source": [
        "Extract first 1000 primes in the prime.txt*\n",
        "\n",
        "\n"
      ],
      "metadata": {
        "id": "2Kyyf_3jy5sC"
      }
    },
    {
      "cell_type": "code",
      "execution_count": null,
      "metadata": {
        "id": "37SJVUg3bqSu"
      },
      "outputs": [],
      "source": [
        "# Import data by extracting 10000 primes in dataset primes.txt\n",
        "# Initialize an empty list to hold the elements\n",
        "elements_list = []\n",
        "\n",
        "# Open the file in read mode\n",
        "with open('/content/drive/MyDrive/primes.txt', 'r') as file:\n",
        "    # Use enumerate to get both line numbers and lines\n",
        "    for i, line in enumerate(file):\n",
        "\n",
        "        elements_list.append(line.strip())  # strip() removes any leading/trailing whitespace, including newlines\n",
        "        # Break the loop\n",
        "        if i == 99:\n",
        "            break\n",
        "\n",
        "my_list1 = [int(item) for item in elements_list]\n"
      ]
    },
    {
      "cell_type": "code",
      "source": [
        "# The length of first 10000 primes array\n",
        "len(my_list1)"
      ],
      "metadata": {
        "colab": {
          "base_uri": "https://localhost:8080/"
        },
        "id": "qCmsX-elQ9cU",
        "outputId": "d20835d1-23ff-4c03-a477-e1fa7da0f5a4"
      },
      "execution_count": null,
      "outputs": [
        {
          "output_type": "execute_result",
          "data": {
            "text/plain": [
              "100"
            ]
          },
          "metadata": {},
          "execution_count": 3
        }
      ]
    },
    {
      "cell_type": "code",
      "source": [
        "from tqdm import tqdm"
      ],
      "metadata": {
        "id": "qVTPK3owDQoi"
      },
      "execution_count": null,
      "outputs": []
    },
    {
      "cell_type": "code",
      "source": [
        "# The largest prime of the first 100000 primes\n",
        "my_list1[-1]"
      ],
      "metadata": {
        "colab": {
          "base_uri": "https://localhost:8080/"
        },
        "id": "ZO3wjm8GK76S",
        "outputId": "078dc69f-68d9-4a6c-ae41-ad69f75a374f"
      },
      "execution_count": null,
      "outputs": [
        {
          "output_type": "execute_result",
          "data": {
            "text/plain": [
              "541"
            ]
          },
          "metadata": {},
          "execution_count": 5
        }
      ]
    },
    {
      "cell_type": "markdown",
      "source": [
        "Multiply 100 primes with itself"
      ],
      "metadata": {
        "id": "_cYvZyVwesWU"
      }
    },
    {
      "cell_type": "code",
      "source": [
        "data = set()\n",
        "for x in tqdm(my_list1):\n",
        "  for y in my_list1:\n",
        "    data.add(x*y)"
      ],
      "metadata": {
        "colab": {
          "base_uri": "https://localhost:8080/"
        },
        "id": "TU2aS0s1D4uc",
        "outputId": "4074fa45-63dc-447b-de12-2265c960b6bc"
      },
      "execution_count": null,
      "outputs": [
        {
          "output_type": "stream",
          "name": "stderr",
          "text": [
            "100%|██████████| 100/100 [00:00<00:00, 16564.53it/s]\n"
          ]
        }
      ]
    },
    {
      "cell_type": "markdown",
      "source": [
        "Sort the data in an ascending order"
      ],
      "metadata": {
        "id": "F55dJsFnYaIV"
      }
    },
    {
      "cell_type": "code",
      "source": [
        "data = sorted(list(data))\n",
        "print(data[:50])"
      ],
      "metadata": {
        "colab": {
          "base_uri": "https://localhost:8080/"
        },
        "id": "xrFVy4GwFQ_t",
        "outputId": "9419f0f4-d89e-47ae-93fd-c6d24eb286d9"
      },
      "execution_count": null,
      "outputs": [
        {
          "output_type": "stream",
          "name": "stdout",
          "text": [
            "[4, 6, 9, 10, 14, 15, 21, 22, 25, 26, 33, 34, 35, 38, 39, 46, 49, 51, 55, 57, 58, 62, 65, 69, 74, 77, 82, 85, 86, 87, 91, 93, 94, 95, 106, 111, 115, 118, 119, 121, 122, 123, 129, 133, 134, 141, 142, 143, 145, 146]\n"
          ]
        }
      ]
    },
    {
      "cell_type": "markdown",
      "source": [
        "## Computational part"
      ],
      "metadata": {
        "id": "gLVkuD-JYxXo"
      }
    },
    {
      "cell_type": "markdown",
      "source": [
        "Compute the primes triplest with gap 2-4 and gap 4-2, i.e (p, p+2, p+6) and (p, p+4, p+6) respectively where p is semi-prime"
      ],
      "metadata": {
        "id": "7tSGkp0d3Nkb"
      }
    },
    {
      "cell_type": "code",
      "source": [
        "def compute_prime_triplet(chunk):\n",
        "    chunk = sorted(chunk)\n",
        "    num_diff24 = num_diff42 = 0\n",
        "    common_elements_diff24 = []\n",
        "    common_elements_diff42 = []\n",
        "\n",
        "    # Check triplets directly within chunk\n",
        "    for i in range(len(chunk) - 2):\n",
        "        # Extract current triplet\n",
        "        current_triplet = (chunk[i], chunk[i + 1], chunk[i + 2])\n",
        "\n",
        "        # Calculate differences between consecutive elements\n",
        "        diff1 = chunk[i + 1] - chunk[i]\n",
        "        diff2 = chunk[i + 2] - chunk[i + 1]\n",
        "\n",
        "        # Check for pattern 2-4\n",
        "        if diff1 == 2 and diff2 == 4:\n",
        "            num_diff24 += 1\n",
        "            common_elements_diff24.append(current_triplet)\n",
        "\n",
        "        # Check for pattern 4-2\n",
        "        elif diff1 == 4 and diff2 == 2:\n",
        "            num_diff42 += 1\n",
        "            common_elements_diff42.append(current_triplet)\n",
        "\n",
        "    return num_diff24, num_diff42, common_elements_diff24, common_elements_diff42"
      ],
      "metadata": {
        "id": "-T1_9T6VloHv"
      },
      "execution_count": null,
      "outputs": []
    },
    {
      "cell_type": "markdown",
      "source": [
        "## Numerical results"
      ],
      "metadata": {
        "id": "JiTGTAOHYziB"
      }
    },
    {
      "cell_type": "code",
      "source": [
        "num_diff24_v1, num_diff42_v1, common_elements_diff24_v1, common_elements_diff42_v1 = compute_prime_triplet(data)\n"
      ],
      "metadata": {
        "id": "AEOKpAhtQzCR"
      },
      "execution_count": null,
      "outputs": []
    },
    {
      "cell_type": "markdown",
      "source": [
        "The number of prime triplets (p, p+2, p+6) for p <= 100\n"
      ],
      "metadata": {
        "id": "qkes80cLY4NA"
      }
    },
    {
      "cell_type": "code",
      "source": [
        "num_diff24_v1"
      ],
      "metadata": {
        "colab": {
          "base_uri": "https://localhost:8080/"
        },
        "id": "KdVwoE72_WwO",
        "outputId": "8195df8c-54cb-4b9d-e09c-f1ed755d11f8"
      },
      "execution_count": null,
      "outputs": [
        {
          "output_type": "execute_result",
          "data": {
            "text/plain": [
              "74"
            ]
          },
          "metadata": {},
          "execution_count": 10
        }
      ]
    },
    {
      "cell_type": "code",
      "source": [
        "sorted(common_elements_diff24_v1)[:10]"
      ],
      "metadata": {
        "colab": {
          "base_uri": "https://localhost:8080/"
        },
        "id": "SFQ9KXa5ZAVv",
        "outputId": "788c65c0-5784-47e1-b98d-21b4aef068b0"
      },
      "execution_count": null,
      "outputs": [
        {
          "output_type": "execute_result",
          "data": {
            "text/plain": [
              "[(49, 51, 55),\n",
              " (247, 249, 253),\n",
              " (289, 291, 295),\n",
              " (303, 305, 309),\n",
              " (527, 529, 533),\n",
              " (679, 681, 685),\n",
              " (779, 781, 785),\n",
              " (899, 901, 905),\n",
              " (949, 951, 955),\n",
              " (959, 961, 965)]"
            ]
          },
          "metadata": {},
          "execution_count": 11
        }
      ]
    },
    {
      "cell_type": "markdown",
      "source": [
        "The largest prime triplet (p,p+2,p+6) for p<=100"
      ],
      "metadata": {
        "id": "6F176JpbZPpE"
      }
    },
    {
      "cell_type": "code",
      "source": [
        "max(sorted(common_elements_diff24_v1))"
      ],
      "metadata": {
        "colab": {
          "base_uri": "https://localhost:8080/"
        },
        "id": "E111NjIHZJUx",
        "outputId": "dc951fd6-e4fd-4e68-957f-228f3088726c"
      },
      "execution_count": null,
      "outputs": [
        {
          "output_type": "execute_result",
          "data": {
            "text/plain": [
              "(39911, 39913, 39917)"
            ]
          },
          "metadata": {},
          "execution_count": 12
        }
      ]
    },
    {
      "cell_type": "markdown",
      "source": [
        "The number of prime triplets (p, p+4, p+6) for p1, p2 <= 100\n"
      ],
      "metadata": {
        "id": "m97l03vGZbZ0"
      }
    },
    {
      "cell_type": "code",
      "source": [
        "num_diff42_v1"
      ],
      "metadata": {
        "colab": {
          "base_uri": "https://localhost:8080/"
        },
        "id": "zztXVmM9RCot",
        "outputId": "8c5f9629-0896-4800-928e-356372074e5b"
      },
      "execution_count": null,
      "outputs": [
        {
          "output_type": "execute_result",
          "data": {
            "text/plain": [
              "70"
            ]
          },
          "metadata": {},
          "execution_count": 13
        }
      ]
    },
    {
      "cell_type": "code",
      "source": [
        "sorted(common_elements_diff42_v1)[:10]"
      ],
      "metadata": {
        "colab": {
          "base_uri": "https://localhost:8080/"
        },
        "id": "AOxyE9-q_YZ7",
        "outputId": "5dce78b3-d662-47c4-be0b-1ad6da268445"
      },
      "execution_count": null,
      "outputs": [
        {
          "output_type": "execute_result",
          "data": {
            "text/plain": [
              "[(51, 55, 57),\n",
              " (87, 91, 93),\n",
              " (335, 339, 341),\n",
              " (407, 411, 413),\n",
              " (447, 451, 453),\n",
              " (529, 533, 535),\n",
              " (681, 685, 687),\n",
              " (749, 753, 755),\n",
              " (785, 789, 791),\n",
              " (889, 893, 895)]"
            ]
          },
          "metadata": {},
          "execution_count": 14
        }
      ]
    },
    {
      "cell_type": "markdown",
      "source": [
        "The largest prime triplet (p,p+4,p+6) for p1, p2 <=10^5\n",
        "\n"
      ],
      "metadata": {
        "id": "y4fxcYh5ZhI_"
      }
    },
    {
      "cell_type": "code",
      "source": [
        "max(sorted(common_elements_diff42_v1))"
      ],
      "metadata": {
        "colab": {
          "base_uri": "https://localhost:8080/"
        },
        "id": "GqMgJhY2_k1m",
        "outputId": "95691263-6bef-4005-e20e-367e94d7118e"
      },
      "execution_count": null,
      "outputs": [
        {
          "output_type": "execute_result",
          "data": {
            "text/plain": [
              "(55747, 55751, 55753)"
            ]
          },
          "metadata": {},
          "execution_count": 15
        }
      ]
    },
    {
      "cell_type": "markdown",
      "source": [
        "Compute the primes triplest with gap 1-2 and gap 2-1, i.e (p, p+1, p+3) and (p, p+2, p+3) respectively where p is semi-prime"
      ],
      "metadata": {
        "id": "ht_itthBj9S_"
      }
    },
    {
      "cell_type": "code",
      "source": [
        "def compute_semiprime_triplets_v2(chunk):\n",
        "    chunk = sorted(chunk)\n",
        "    num_diff12= num_diff21= 0\n",
        "    common_elements_diff12 = []\n",
        "    common_elements_diff21 = []\n",
        "\n",
        "    # Check triplets directly within chunk\n",
        "    for i in range(len(chunk) - 2):\n",
        "        # Extract current triplet\n",
        "        current_triplet = (chunk[i], chunk[i + 1], chunk[i + 2])\n",
        "\n",
        "        # Calculate differences between consecutive elements\n",
        "        diff1 = chunk[i + 1] - chunk[i]\n",
        "        diff2 = chunk[i + 2] - chunk[i + 1]\n",
        "\n",
        "        # Check for pattern 2-4\n",
        "        if diff1 == 1 and diff2 == 2:\n",
        "            num_diff12 += 1\n",
        "            common_elements_diff12.append(current_triplet)\n",
        "\n",
        "        # Check for pattern 4-2\n",
        "        elif diff1 == 2 and diff2 == 1:\n",
        "            num_diff21 += 1\n",
        "            common_elements_diff21.append(current_triplet)\n",
        "\n",
        "    return num_diff12, num_diff21, common_elements_diff12, common_elements_diff21"
      ],
      "metadata": {
        "id": "K2HL6bxXj4tl"
      },
      "execution_count": null,
      "outputs": []
    },
    {
      "cell_type": "code",
      "source": [
        "num_diff12, num_diff21, common_elements_diff12, common_elements_diff21 = compute_semiprime_triplets_v2(data)"
      ],
      "metadata": {
        "id": "MWSv86hBkk3S"
      },
      "execution_count": null,
      "outputs": []
    },
    {
      "cell_type": "markdown",
      "source": [
        "The number of semi-prime triplets (p, p+1, p+3)"
      ],
      "metadata": {
        "id": "9Jb5DNgbLFEv"
      }
    },
    {
      "cell_type": "code",
      "source": [
        "num_diff12"
      ],
      "metadata": {
        "colab": {
          "base_uri": "https://localhost:8080/"
        },
        "id": "DO58h0VJl59S",
        "outputId": "eb9f0e7f-3c96-4533-c003-66e3d13d2e21"
      },
      "execution_count": null,
      "outputs": [
        {
          "output_type": "execute_result",
          "data": {
            "text/plain": [
              "16"
            ]
          },
          "metadata": {},
          "execution_count": 18
        }
      ]
    },
    {
      "cell_type": "code",
      "source": [
        "sorted(common_elements_diff12)[:5]"
      ],
      "metadata": {
        "colab": {
          "base_uri": "https://localhost:8080/"
        },
        "id": "wvw-rv1FmYB-",
        "outputId": "f1bb275b-13f7-4376-a6e1-09261bab4f8f"
      },
      "execution_count": null,
      "outputs": [
        {
          "output_type": "execute_result",
          "data": {
            "text/plain": [
              "[(118, 119, 121),\n",
              " (142, 143, 145),\n",
              " (158, 159, 161),\n",
              " (202, 203, 205),\n",
              " (214, 215, 217)]"
            ]
          },
          "metadata": {},
          "execution_count": 19
        }
      ]
    },
    {
      "cell_type": "markdown",
      "source": [
        "The largest prime triplet (p,p+1,p+3) for p<=100"
      ],
      "metadata": {
        "id": "hUAcguaqYDEL"
      }
    },
    {
      "cell_type": "code",
      "source": [
        "max(sorted(common_elements_diff12))"
      ],
      "metadata": {
        "colab": {
          "base_uri": "https://localhost:8080/"
        },
        "id": "rlrUyjjcM5Lx",
        "outputId": "65c0cd03-73e5-4307-f9b7-0db2aa57b0de"
      },
      "execution_count": null,
      "outputs": [
        {
          "output_type": "execute_result",
          "data": {
            "text/plain": [
              "(958, 959, 961)"
            ]
          },
          "metadata": {},
          "execution_count": 21
        }
      ]
    },
    {
      "cell_type": "markdown",
      "source": [
        "The number of semi-prime triplets (p, p+2, p+3)"
      ],
      "metadata": {
        "id": "58rW-jHNLLgT"
      }
    },
    {
      "cell_type": "code",
      "source": [
        "num_diff21"
      ],
      "metadata": {
        "colab": {
          "base_uri": "https://localhost:8080/"
        },
        "id": "iRsIwH3ZmLWc",
        "outputId": "7079226c-da4a-4d0c-9823-4a760f325534"
      },
      "execution_count": null,
      "outputs": [
        {
          "output_type": "execute_result",
          "data": {
            "text/plain": [
              "15"
            ]
          },
          "metadata": {},
          "execution_count": 22
        }
      ]
    },
    {
      "cell_type": "code",
      "source": [
        "sorted(common_elements_diff21)[:5]"
      ],
      "metadata": {
        "colab": {
          "base_uri": "https://localhost:8080/"
        },
        "id": "5Wlt4YMjms3j",
        "outputId": "35bed8b0-f38a-4c7a-a5fc-687678341779"
      },
      "execution_count": null,
      "outputs": [
        {
          "output_type": "execute_result",
          "data": {
            "text/plain": [
              "[(55, 57, 58), (91, 93, 94), (119, 121, 122), (143, 145, 146), (203, 205, 206)]"
            ]
          },
          "metadata": {},
          "execution_count": 23
        }
      ]
    },
    {
      "cell_type": "markdown",
      "source": [
        "The largest prime triplet (p,p+2,p+3) for p<=100"
      ],
      "metadata": {
        "id": "9N72KmkRX_9T"
      }
    },
    {
      "cell_type": "code",
      "source": [
        "max(sorted(common_elements_diff21))"
      ],
      "metadata": {
        "colab": {
          "base_uri": "https://localhost:8080/"
        },
        "id": "53eVKBcRNE_w",
        "outputId": "984d11c9-6d3b-4b75-edfe-fe88cce81ef9"
      },
      "execution_count": null,
      "outputs": [
        {
          "output_type": "execute_result",
          "data": {
            "text/plain": [
              "(1079, 1081, 1082)"
            ]
          },
          "metadata": {},
          "execution_count": 25
        }
      ]
    }
  ],
  "metadata": {
    "accelerator": "TPU",
    "colab": {
      "provenance": []
    },
    "kernelspec": {
      "display_name": "Python 3",
      "name": "python3"
    },
    "language_info": {
      "name": "python"
    }
  },
  "nbformat": 4,
  "nbformat_minor": 0
}