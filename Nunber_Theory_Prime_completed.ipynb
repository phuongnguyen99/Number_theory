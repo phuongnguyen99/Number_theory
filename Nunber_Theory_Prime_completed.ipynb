{
  "cells": [
    {
      "cell_type": "markdown",
      "metadata": {
        "id": "view-in-github",
        "colab_type": "text"
      },
      "source": [
        "<a href=\"https://colab.research.google.com/github/phuongnguyen99/Number_theory/blob/main/Nunber_Theory_Prime_completed.ipynb\" target=\"_parent\"><img src=\"https://colab.research.google.com/assets/colab-badge.svg\" alt=\"Open In Colab\"/></a>"
      ]
    },
    {
      "cell_type": "code",
      "execution_count": 1,
      "metadata": {
        "colab": {
          "base_uri": "https://localhost:8080/"
        },
        "id": "qhMrfVs87FF7",
        "outputId": "a5b53d22-7f60-4bbb-920f-4bba4c63e398"
      },
      "outputs": [
        {
          "output_type": "stream",
          "name": "stdout",
          "text": [
            "Drive already mounted at /content/drive; to attempt to forcibly remount, call drive.mount(\"/content/drive\", force_remount=True).\n"
          ]
        }
      ],
      "source": [
        "from google.colab import drive\n",
        "drive.mount('/content/drive')\n"
      ]
    },
    {
      "cell_type": "markdown",
      "source": [
        "## Data preprocessing"
      ],
      "metadata": {
        "id": "HmpCHwL_y_SN"
      }
    },
    {
      "cell_type": "markdown",
      "source": [
        "Extract first 10^6 primes in the prime.txt\n",
        "\n",
        "\n"
      ],
      "metadata": {
        "id": "2Kyyf_3jy5sC"
      }
    },
    {
      "cell_type": "code",
      "execution_count": 2,
      "metadata": {
        "id": "37SJVUg3bqSu"
      },
      "outputs": [],
      "source": [
        "# Import data by extracting 1000000 primes in dataset primes.txt\n",
        "# Initialize an empty list to hold the elements\n",
        "elements_list = []\n",
        "\n",
        "# Open the file in read mode\n",
        "with open('/content/drive/MyDrive/primes.txt', 'r') as file:\n",
        "    # Use enumerate to get both line numbers and lines\n",
        "    for i, line in enumerate(file):\n",
        "\n",
        "        elements_list.append(line.strip())  # strip() removes any leading/trailing whitespace, including newlines\n",
        "        # Break the loop\n",
        "        if i == 999999:\n",
        "            break\n",
        "\n",
        "my_list1 = [int(item) for item in elements_list]\n"
      ]
    },
    {
      "cell_type": "code",
      "source": [
        "# The length of first 10000 primes array\n",
        "len(my_list1)"
      ],
      "metadata": {
        "colab": {
          "base_uri": "https://localhost:8080/"
        },
        "id": "qCmsX-elQ9cU",
        "outputId": "1258dec1-2258-4e52-97f3-3abdeb54917f"
      },
      "execution_count": 3,
      "outputs": [
        {
          "output_type": "execute_result",
          "data": {
            "text/plain": [
              "1000000"
            ]
          },
          "metadata": {},
          "execution_count": 3
        }
      ]
    },
    {
      "cell_type": "code",
      "source": [
        "# The largest prime of the first 1000000 primes\n",
        "my_list1[-1]"
      ],
      "metadata": {
        "colab": {
          "base_uri": "https://localhost:8080/"
        },
        "id": "ZO3wjm8GK76S",
        "outputId": "99a4ce20-9738-450a-daf8-f7f75d677fbf"
      },
      "execution_count": 4,
      "outputs": [
        {
          "output_type": "execute_result",
          "data": {
            "text/plain": [
              "15485863"
            ]
          },
          "metadata": {},
          "execution_count": 4
        }
      ]
    },
    {
      "cell_type": "markdown",
      "source": [
        "## Computational part"
      ],
      "metadata": {
        "id": "j9ePJEm6M6-j"
      }
    },
    {
      "cell_type": "markdown",
      "source": [
        "Compute the primes triplest with gap 2-4 and gap 4-2, i.e (p, p+2, p+6) and (p, p+4, p+6) respectively where p is prime"
      ],
      "metadata": {
        "id": "7tSGkp0d3Nkb"
      }
    },
    {
      "cell_type": "code",
      "source": [
        "def compute_prime_triplets(chunk):\n",
        "    chunk = sorted(chunk)\n",
        "    num_diff24 = num_diff42 = 0\n",
        "    common_elements_diff24 = []\n",
        "    common_elements_diff42 = []\n",
        "\n",
        "    # Check triplets directly within chunk\n",
        "    for i in range(len(chunk) - 2):\n",
        "        # Extract current triplet\n",
        "        current_triplet = (chunk[i], chunk[i + 1], chunk[i + 2])\n",
        "\n",
        "        # Calculate differences between consecutive elements\n",
        "        diff1 = chunk[i + 1] - chunk[i]\n",
        "        diff2 = chunk[i + 2] - chunk[i + 1]\n",
        "\n",
        "        # Check for pattern 2-4\n",
        "        if diff1 == 2 and diff2 == 4:\n",
        "            num_diff24 += 1\n",
        "            common_elements_diff24.append(current_triplet)\n",
        "\n",
        "        # Check for pattern 4-2\n",
        "        elif diff1 == 4 and diff2 == 2:\n",
        "            num_diff42 += 1\n",
        "            common_elements_diff42.append(current_triplet)\n",
        "\n",
        "    return num_diff24, num_diff42, common_elements_diff24, common_elements_diff42"
      ],
      "metadata": {
        "id": "-T1_9T6VloHv"
      },
      "execution_count": 5,
      "outputs": []
    },
    {
      "cell_type": "markdown",
      "source": [
        "## Numerical results"
      ],
      "metadata": {
        "id": "lNJZQd0zNBC4"
      }
    },
    {
      "cell_type": "markdown",
      "source": [
        "### For p <= 10^4"
      ],
      "metadata": {
        "id": "WZDs-Kvy6Z4q"
      }
    },
    {
      "cell_type": "code",
      "source": [
        "num_diff24_v1, num_diff42_v1, common_elements_diff24_v1, common_elements_diff42_v1 = compute_prime_triplets(my_list1[:10000])\n"
      ],
      "metadata": {
        "id": "AEOKpAhtQzCR"
      },
      "execution_count": 6,
      "outputs": []
    },
    {
      "cell_type": "markdown",
      "source": [
        "#### The number of prime triplets (p, p+2, p+6) for p<=10^4\n",
        "\n"
      ],
      "metadata": {
        "id": "fqVxWwBWNLIg"
      }
    },
    {
      "cell_type": "code",
      "source": [
        "num_diff24_v1"
      ],
      "metadata": {
        "colab": {
          "base_uri": "https://localhost:8080/"
        },
        "id": "zztXVmM9RCot",
        "outputId": "301fb952-17c9-41b7-d925-c3d38ebf2a35"
      },
      "execution_count": 7,
      "outputs": [
        {
          "output_type": "execute_result",
          "data": {
            "text/plain": [
              "266"
            ]
          },
          "metadata": {},
          "execution_count": 7
        }
      ]
    },
    {
      "cell_type": "code",
      "source": [
        "sorted(common_elements_diff24_v1)[:10]"
      ],
      "metadata": {
        "colab": {
          "base_uri": "https://localhost:8080/"
        },
        "id": "aSPvDxCkRL-z",
        "outputId": "e5b043ca-799b-4c30-d042-d6079190c0fc"
      },
      "execution_count": 8,
      "outputs": [
        {
          "output_type": "execute_result",
          "data": {
            "text/plain": [
              "[(5, 7, 11),\n",
              " (11, 13, 17),\n",
              " (17, 19, 23),\n",
              " (41, 43, 47),\n",
              " (101, 103, 107),\n",
              " (107, 109, 113),\n",
              " (191, 193, 197),\n",
              " (227, 229, 233),\n",
              " (311, 313, 317),\n",
              " (347, 349, 353)]"
            ]
          },
          "metadata": {},
          "execution_count": 8
        }
      ]
    },
    {
      "cell_type": "markdown",
      "source": [
        "The largst prime triplet (p,p+2,p+6) for p<=10^4"
      ],
      "metadata": {
        "id": "R4jPc9HNPlMS"
      }
    },
    {
      "cell_type": "code",
      "source": [
        "max(sorted(common_elements_diff24_v1))"
      ],
      "metadata": {
        "colab": {
          "base_uri": "https://localhost:8080/"
        },
        "id": "9NQxNsJXNdeI",
        "outputId": "541dcf55-8a12-44c8-9714-4b84414e043b"
      },
      "execution_count": 9,
      "outputs": [
        {
          "output_type": "execute_result",
          "data": {
            "text/plain": [
              "(103991, 103993, 103997)"
            ]
          },
          "metadata": {},
          "execution_count": 9
        }
      ]
    },
    {
      "cell_type": "markdown",
      "source": [
        "#### The number of prime triplets (p, p+4, p+6) for p<=10^4\n",
        "\n",
        "\n",
        "\n"
      ],
      "metadata": {
        "id": "2PohhMyMNkHv"
      }
    },
    {
      "cell_type": "code",
      "source": [
        "num_diff42_v1"
      ],
      "metadata": {
        "colab": {
          "base_uri": "https://localhost:8080/"
        },
        "id": "VyUuJvrORDkz",
        "outputId": "8d6318fc-e7ba-4257-e67f-34a7b99c23f4"
      },
      "execution_count": 10,
      "outputs": [
        {
          "output_type": "execute_result",
          "data": {
            "text/plain": [
              "260"
            ]
          },
          "metadata": {},
          "execution_count": 10
        }
      ]
    },
    {
      "cell_type": "code",
      "source": [
        "sorted(common_elements_diff42_v1)[:10]"
      ],
      "metadata": {
        "colab": {
          "base_uri": "https://localhost:8080/"
        },
        "id": "pqziS3TV7dAa",
        "outputId": "9c8fc04c-0b6d-41a5-a8e5-b6096a0e0e8b"
      },
      "execution_count": 11,
      "outputs": [
        {
          "output_type": "execute_result",
          "data": {
            "text/plain": [
              "[(7, 11, 13),\n",
              " (13, 17, 19),\n",
              " (37, 41, 43),\n",
              " (67, 71, 73),\n",
              " (97, 101, 103),\n",
              " (103, 107, 109),\n",
              " (193, 197, 199),\n",
              " (223, 227, 229),\n",
              " (277, 281, 283),\n",
              " (307, 311, 313)]"
            ]
          },
          "metadata": {},
          "execution_count": 11
        }
      ]
    },
    {
      "cell_type": "markdown",
      "source": [
        "The largst prime triplet (p,p+4,p+6) for p<=10^4"
      ],
      "metadata": {
        "id": "UxfpYVngPjIK"
      }
    },
    {
      "cell_type": "code",
      "source": [
        "max(sorted(common_elements_diff42_v1))"
      ],
      "metadata": {
        "colab": {
          "base_uri": "https://localhost:8080/"
        },
        "id": "3fQTPg3DRQA6",
        "outputId": "5c301e45-dc0b-4619-c72f-1375a8e49ec8"
      },
      "execution_count": 12,
      "outputs": [
        {
          "output_type": "execute_result",
          "data": {
            "text/plain": [
              "(104677, 104681, 104683)"
            ]
          },
          "metadata": {},
          "execution_count": 12
        }
      ]
    },
    {
      "cell_type": "markdown",
      "source": [
        "#### For p<=10^5"
      ],
      "metadata": {
        "id": "ZkaDhBiv63bD"
      }
    },
    {
      "cell_type": "code",
      "source": [
        "num_diff24_v2, num_diff42_v2, common_elements_diff24_v2, common_elements_diff42_v2 = compute_prime_triplets(my_list1[:100000])"
      ],
      "metadata": {
        "id": "TFBETKKIRzkc"
      },
      "execution_count": 13,
      "outputs": []
    },
    {
      "cell_type": "markdown",
      "source": [
        "#### The number of prime triplets (p, p+2, p+6) for p<=10^5\n"
      ],
      "metadata": {
        "id": "z95BYmbLN1jh"
      }
    },
    {
      "cell_type": "code",
      "source": [
        "num_diff24_v2"
      ],
      "metadata": {
        "colab": {
          "base_uri": "https://localhost:8080/"
        },
        "id": "N4iHKkxM68dk",
        "outputId": "df876c18-51fc-4362-ada7-27d8cfc9ea37"
      },
      "execution_count": 14,
      "outputs": [
        {
          "output_type": "execute_result",
          "data": {
            "text/plain": [
              "1706"
            ]
          },
          "metadata": {},
          "execution_count": 14
        }
      ]
    },
    {
      "cell_type": "code",
      "source": [
        "sorted(common_elements_diff24_v2)[265:287]"
      ],
      "metadata": {
        "colab": {
          "base_uri": "https://localhost:8080/"
        },
        "id": "T-auQzzKN3d7",
        "outputId": "970004e4-4299-4949-ea84-c5e3b0a56868"
      },
      "execution_count": 15,
      "outputs": [
        {
          "output_type": "execute_result",
          "data": {
            "text/plain": [
              "[(103991, 103993, 103997),\n",
              " (105527, 105529, 105533),\n",
              " (106781, 106783, 106787),\n",
              " (107837, 107839, 107843),\n",
              " (108287, 108289, 108293),\n",
              " (108497, 108499, 108503),\n",
              " (108881, 108883, 108887),\n",
              " (109841, 109843, 109847),\n",
              " (110567, 110569, 110573),\n",
              " (110921, 110923, 110927),\n",
              " (111491, 111493, 111497),\n",
              " (111827, 111829, 111833),\n",
              " (112247, 112249, 112253),\n",
              " (112571, 112573, 112577),\n",
              " (113021, 113023, 113027),\n",
              " (113147, 113149, 113153),\n",
              " (113171, 113173, 113177),\n",
              " (113357, 113359, 113363),\n",
              " (113717, 113719, 113723),\n",
              " (113777, 113779, 113783),\n",
              " (114197, 114199, 114203),\n",
              " (115877, 115879, 115883)]"
            ]
          },
          "metadata": {},
          "execution_count": 15
        }
      ]
    },
    {
      "cell_type": "markdown",
      "source": [
        "The largst prime triplet (p,p+2,p+6) for p<=10^5"
      ],
      "metadata": {
        "id": "rL_98d76PeNq"
      }
    },
    {
      "cell_type": "code",
      "source": [
        "max(sorted(common_elements_diff24_v2))"
      ],
      "metadata": {
        "colab": {
          "base_uri": "https://localhost:8080/"
        },
        "id": "wXubjxe6N4np",
        "outputId": "68f161f4-af42-483f-e67e-a40c03dfb08d"
      },
      "execution_count": 16,
      "outputs": [
        {
          "output_type": "execute_result",
          "data": {
            "text/plain": [
              "(1298111, 1298113, 1298117)"
            ]
          },
          "metadata": {},
          "execution_count": 16
        }
      ]
    },
    {
      "cell_type": "markdown",
      "source": [
        "#### The number of prime triplets (p, p+4, p+6) for p<=10^5"
      ],
      "metadata": {
        "id": "2k1SJa52OJwl"
      }
    },
    {
      "cell_type": "code",
      "source": [
        "num_diff42_v2"
      ],
      "metadata": {
        "colab": {
          "base_uri": "https://localhost:8080/"
        },
        "id": "lW-3o8px69rD",
        "outputId": "4e2f656a-8f48-4113-d8cc-10d05bf1cc44"
      },
      "execution_count": 17,
      "outputs": [
        {
          "output_type": "execute_result",
          "data": {
            "text/plain": [
              "1777"
            ]
          },
          "metadata": {},
          "execution_count": 17
        }
      ]
    },
    {
      "cell_type": "code",
      "source": [
        "sorted(common_elements_diff42_v2)[259:289]"
      ],
      "metadata": {
        "colab": {
          "base_uri": "https://localhost:8080/"
        },
        "id": "EzxxqQQE6_Cs",
        "outputId": "db8fb7f8-5f23-44e9-efe1-8b8c677654c4"
      },
      "execution_count": 18,
      "outputs": [
        {
          "output_type": "execute_result",
          "data": {
            "text/plain": [
              "[(104677, 104681, 104683),\n",
              " (106213, 106217, 106219),\n",
              " (106273, 106277, 106279),\n",
              " (106537, 106541, 106543),\n",
              " (106657, 106661, 106663),\n",
              " (106747, 106751, 106753),\n",
              " (106957, 106961, 106963),\n",
              " (107713, 107717, 107719),\n",
              " (108007, 108011, 108013),\n",
              " (108187, 108191, 108193),\n",
              " (108457, 108461, 108463),\n",
              " (108877, 108881, 108883),\n",
              " (108943, 108947, 108949),\n",
              " (109843, 109847, 109849),\n",
              " (110563, 110567, 110569),\n",
              " (110917, 110921, 110923),\n",
              " (111487, 111491, 111493),\n",
              " (113017, 113021, 113023),\n",
              " (113143, 113147, 113149),\n",
              " (113167, 113171, 113173),\n",
              " (114193, 114197, 114199),\n",
              " (115597, 115601, 115603),\n",
              " (115777, 115781, 115783),\n",
              " (115873, 115877, 115879),\n",
              " (116533, 116537, 116539),\n",
              " (116923, 116927, 116929),\n",
              " (117037, 117041, 117043),\n",
              " (117877, 117881, 117883),\n",
              " (117973, 117977, 117979),\n",
              " (118897, 118901, 118903)]"
            ]
          },
          "metadata": {},
          "execution_count": 18
        }
      ]
    },
    {
      "cell_type": "markdown",
      "source": [
        "The largst prime triplet (p,p+4,p+6) for p<=10^5"
      ],
      "metadata": {
        "id": "nxXVetc4PaI8"
      }
    },
    {
      "cell_type": "code",
      "source": [
        "max(sorted(common_elements_diff42_v2))"
      ],
      "metadata": {
        "colab": {
          "base_uri": "https://localhost:8080/"
        },
        "id": "m3F_x7gY9RbT",
        "outputId": "42c12950-3745-456b-ee53-b5b64f85ba29"
      },
      "execution_count": 19,
      "outputs": [
        {
          "output_type": "execute_result",
          "data": {
            "text/plain": [
              "(1298113, 1298117, 1298119)"
            ]
          },
          "metadata": {},
          "execution_count": 19
        }
      ]
    },
    {
      "cell_type": "markdown",
      "source": [
        "#### For p<=10^6"
      ],
      "metadata": {
        "id": "jO9joqXH8OrF"
      }
    },
    {
      "cell_type": "code",
      "source": [
        "num_diff24_v3, num_diff42_v3, common_elements_diff24_v3, common_elements_diff42_v3 = compute_prime_triplets(my_list1)\n"
      ],
      "metadata": {
        "id": "Gz6UG3jM7xog"
      },
      "execution_count": 20,
      "outputs": []
    },
    {
      "cell_type": "markdown",
      "source": [
        "#### The number of prime triplets (p, p+2, p+6) for p<=10^6"
      ],
      "metadata": {
        "id": "AW-imVDLObeh"
      }
    },
    {
      "cell_type": "code",
      "source": [
        "num_diff24_v3"
      ],
      "metadata": {
        "colab": {
          "base_uri": "https://localhost:8080/"
        },
        "id": "vpn-VwuH8VEz",
        "outputId": "900f18ce-6f85-4f25-954e-b23956f4b294"
      },
      "execution_count": 21,
      "outputs": [
        {
          "output_type": "execute_result",
          "data": {
            "text/plain": [
              "12092"
            ]
          },
          "metadata": {},
          "execution_count": 21
        }
      ]
    },
    {
      "cell_type": "code",
      "source": [
        "sorted(common_elements_diff24_v3)[1705:1726]"
      ],
      "metadata": {
        "colab": {
          "base_uri": "https://localhost:8080/"
        },
        "id": "TGYM3DWJOkJj",
        "outputId": "cdd88a78-2a4a-4484-e27c-3390872b560c"
      },
      "execution_count": 22,
      "outputs": [
        {
          "output_type": "execute_result",
          "data": {
            "text/plain": [
              "[(1298111, 1298113, 1298117),\n",
              " (1300127, 1300129, 1300133),\n",
              " (1301387, 1301389, 1301393),\n",
              " (1303787, 1303789, 1303793),\n",
              " (1304981, 1304983, 1304987),\n",
              " (1305587, 1305589, 1305593),\n",
              " (1306661, 1306663, 1306667),\n",
              " (1307081, 1307083, 1307087),\n",
              " (1310117, 1310119, 1310123),\n",
              " (1310627, 1310629, 1310633),\n",
              " (1311617, 1311619, 1311623),\n",
              " (1311767, 1311769, 1311773),\n",
              " (1312391, 1312393, 1312397),\n",
              " (1312667, 1312669, 1312673),\n",
              " (1313357, 1313359, 1313363),\n",
              " (1313447, 1313449, 1313453),\n",
              " (1318697, 1318699, 1318703),\n",
              " (1321757, 1321759, 1321763),\n",
              " (1322171, 1322173, 1322177),\n",
              " (1322327, 1322329, 1322333),\n",
              " (1322591, 1322593, 1322597)]"
            ]
          },
          "metadata": {},
          "execution_count": 22
        }
      ]
    },
    {
      "cell_type": "markdown",
      "source": [
        "The largst prime triplet (p,p+2,p+6) for p<=10^6"
      ],
      "metadata": {
        "id": "ypzOLNRZPGSs"
      }
    },
    {
      "cell_type": "code",
      "source": [
        "max(sorted(common_elements_diff24_v3))"
      ],
      "metadata": {
        "colab": {
          "base_uri": "https://localhost:8080/"
        },
        "id": "mS3zuSM9Oz9j",
        "outputId": "a5675a20-370a-4414-a495-fc53d1450467"
      },
      "execution_count": 23,
      "outputs": [
        {
          "output_type": "execute_result",
          "data": {
            "text/plain": [
              "(15485537, 15485539, 15485543)"
            ]
          },
          "metadata": {},
          "execution_count": 23
        }
      ]
    },
    {
      "cell_type": "markdown",
      "source": [
        "#### The number of prime triplets (p, p+4, p+6) for p<=10^6"
      ],
      "metadata": {
        "id": "FeWYk_jjOhID"
      }
    },
    {
      "cell_type": "code",
      "source": [
        "num_diff42_v3"
      ],
      "metadata": {
        "colab": {
          "base_uri": "https://localhost:8080/"
        },
        "id": "WZ8b7tPp8W0d",
        "outputId": "754ec2d1-dc4d-467a-c97f-e823335db74a"
      },
      "execution_count": 24,
      "outputs": [
        {
          "output_type": "execute_result",
          "data": {
            "text/plain": [
              "12300"
            ]
          },
          "metadata": {},
          "execution_count": 24
        }
      ]
    },
    {
      "cell_type": "code",
      "source": [
        "sorted(common_elements_diff42_v3)[1776:1800]"
      ],
      "metadata": {
        "colab": {
          "base_uri": "https://localhost:8080/"
        },
        "id": "MkIhBLN48Yud",
        "outputId": "651cf61e-a81e-4b9f-ef3d-83127eed5531"
      },
      "execution_count": 25,
      "outputs": [
        {
          "output_type": "execute_result",
          "data": {
            "text/plain": [
              "[(1298113, 1298117, 1298119),\n",
              " (1300837, 1300841, 1300843),\n",
              " (1301017, 1301021, 1301023),\n",
              " (1303867, 1303871, 1303873),\n",
              " (1305247, 1305251, 1305253),\n",
              " (1306237, 1306241, 1306243),\n",
              " (1307077, 1307081, 1307083),\n",
              " (1308607, 1308611, 1308613),\n",
              " (1309123, 1309127, 1309129),\n",
              " (1309333, 1309337, 1309339),\n",
              " (1312183, 1312187, 1312189),\n",
              " (1313443, 1313447, 1313449),\n",
              " (1313953, 1313957, 1313959),\n",
              " (1317223, 1317227, 1317229),\n",
              " (1318897, 1318901, 1318903),\n",
              " (1319737, 1319741, 1319743),\n",
              " (1321753, 1321757, 1321759),\n",
              " (1322143, 1322147, 1322149),\n",
              " (1322173, 1322177, 1322179),\n",
              " (1322323, 1322327, 1322329),\n",
              " (1322593, 1322597, 1322599),\n",
              " (1322743, 1322747, 1322749),\n",
              " (1324567, 1324571, 1324573),\n",
              " (1324573, 1324577, 1324579)]"
            ]
          },
          "metadata": {},
          "execution_count": 25
        }
      ]
    },
    {
      "cell_type": "markdown",
      "source": [
        "The largst prime triplet (p,p+4,p+6) for p<=10^6"
      ],
      "metadata": {
        "id": "FSWNsy88PLPL"
      }
    },
    {
      "cell_type": "code",
      "source": [
        "max(sorted(common_elements_diff42_v3))"
      ],
      "metadata": {
        "colab": {
          "base_uri": "https://localhost:8080/"
        },
        "id": "C394-ARu8YhF",
        "outputId": "aea77a43-e96d-4f63-d4af-911bcf06e377"
      },
      "execution_count": 26,
      "outputs": [
        {
          "output_type": "execute_result",
          "data": {
            "text/plain": [
              "(15485287, 15485291, 15485293)"
            ]
          },
          "metadata": {},
          "execution_count": 26
        }
      ]
    }
  ],
  "metadata": {
    "accelerator": "TPU",
    "colab": {
      "provenance": [],
      "mount_file_id": "1GNzWIn-ESMrttCBYaNh16Me-Pxzzd6k0",
      "authorship_tag": "ABX9TyPrkuGHOtRPFGkftf7Er/UY",
      "include_colab_link": true
    },
    "kernelspec": {
      "display_name": "Python 3",
      "name": "python3"
    },
    "language_info": {
      "name": "python"
    }
  },
  "nbformat": 4,
  "nbformat_minor": 0
}