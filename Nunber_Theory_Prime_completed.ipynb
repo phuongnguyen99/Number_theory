{
  "cells": [
    {
      "cell_type": "markdown",
      "metadata": {
        "id": "view-in-github",
        "colab_type": "text"
      },
      "source": [
        "<a href=\"https://colab.research.google.com/github/phuongnguyen99/Number_theory/blob/main/Nunber_Theory_Prime_completed.ipynb\" target=\"_parent\"><img src=\"https://colab.research.google.com/assets/colab-badge.svg\" alt=\"Open In Colab\"/></a>"
      ]
    },
    {
      "cell_type": "code",
      "execution_count": 1,
      "metadata": {
        "colab": {
          "base_uri": "https://localhost:8080/"
        },
        "id": "qhMrfVs87FF7",
        "outputId": "61919870-143c-42d7-806c-8052847f2712"
      },
      "outputs": [
        {
          "output_type": "stream",
          "name": "stdout",
          "text": [
            "Mounted at /content/drive\n"
          ]
        }
      ],
      "source": [
        "from google.colab import drive\n",
        "drive.mount('/content/drive')\n"
      ]
    },
    {
      "cell_type": "markdown",
      "source": [
        "## Data preprocessing"
      ],
      "metadata": {
        "id": "HmpCHwL_y_SN"
      }
    },
    {
      "cell_type": "markdown",
      "source": [
        "Extract first 10^6 primes in the prime.txt*\n",
        "\n",
        "\n"
      ],
      "metadata": {
        "id": "2Kyyf_3jy5sC"
      }
    },
    {
      "cell_type": "code",
      "execution_count": 2,
      "metadata": {
        "id": "37SJVUg3bqSu"
      },
      "outputs": [],
      "source": [
        "# Import data by extracting 10000 primes in dataset primes.txt\n",
        "# Initialize an empty list to hold the elements\n",
        "elements_list = []\n",
        "\n",
        "# Open the file in read mode\n",
        "with open('/content/drive/MyDrive/primes.txt', 'r') as file:\n",
        "    # Use enumerate to get both line numbers and lines\n",
        "    for i, line in enumerate(file):\n",
        "\n",
        "        elements_list.append(line.strip())  # strip() removes any leading/trailing whitespace, including newlines\n",
        "        # Break the loop\n",
        "        if i == 999999:\n",
        "            break\n",
        "\n",
        "my_list1 = [int(item) for item in elements_list]\n"
      ]
    },
    {
      "cell_type": "code",
      "source": [
        "# The length of first 10000 primes array\n",
        "len(my_list1)"
      ],
      "metadata": {
        "colab": {
          "base_uri": "https://localhost:8080/"
        },
        "id": "qCmsX-elQ9cU",
        "outputId": "978e020f-2f38-428c-c50d-62b6eb893018"
      },
      "execution_count": 3,
      "outputs": [
        {
          "output_type": "execute_result",
          "data": {
            "text/plain": [
              "1000000"
            ]
          },
          "metadata": {},
          "execution_count": 3
        }
      ]
    },
    {
      "cell_type": "code",
      "source": [
        "# The largest prime of the first 1000000 primes\n",
        "my_list1[-1]"
      ],
      "metadata": {
        "colab": {
          "base_uri": "https://localhost:8080/"
        },
        "id": "ZO3wjm8GK76S",
        "outputId": "33a7b5aa-44ec-4680-f530-0ced45488d34"
      },
      "execution_count": 4,
      "outputs": [
        {
          "output_type": "execute_result",
          "data": {
            "text/plain": [
              "15485863"
            ]
          },
          "metadata": {},
          "execution_count": 4
        }
      ]
    },
    {
      "cell_type": "markdown",
      "source": [
        "## Computational part"
      ],
      "metadata": {
        "id": "j9ePJEm6M6-j"
      }
    },
    {
      "cell_type": "markdown",
      "source": [
        "Compute the primes triplest with gap 2-4 and gap 4-2, i.e (n, n+2, n+6) and (n, n+4, n+6) respectively where n is semi-prime"
      ],
      "metadata": {
        "id": "7tSGkp0d3Nkb"
      }
    },
    {
      "cell_type": "code",
      "source": [
        "def compute_prime_triplets(chunk):\n",
        "    chunk = sorted(chunk)\n",
        "    num_diff24 = num_diff42 = 0\n",
        "    common_elements_diff24 = []\n",
        "    common_elements_diff42 = []\n",
        "\n",
        "    # Check triplets directly within chunk\n",
        "    for i in range(len(chunk) - 2):\n",
        "        # Extract current triplet\n",
        "        current_triplet = (chunk[i], chunk[i + 1], chunk[i + 2])\n",
        "\n",
        "        # Calculate differences between consecutive elements\n",
        "        diff1 = chunk[i + 1] - chunk[i]\n",
        "        diff2 = chunk[i + 2] - chunk[i + 1]\n",
        "\n",
        "        # Check for pattern 2-4\n",
        "        if diff1 == 2 and diff2 == 4:\n",
        "            num_diff24 += 1\n",
        "            common_elements_diff24.append(current_triplet)\n",
        "\n",
        "        # Check for pattern 4-2\n",
        "        elif diff1 == 4 and diff2 == 2:\n",
        "            num_diff42 += 1\n",
        "            common_elements_diff42.append(current_triplet)\n",
        "\n",
        "    return num_diff24, num_diff42, common_elements_diff24, common_elements_diff42"
      ],
      "metadata": {
        "id": "-T1_9T6VloHv"
      },
      "execution_count": 5,
      "outputs": []
    },
    {
      "cell_type": "markdown",
      "source": [
        "## Numerical results"
      ],
      "metadata": {
        "id": "lNJZQd0zNBC4"
      }
    },
    {
      "cell_type": "markdown",
      "source": [],
      "metadata": {
        "id": "wd2fHNqrNyfO"
      }
    },
    {
      "cell_type": "markdown",
      "source": [
        "### For p <= 10^4"
      ],
      "metadata": {
        "id": "WZDs-Kvy6Z4q"
      }
    },
    {
      "cell_type": "code",
      "source": [
        "num_diff24_v1, num_diff42_v1, common_elements_diff24_v1, common_elements_diff42_v1 = compute_prime_triplets(my_list1[:10000])\n"
      ],
      "metadata": {
        "id": "AEOKpAhtQzCR"
      },
      "execution_count": 6,
      "outputs": []
    },
    {
      "cell_type": "markdown",
      "source": [
        "#### The number of prime triplets (p, p+2, p+6) for p<=10^4\n",
        "\n"
      ],
      "metadata": {
        "id": "fqVxWwBWNLIg"
      }
    },
    {
      "cell_type": "code",
      "source": [
        "num_diff24_v1"
      ],
      "metadata": {
        "colab": {
          "base_uri": "https://localhost:8080/"
        },
        "id": "zztXVmM9RCot",
        "outputId": "2b6f9eff-2838-44ff-f029-0adffdd41c96"
      },
      "execution_count": 7,
      "outputs": [
        {
          "output_type": "execute_result",
          "data": {
            "text/plain": [
              "266"
            ]
          },
          "metadata": {},
          "execution_count": 7
        }
      ]
    },
    {
      "cell_type": "code",
      "source": [
        "sorted(common_elements_diff24_v1)[:10]"
      ],
      "metadata": {
        "colab": {
          "base_uri": "https://localhost:8080/"
        },
        "id": "aSPvDxCkRL-z",
        "outputId": "d49f8f37-fb1a-4260-bc93-9eeaf0ae3ce2"
      },
      "execution_count": 8,
      "outputs": [
        {
          "output_type": "execute_result",
          "data": {
            "text/plain": [
              "[(5, 7, 11),\n",
              " (11, 13, 17),\n",
              " (17, 19, 23),\n",
              " (41, 43, 47),\n",
              " (101, 103, 107),\n",
              " (107, 109, 113),\n",
              " (191, 193, 197),\n",
              " (227, 229, 233),\n",
              " (311, 313, 317),\n",
              " (347, 349, 353)]"
            ]
          },
          "metadata": {},
          "execution_count": 8
        }
      ]
    },
    {
      "cell_type": "markdown",
      "source": [
        "The largst prime triplet (p,p+2,p+4) for p<=10^4"
      ],
      "metadata": {
        "id": "R4jPc9HNPlMS"
      }
    },
    {
      "cell_type": "code",
      "source": [
        "max(sorted(common_elements_diff24_v1))"
      ],
      "metadata": {
        "colab": {
          "base_uri": "https://localhost:8080/"
        },
        "id": "9NQxNsJXNdeI",
        "outputId": "0159c49e-5eaa-43a3-ed00-e73d47d9f6ce"
      },
      "execution_count": 9,
      "outputs": [
        {
          "output_type": "execute_result",
          "data": {
            "text/plain": [
              "(103991, 103993, 103997)"
            ]
          },
          "metadata": {},
          "execution_count": 9
        }
      ]
    },
    {
      "cell_type": "markdown",
      "source": [
        "#### The number of prime triplets (p, p+4, p+6) for p<=10^4\n",
        "\n",
        "\n",
        "\n"
      ],
      "metadata": {
        "id": "2PohhMyMNkHv"
      }
    },
    {
      "cell_type": "code",
      "source": [
        "num_diff42_v1"
      ],
      "metadata": {
        "colab": {
          "base_uri": "https://localhost:8080/"
        },
        "id": "VyUuJvrORDkz",
        "outputId": "ccd53541-07e0-4381-c84e-a706ff59964c"
      },
      "execution_count": 10,
      "outputs": [
        {
          "output_type": "execute_result",
          "data": {
            "text/plain": [
              "260"
            ]
          },
          "metadata": {},
          "execution_count": 10
        }
      ]
    },
    {
      "cell_type": "code",
      "source": [
        "sorted(common_elements_diff42_v1)[:10]"
      ],
      "metadata": {
        "colab": {
          "base_uri": "https://localhost:8080/"
        },
        "id": "pqziS3TV7dAa",
        "outputId": "86925ca8-a7d2-4e33-f4e6-a757d137d83b"
      },
      "execution_count": 11,
      "outputs": [
        {
          "output_type": "execute_result",
          "data": {
            "text/plain": [
              "[(7, 11, 13),\n",
              " (13, 17, 19),\n",
              " (37, 41, 43),\n",
              " (67, 71, 73),\n",
              " (97, 101, 103),\n",
              " (103, 107, 109),\n",
              " (193, 197, 199),\n",
              " (223, 227, 229),\n",
              " (277, 281, 283),\n",
              " (307, 311, 313)]"
            ]
          },
          "metadata": {},
          "execution_count": 11
        }
      ]
    },
    {
      "cell_type": "markdown",
      "source": [
        "The largst prime triplet (p,p+4,p+2) for p<=10^4"
      ],
      "metadata": {
        "id": "UxfpYVngPjIK"
      }
    },
    {
      "cell_type": "code",
      "source": [
        "max(sorted(common_elements_diff42_v1))"
      ],
      "metadata": {
        "colab": {
          "base_uri": "https://localhost:8080/"
        },
        "id": "3fQTPg3DRQA6",
        "outputId": "e7abbc0b-9ae7-4304-c8e4-e585b8e717fb"
      },
      "execution_count": 12,
      "outputs": [
        {
          "output_type": "execute_result",
          "data": {
            "text/plain": [
              "(104677, 104681, 104683)"
            ]
          },
          "metadata": {},
          "execution_count": 12
        }
      ]
    },
    {
      "cell_type": "markdown",
      "source": [
        "#### For p<=10^5"
      ],
      "metadata": {
        "id": "ZkaDhBiv63bD"
      }
    },
    {
      "cell_type": "code",
      "source": [
        "num_diff24_v2, num_diff42_v2, common_elements_diff24_v2, common_elements_diff42_v2 = compute_prime_triplets(my_list1[:100000])\n"
      ],
      "metadata": {
        "id": "TFBETKKIRzkc"
      },
      "execution_count": 13,
      "outputs": []
    },
    {
      "cell_type": "markdown",
      "source": [
        "#### The number of prime triplets (p, p+2, p+6) for p<=10^5\n"
      ],
      "metadata": {
        "id": "z95BYmbLN1jh"
      }
    },
    {
      "cell_type": "code",
      "source": [
        "num_diff24_v2"
      ],
      "metadata": {
        "colab": {
          "base_uri": "https://localhost:8080/"
        },
        "id": "N4iHKkxM68dk",
        "outputId": "03b828b6-d04b-478b-8b25-c4c42550871d"
      },
      "execution_count": 14,
      "outputs": [
        {
          "output_type": "execute_result",
          "data": {
            "text/plain": [
              "1706"
            ]
          },
          "metadata": {},
          "execution_count": 14
        }
      ]
    },
    {
      "cell_type": "code",
      "source": [
        "sorted(common_elements_diff24_v2)[265:287]"
      ],
      "metadata": {
        "colab": {
          "base_uri": "https://localhost:8080/"
        },
        "id": "T-auQzzKN3d7",
        "outputId": "ba7a6415-e20a-4873-84b3-0c8d3649e6bb"
      },
      "execution_count": 15,
      "outputs": [
        {
          "output_type": "execute_result",
          "data": {
            "text/plain": [
              "[(103991, 103993, 103997),\n",
              " (105527, 105529, 105533),\n",
              " (106781, 106783, 106787),\n",
              " (107837, 107839, 107843),\n",
              " (108287, 108289, 108293),\n",
              " (108497, 108499, 108503),\n",
              " (108881, 108883, 108887),\n",
              " (109841, 109843, 109847),\n",
              " (110567, 110569, 110573),\n",
              " (110921, 110923, 110927),\n",
              " (111491, 111493, 111497),\n",
              " (111827, 111829, 111833),\n",
              " (112247, 112249, 112253),\n",
              " (112571, 112573, 112577),\n",
              " (113021, 113023, 113027),\n",
              " (113147, 113149, 113153),\n",
              " (113171, 113173, 113177),\n",
              " (113357, 113359, 113363),\n",
              " (113717, 113719, 113723),\n",
              " (113777, 113779, 113783),\n",
              " (114197, 114199, 114203),\n",
              " (115877, 115879, 115883)]"
            ]
          },
          "metadata": {},
          "execution_count": 15
        }
      ]
    },
    {
      "cell_type": "markdown",
      "source": [
        "The largst prime triplet (p,p+2,p+4) for p<=10^5"
      ],
      "metadata": {
        "id": "rL_98d76PeNq"
      }
    },
    {
      "cell_type": "code",
      "source": [
        "max(sorted(common_elements_diff24_v2))"
      ],
      "metadata": {
        "colab": {
          "base_uri": "https://localhost:8080/"
        },
        "id": "wXubjxe6N4np",
        "outputId": "f9cc380e-1e51-46a1-f601-8e470c289032"
      },
      "execution_count": 16,
      "outputs": [
        {
          "output_type": "execute_result",
          "data": {
            "text/plain": [
              "(1298111, 1298113, 1298117)"
            ]
          },
          "metadata": {},
          "execution_count": 16
        }
      ]
    },
    {
      "cell_type": "markdown",
      "source": [
        "#### The number of prime triplets (p, p+4, p+6) for p<=10^5"
      ],
      "metadata": {
        "id": "2k1SJa52OJwl"
      }
    },
    {
      "cell_type": "code",
      "source": [
        "num_diff42_v2"
      ],
      "metadata": {
        "colab": {
          "base_uri": "https://localhost:8080/"
        },
        "id": "lW-3o8px69rD",
        "outputId": "b9ff422d-123b-43d2-cc25-c43c0860a956"
      },
      "execution_count": 17,
      "outputs": [
        {
          "output_type": "execute_result",
          "data": {
            "text/plain": [
              "1777"
            ]
          },
          "metadata": {},
          "execution_count": 17
        }
      ]
    },
    {
      "cell_type": "code",
      "source": [
        "sorted(common_elements_diff24_v2)[265:287]"
      ],
      "metadata": {
        "colab": {
          "base_uri": "https://localhost:8080/"
        },
        "id": "EzxxqQQE6_Cs",
        "outputId": "4e671072-4188-40dd-b9c2-b07dde96041e"
      },
      "execution_count": 18,
      "outputs": [
        {
          "output_type": "execute_result",
          "data": {
            "text/plain": [
              "[(103991, 103993, 103997),\n",
              " (105527, 105529, 105533),\n",
              " (106781, 106783, 106787),\n",
              " (107837, 107839, 107843),\n",
              " (108287, 108289, 108293),\n",
              " (108497, 108499, 108503),\n",
              " (108881, 108883, 108887),\n",
              " (109841, 109843, 109847),\n",
              " (110567, 110569, 110573),\n",
              " (110921, 110923, 110927),\n",
              " (111491, 111493, 111497),\n",
              " (111827, 111829, 111833),\n",
              " (112247, 112249, 112253),\n",
              " (112571, 112573, 112577),\n",
              " (113021, 113023, 113027),\n",
              " (113147, 113149, 113153),\n",
              " (113171, 113173, 113177),\n",
              " (113357, 113359, 113363),\n",
              " (113717, 113719, 113723),\n",
              " (113777, 113779, 113783),\n",
              " (114197, 114199, 114203),\n",
              " (115877, 115879, 115883)]"
            ]
          },
          "metadata": {},
          "execution_count": 18
        }
      ]
    },
    {
      "cell_type": "markdown",
      "source": [
        "The largst prime triplet (p,p+,p+2) for p<=10^5"
      ],
      "metadata": {
        "id": "nxXVetc4PaI8"
      }
    },
    {
      "cell_type": "code",
      "source": [
        "max(sorted(common_elements_diff42_v2))"
      ],
      "metadata": {
        "colab": {
          "base_uri": "https://localhost:8080/"
        },
        "id": "m3F_x7gY9RbT",
        "outputId": "6f758c90-30a2-4d26-ed93-8c0b77887669"
      },
      "execution_count": 19,
      "outputs": [
        {
          "output_type": "execute_result",
          "data": {
            "text/plain": [
              "(1298113, 1298117, 1298119)"
            ]
          },
          "metadata": {},
          "execution_count": 19
        }
      ]
    },
    {
      "cell_type": "markdown",
      "source": [
        "#### For p<=10^6"
      ],
      "metadata": {
        "id": "jO9joqXH8OrF"
      }
    },
    {
      "cell_type": "code",
      "source": [
        "num_diff24_v3, num_diff42_v3, common_elements_diff24_v3, common_elements_diff42_v3 = compute_prime_triplets(my_list1)\n"
      ],
      "metadata": {
        "id": "Gz6UG3jM7xog"
      },
      "execution_count": 20,
      "outputs": []
    },
    {
      "cell_type": "markdown",
      "source": [
        "#### The number of prime triplets (p, p+2, p+6) for p<=10^5"
      ],
      "metadata": {
        "id": "AW-imVDLObeh"
      }
    },
    {
      "cell_type": "code",
      "source": [
        "num_diff24_v3"
      ],
      "metadata": {
        "colab": {
          "base_uri": "https://localhost:8080/"
        },
        "id": "vpn-VwuH8VEz",
        "outputId": "b0a0c3ee-2381-436e-fa58-6ddaaacc70ad"
      },
      "execution_count": 21,
      "outputs": [
        {
          "output_type": "execute_result",
          "data": {
            "text/plain": [
              "12092"
            ]
          },
          "metadata": {},
          "execution_count": 21
        }
      ]
    },
    {
      "cell_type": "code",
      "source": [
        "sorted(common_elements_diff24_v3)[1705:1726]"
      ],
      "metadata": {
        "colab": {
          "base_uri": "https://localhost:8080/"
        },
        "id": "TGYM3DWJOkJj",
        "outputId": "73e9549f-e1c3-4d09-adc3-0f8d96660c1b"
      },
      "execution_count": 22,
      "outputs": [
        {
          "output_type": "execute_result",
          "data": {
            "text/plain": [
              "[(1298111, 1298113, 1298117),\n",
              " (1300127, 1300129, 1300133),\n",
              " (1301387, 1301389, 1301393),\n",
              " (1303787, 1303789, 1303793),\n",
              " (1304981, 1304983, 1304987),\n",
              " (1305587, 1305589, 1305593),\n",
              " (1306661, 1306663, 1306667),\n",
              " (1307081, 1307083, 1307087),\n",
              " (1310117, 1310119, 1310123),\n",
              " (1310627, 1310629, 1310633),\n",
              " (1311617, 1311619, 1311623),\n",
              " (1311767, 1311769, 1311773),\n",
              " (1312391, 1312393, 1312397),\n",
              " (1312667, 1312669, 1312673),\n",
              " (1313357, 1313359, 1313363),\n",
              " (1313447, 1313449, 1313453),\n",
              " (1318697, 1318699, 1318703),\n",
              " (1321757, 1321759, 1321763),\n",
              " (1322171, 1322173, 1322177),\n",
              " (1322327, 1322329, 1322333),\n",
              " (1322591, 1322593, 1322597)]"
            ]
          },
          "metadata": {},
          "execution_count": 22
        }
      ]
    },
    {
      "cell_type": "markdown",
      "source": [
        "The largst prime triplet (p,p+2,p+4) for p<=10^6"
      ],
      "metadata": {
        "id": "ypzOLNRZPGSs"
      }
    },
    {
      "cell_type": "code",
      "source": [
        "max(sorted(common_elements_diff24_v3))"
      ],
      "metadata": {
        "colab": {
          "base_uri": "https://localhost:8080/"
        },
        "id": "mS3zuSM9Oz9j",
        "outputId": "55eade6b-8501-4eaf-a04b-d75e55a1a239"
      },
      "execution_count": 23,
      "outputs": [
        {
          "output_type": "execute_result",
          "data": {
            "text/plain": [
              "(15485537, 15485539, 15485543)"
            ]
          },
          "metadata": {},
          "execution_count": 23
        }
      ]
    },
    {
      "cell_type": "markdown",
      "source": [
        "#### The number of prime triplets (p, p+4, p+2) for p<=10^5"
      ],
      "metadata": {
        "id": "FeWYk_jjOhID"
      }
    },
    {
      "cell_type": "code",
      "source": [
        "num_diff42_v3"
      ],
      "metadata": {
        "colab": {
          "base_uri": "https://localhost:8080/"
        },
        "id": "WZ8b7tPp8W0d",
        "outputId": "65e367c6-5db9-4077-bb22-a77f75626044"
      },
      "execution_count": 24,
      "outputs": [
        {
          "output_type": "execute_result",
          "data": {
            "text/plain": [
              "12300"
            ]
          },
          "metadata": {},
          "execution_count": 24
        }
      ]
    },
    {
      "cell_type": "code",
      "source": [
        "sorted(common_elements_diff24_v3)[1776:1785]"
      ],
      "metadata": {
        "colab": {
          "base_uri": "https://localhost:8080/"
        },
        "id": "MkIhBLN48Yud",
        "outputId": "193559ef-5486-4b2a-8781-2074550210d4"
      },
      "execution_count": 25,
      "outputs": [
        {
          "output_type": "execute_result",
          "data": {
            "text/plain": [
              "[(1368077, 1368079, 1368083),\n",
              " (1368161, 1368163, 1368167),\n",
              " (1368461, 1368463, 1368467),\n",
              " (1368467, 1368469, 1368473),\n",
              " (1368791, 1368793, 1368797),\n",
              " (1369097, 1369099, 1369103),\n",
              " (1369217, 1369219, 1369223),\n",
              " (1369787, 1369789, 1369793),\n",
              " (1375037, 1375039, 1375043)]"
            ]
          },
          "metadata": {},
          "execution_count": 25
        }
      ]
    },
    {
      "cell_type": "markdown",
      "source": [
        "The largst prime triplet (p,p+4,p+2) for p<=10^6"
      ],
      "metadata": {
        "id": "FSWNsy88PLPL"
      }
    },
    {
      "cell_type": "code",
      "source": [
        "max(sorted(common_elements_diff42_v3))"
      ],
      "metadata": {
        "colab": {
          "base_uri": "https://localhost:8080/"
        },
        "id": "C394-ARu8YhF",
        "outputId": "9913630e-fdbb-4143-db14-6978a8a5a2cc"
      },
      "execution_count": 26,
      "outputs": [
        {
          "output_type": "execute_result",
          "data": {
            "text/plain": [
              "(15485287, 15485291, 15485293)"
            ]
          },
          "metadata": {},
          "execution_count": 26
        }
      ]
    }
  ],
  "metadata": {
    "accelerator": "TPU",
    "colab": {
      "provenance": [],
      "mount_file_id": "1GNzWIn-ESMrttCBYaNh16Me-Pxzzd6k0",
      "authorship_tag": "ABX9TyPKPMVCAvfOQvZ0UC4iQM4Z",
      "include_colab_link": true
    },
    "kernelspec": {
      "display_name": "Python 3",
      "name": "python3"
    },
    "language_info": {
      "name": "python"
    }
  },
  "nbformat": 4,
  "nbformat_minor": 0
}