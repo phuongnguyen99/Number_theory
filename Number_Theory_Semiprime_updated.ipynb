{
  "cells": [
    {
      "cell_type": "markdown",
      "metadata": {
        "id": "view-in-github",
        "colab_type": "text"
      },
      "source": [
        "<a href=\"https://colab.research.google.com/github/phuongnguyen99/Number_theory/blob/main/Number_Theory_Semiprime_updated.ipynb\" target=\"_parent\"><img src=\"https://colab.research.google.com/assets/colab-badge.svg\" alt=\"Open In Colab\"/></a>"
      ]
    },
    {
      "cell_type": "code",
      "execution_count": 1,
      "metadata": {
        "colab": {
          "base_uri": "https://localhost:8080/"
        },
        "id": "qhMrfVs87FF7",
        "outputId": "86f00a05-a474-47c7-8ae3-1f63d77d1f29"
      },
      "outputs": [
        {
          "output_type": "stream",
          "name": "stdout",
          "text": [
            "Mounted at /content/drive\n"
          ]
        }
      ],
      "source": [
        "from google.colab import drive\n",
        "drive.mount('/content/drive')\n"
      ]
    },
    {
      "cell_type": "markdown",
      "source": [
        "## Data preprocessing"
      ],
      "metadata": {
        "id": "HmpCHwL_y_SN"
      }
    },
    {
      "cell_type": "markdown",
      "source": [
        "Extract first 100000 primes in the prime.txt*\n",
        "\n",
        "\n"
      ],
      "metadata": {
        "id": "2Kyyf_3jy5sC"
      }
    },
    {
      "cell_type": "code",
      "execution_count": 2,
      "metadata": {
        "id": "37SJVUg3bqSu"
      },
      "outputs": [],
      "source": [
        "# Import data by extracting 10000 primes in dataset primes.txt\n",
        "# Initialize an empty list to hold the elements\n",
        "elements_list = []\n",
        "\n",
        "# Open the file in read mode\n",
        "with open('/content/drive/MyDrive/primes.txt', 'r') as file:\n",
        "    # Use enumerate to get both line numbers and lines\n",
        "    for i, line in enumerate(file):\n",
        "\n",
        "        elements_list.append(line.strip())  # strip() removes any leading/trailing whitespace, including newlines\n",
        "        # Break the loop\n",
        "        if i == 99999:\n",
        "            break\n",
        "\n",
        "my_list1 = [int(item) for item in elements_list]\n"
      ]
    },
    {
      "cell_type": "code",
      "source": [
        "# The length of first 10000 primes array\n",
        "len(my_list1)"
      ],
      "metadata": {
        "colab": {
          "base_uri": "https://localhost:8080/"
        },
        "id": "qCmsX-elQ9cU",
        "outputId": "2c1a7a1f-3f90-44a3-fea1-9cf6db47a46f"
      },
      "execution_count": 3,
      "outputs": [
        {
          "output_type": "execute_result",
          "data": {
            "text/plain": [
              "100000"
            ]
          },
          "metadata": {},
          "execution_count": 3
        }
      ]
    },
    {
      "cell_type": "code",
      "source": [
        "from tqdm import tqdm"
      ],
      "metadata": {
        "id": "qVTPK3owDQoi"
      },
      "execution_count": 4,
      "outputs": []
    },
    {
      "cell_type": "code",
      "source": [
        "# The largest prime of the first 100000 primes\n",
        "my_list1[-1]"
      ],
      "metadata": {
        "colab": {
          "base_uri": "https://localhost:8080/"
        },
        "id": "ZO3wjm8GK76S",
        "outputId": "d2798946-ee70-449f-ca3b-a504ea8c9cc4"
      },
      "execution_count": 44,
      "outputs": [
        {
          "output_type": "execute_result",
          "data": {
            "text/plain": [
              "1299709"
            ]
          },
          "metadata": {},
          "execution_count": 44
        }
      ]
    },
    {
      "cell_type": "markdown",
      "source": [
        "Multiply 10,000 primes with itself"
      ],
      "metadata": {
        "id": "_cYvZyVwesWU"
      }
    },
    {
      "cell_type": "code",
      "source": [
        "data = set()\n",
        "for x in tqdm(my_list1[:10000]):\n",
        "  for y in my_list1[:10000]:\n",
        "    data.add(x*y)"
      ],
      "metadata": {
        "colab": {
          "base_uri": "https://localhost:8080/"
        },
        "id": "TU2aS0s1D4uc",
        "outputId": "755880a1-8c9e-44c3-f8ec-fc3acdc4e99e"
      },
      "execution_count": 6,
      "outputs": [
        {
          "output_type": "stream",
          "name": "stderr",
          "text": [
            "100%|██████████| 10000/10000 [01:22<00:00, 121.30it/s]\n"
          ]
        }
      ]
    },
    {
      "cell_type": "markdown",
      "source": [
        "Sort the data in an ascending order"
      ],
      "metadata": {
        "id": "F55dJsFnYaIV"
      }
    },
    {
      "cell_type": "code",
      "source": [
        "data = sorted(list(data))\n",
        "print(data[:50])"
      ],
      "metadata": {
        "colab": {
          "base_uri": "https://localhost:8080/"
        },
        "id": "xrFVy4GwFQ_t",
        "outputId": "10e1d92e-1a80-478d-e320-0fcf9a051bb0"
      },
      "execution_count": 47,
      "outputs": [
        {
          "output_type": "stream",
          "name": "stdout",
          "text": [
            "[4, 6, 9, 10, 14, 15, 21, 22, 25, 26, 33, 34, 35, 38, 39, 46, 49, 51, 55, 57, 58, 62, 65, 69, 74, 77, 82, 85, 86, 87, 91, 93, 94, 95, 106, 111, 115, 118, 119, 121, 122, 123, 129, 133, 134, 141, 142, 143, 145, 146]\n"
          ]
        }
      ]
    },
    {
      "cell_type": "markdown",
      "source": [
        "## Computational part"
      ],
      "metadata": {
        "id": "gLVkuD-JYxXo"
      }
    },
    {
      "cell_type": "markdown",
      "source": [
        "Compute the primes triplest with gap 2-4 and gap 4-2, i.e (p, p+2, p+6) and (p, p+4, p+6) respectively where p is semi-prime"
      ],
      "metadata": {
        "id": "7tSGkp0d3Nkb"
      }
    },
    {
      "cell_type": "code",
      "source": [
        "def compute_prime_triplet(chunk):\n",
        "    chunk = sorted(chunk)\n",
        "    num_diff24 = num_diff42 = 0\n",
        "    common_elements_diff24 = []\n",
        "    common_elements_diff42 = []\n",
        "\n",
        "    # Check triplets directly within chunk\n",
        "    for i in range(len(chunk) - 2):\n",
        "        # Extract current triplet\n",
        "        current_triplet = (chunk[i], chunk[i + 1], chunk[i + 2])\n",
        "\n",
        "        # Calculate differences between consecutive elements\n",
        "        diff1 = chunk[i + 1] - chunk[i]\n",
        "        diff2 = chunk[i + 2] - chunk[i + 1]\n",
        "\n",
        "        # Check for pattern 2-4\n",
        "        if diff1 == 2 and diff2 == 4:\n",
        "            num_diff24 += 1\n",
        "            common_elements_diff24.append(current_triplet)\n",
        "\n",
        "        # Check for pattern 4-2\n",
        "        elif diff1 == 4 and diff2 == 2:\n",
        "            num_diff42 += 1\n",
        "            common_elements_diff42.append(current_triplet)\n",
        "\n",
        "    return num_diff24, num_diff42, common_elements_diff24, common_elements_diff42"
      ],
      "metadata": {
        "id": "-T1_9T6VloHv"
      },
      "execution_count": 8,
      "outputs": []
    },
    {
      "cell_type": "markdown",
      "source": [
        "## Numerical results"
      ],
      "metadata": {
        "id": "JiTGTAOHYziB"
      }
    },
    {
      "cell_type": "markdown",
      "source": [
        "#### For p <= 10^3"
      ],
      "metadata": {
        "id": "x1N8uV0y-_Ea"
      }
    },
    {
      "cell_type": "code",
      "source": [
        "num_diff24_v1, num_diff42_v1, common_elements_diff24_v1, common_elements_diff42_v1 = compute_prime_triplet(data[:1000])\n"
      ],
      "metadata": {
        "id": "AEOKpAhtQzCR"
      },
      "execution_count": 30,
      "outputs": []
    },
    {
      "cell_type": "markdown",
      "source": [
        "The number of prime triplets (p, p+2, p+6) for p<=10^3\n"
      ],
      "metadata": {
        "id": "qkes80cLY4NA"
      }
    },
    {
      "cell_type": "code",
      "source": [
        "num_diff24_v1"
      ],
      "metadata": {
        "colab": {
          "base_uri": "https://localhost:8080/"
        },
        "id": "KdVwoE72_WwO",
        "outputId": "347ea663-d258-49a7-819f-b8b95324b36b"
      },
      "execution_count": 31,
      "outputs": [
        {
          "output_type": "execute_result",
          "data": {
            "text/plain": [
              "36"
            ]
          },
          "metadata": {},
          "execution_count": 31
        }
      ]
    },
    {
      "cell_type": "code",
      "source": [
        "sorted(common_elements_diff24_v1)[:10]"
      ],
      "metadata": {
        "colab": {
          "base_uri": "https://localhost:8080/"
        },
        "id": "SFQ9KXa5ZAVv",
        "outputId": "432f6021-660d-48eb-a8ea-07a851ec1983"
      },
      "execution_count": 32,
      "outputs": [
        {
          "output_type": "execute_result",
          "data": {
            "text/plain": [
              "[(49, 51, 55),\n",
              " (247, 249, 253),\n",
              " (289, 291, 295),\n",
              " (303, 305, 309),\n",
              " (527, 529, 533),\n",
              " (679, 681, 685),\n",
              " (779, 781, 785),\n",
              " (899, 901, 905),\n",
              " (949, 951, 955),\n",
              " (959, 961, 965)]"
            ]
          },
          "metadata": {},
          "execution_count": 32
        }
      ]
    },
    {
      "cell_type": "markdown",
      "source": [
        "The largst prime triplet (p,p+2,p+6) for p<=10^3"
      ],
      "metadata": {
        "id": "6F176JpbZPpE"
      }
    },
    {
      "cell_type": "code",
      "source": [
        "max(sorted(common_elements_diff24_v1))"
      ],
      "metadata": {
        "colab": {
          "base_uri": "https://localhost:8080/"
        },
        "id": "E111NjIHZJUx",
        "outputId": "e82c26c8-a10b-4e43-e718-ad85fae58aa3"
      },
      "execution_count": 33,
      "outputs": [
        {
          "output_type": "execute_result",
          "data": {
            "text/plain": [
              "(3487, 3489, 3493)"
            ]
          },
          "metadata": {},
          "execution_count": 33
        }
      ]
    },
    {
      "cell_type": "markdown",
      "source": [
        "The number of prime triplets (p, p+4, p+6) for p<=10^3\n"
      ],
      "metadata": {
        "id": "m97l03vGZbZ0"
      }
    },
    {
      "cell_type": "code",
      "source": [
        "num_diff24_v1"
      ],
      "metadata": {
        "colab": {
          "base_uri": "https://localhost:8080/"
        },
        "id": "zztXVmM9RCot",
        "outputId": "ba205024-96c4-403f-dc98-5a7d70fa9c42"
      },
      "execution_count": 34,
      "outputs": [
        {
          "output_type": "execute_result",
          "data": {
            "text/plain": [
              "36"
            ]
          },
          "metadata": {},
          "execution_count": 34
        }
      ]
    },
    {
      "cell_type": "code",
      "source": [
        "sorted(common_elements_diff42_v1)[:10]"
      ],
      "metadata": {
        "colab": {
          "base_uri": "https://localhost:8080/"
        },
        "id": "AOxyE9-q_YZ7",
        "outputId": "24d85ffc-3027-410c-c032-1620f1731a99"
      },
      "execution_count": 36,
      "outputs": [
        {
          "output_type": "execute_result",
          "data": {
            "text/plain": [
              "[(51, 55, 57),\n",
              " (87, 91, 93),\n",
              " (335, 339, 341),\n",
              " (407, 411, 413),\n",
              " (447, 451, 453),\n",
              " (529, 533, 535),\n",
              " (681, 685, 687),\n",
              " (749, 753, 755),\n",
              " (785, 789, 791),\n",
              " (889, 893, 895)]"
            ]
          },
          "metadata": {},
          "execution_count": 36
        }
      ]
    },
    {
      "cell_type": "markdown",
      "source": [
        "The largst prime triplet (p,p+4,p+6) for p<=10^3\n",
        "\n"
      ],
      "metadata": {
        "id": "y4fxcYh5ZhI_"
      }
    },
    {
      "cell_type": "code",
      "source": [
        "max(sorted(common_elements_diff42_v1))"
      ],
      "metadata": {
        "colab": {
          "base_uri": "https://localhost:8080/"
        },
        "id": "GqMgJhY2_k1m",
        "outputId": "be21940c-b38e-4a87-b3f6-52b0a7c3bb8f"
      },
      "execution_count": 37,
      "outputs": [
        {
          "output_type": "execute_result",
          "data": {
            "text/plain": [
              "(3379, 3383, 3385)"
            ]
          },
          "metadata": {},
          "execution_count": 37
        }
      ]
    },
    {
      "cell_type": "markdown",
      "source": [
        "#### For p <= 10^4"
      ],
      "metadata": {
        "id": "hU7w2Ig0_Tj_"
      }
    },
    {
      "cell_type": "code",
      "source": [
        "num_diff24_v2, num_diff42_v2, common_elements_diff24_v2, common_elements_diff42_v2 = compute_prime_triplet(data[:10000])\n"
      ],
      "metadata": {
        "id": "u2xl-qzu2Q_b"
      },
      "execution_count": 16,
      "outputs": []
    },
    {
      "cell_type": "markdown",
      "source": [
        "The number of prime triplets (p, p+2, p+6) for p<=10^4\n"
      ],
      "metadata": {
        "id": "RHG6iaPKZmaj"
      }
    },
    {
      "cell_type": "code",
      "source": [
        "num_diff24_v2"
      ],
      "metadata": {
        "colab": {
          "base_uri": "https://localhost:8080/"
        },
        "id": "fB6TPMSh_glT",
        "outputId": "c9396eb3-b8b0-4a1e-ac58-05635a58d9bf"
      },
      "execution_count": 17,
      "outputs": [
        {
          "output_type": "execute_result",
          "data": {
            "text/plain": [
              "447"
            ]
          },
          "metadata": {},
          "execution_count": 17
        }
      ]
    },
    {
      "cell_type": "code",
      "source": [
        "sorted(common_elements_diff24_v2)[35:56]"
      ],
      "metadata": {
        "colab": {
          "base_uri": "https://localhost:8080/"
        },
        "id": "22eeyHeTZ5Ja",
        "outputId": "9a79fb65-81ac-4a67-a0c5-4adf94ffed05"
      },
      "execution_count": 18,
      "outputs": [
        {
          "output_type": "execute_result",
          "data": {
            "text/plain": [
              "[(3487, 3489, 3493),\n",
              " (3785, 3787, 3791),\n",
              " (3839, 3841, 3845),\n",
              " (3867, 3869, 3873),\n",
              " (3935, 3937, 3941),\n",
              " (4037, 4039, 4043),\n",
              " (4181, 4183, 4187),\n",
              " (4187, 4189, 4193),\n",
              " (4307, 4309, 4313),\n",
              " (4379, 4381, 4385),\n",
              " (4553, 4555, 4559),\n",
              " (4607, 4609, 4613),\n",
              " (4847, 4849, 4853),\n",
              " (4857, 4859, 4863),\n",
              " (4979, 4981, 4985),\n",
              " (5027, 5029, 5033),\n",
              " (5063, 5065, 5069),\n",
              " (5163, 5165, 5169),\n",
              " (5249, 5251, 5255),\n",
              " (5257, 5259, 5263),\n",
              " (5543, 5545, 5549)]"
            ]
          },
          "metadata": {},
          "execution_count": 18
        }
      ]
    },
    {
      "cell_type": "markdown",
      "source": [
        "The largst prime triplet (p,p+2,p+6) for p<=10^4\n",
        "\n"
      ],
      "metadata": {
        "id": "ymP6hYwYZ8gM"
      }
    },
    {
      "cell_type": "code",
      "source": [
        "sorted(common_elements_diff24_v2)[-1]"
      ],
      "metadata": {
        "colab": {
          "base_uri": "https://localhost:8080/"
        },
        "id": "NvIYocf-_t5Z",
        "outputId": "ee0c50d0-ee86-46a7-ae3b-771826280ee6"
      },
      "execution_count": 19,
      "outputs": [
        {
          "output_type": "execute_result",
          "data": {
            "text/plain": [
              "(40871, 40873, 40877)"
            ]
          },
          "metadata": {},
          "execution_count": 19
        }
      ]
    },
    {
      "cell_type": "markdown",
      "source": [
        "The number of prime triplets (p, p+4, p+6) for p<=10^4\n"
      ],
      "metadata": {
        "id": "BpwrbRA4aGcE"
      }
    },
    {
      "cell_type": "code",
      "source": [
        "num_diff42_v2"
      ],
      "metadata": {
        "colab": {
          "base_uri": "https://localhost:8080/"
        },
        "id": "oWeHf7cyEm5d",
        "outputId": "c2ca2288-0d21-4abc-91c1-9a61248b5b06"
      },
      "execution_count": 20,
      "outputs": [
        {
          "output_type": "execute_result",
          "data": {
            "text/plain": [
              "462"
            ]
          },
          "metadata": {},
          "execution_count": 20
        }
      ]
    },
    {
      "cell_type": "code",
      "source": [
        "sorted(common_elements_diff42_v2)[34:55]"
      ],
      "metadata": {
        "colab": {
          "base_uri": "https://localhost:8080/"
        },
        "id": "hzGryIERaF9H",
        "outputId": "6d9d28a6-def3-4d0a-8751-0b9053ba0639"
      },
      "execution_count": 40,
      "outputs": [
        {
          "output_type": "execute_result",
          "data": {
            "text/plain": [
              "[(3379, 3383, 3385),\n",
              " (3595, 3599, 3601),\n",
              " (3635, 3639, 3641),\n",
              " (3707, 3711, 3713),\n",
              " (3781, 3785, 3787),\n",
              " (3805, 3809, 3811),\n",
              " (4039, 4043, 4045),\n",
              " (4097, 4101, 4103),\n",
              " (4183, 4187, 4189),\n",
              " (4189, 4193, 4195),\n",
              " (4309, 4313, 4315),\n",
              " (4381, 4385, 4387),\n",
              " (4705, 4709, 4711),\n",
              " (4849, 4853, 4855),\n",
              " (5065, 5069, 5071),\n",
              " (5123, 5127, 5129),\n",
              " (5137, 5141, 5143),\n",
              " (5195, 5199, 5201),\n",
              " (5245, 5249, 5251),\n",
              " (5251, 5255, 5257),\n",
              " (5429, 5433, 5435)]"
            ]
          },
          "metadata": {},
          "execution_count": 40
        }
      ]
    },
    {
      "cell_type": "markdown",
      "source": [
        "The largst prime triplet (p,p+4,p+6) for p<=10^4\n"
      ],
      "metadata": {
        "id": "HKVVChs6eUGn"
      }
    },
    {
      "cell_type": "code",
      "source": [
        "max(sorted(common_elements_diff42_v2))"
      ],
      "metadata": {
        "colab": {
          "base_uri": "https://localhost:8080/"
        },
        "id": "URzwj1tsaUPu",
        "outputId": "83eff66f-629b-4ba1-e56e-63af08dda63b"
      },
      "execution_count": 41,
      "outputs": [
        {
          "output_type": "execute_result",
          "data": {
            "text/plain": [
              "(40607, 40611, 40613)"
            ]
          },
          "metadata": {},
          "execution_count": 41
        }
      ]
    },
    {
      "cell_type": "markdown",
      "source": [
        "#### For p <=10^5"
      ],
      "metadata": {
        "id": "RHiK5msMDsjD"
      }
    },
    {
      "cell_type": "code",
      "source": [
        "num_diff24_v3, num_diff42_v3, common_elements_diff24_v3, common_elements_diff42_v3 = compute_prime_triplet(data)\n"
      ],
      "metadata": {
        "id": "YDnxoAbQADyn"
      },
      "execution_count": 23,
      "outputs": []
    },
    {
      "cell_type": "markdown",
      "source": [
        "The number of prime triplets (p,p+2, p+6) for p<=10^5"
      ],
      "metadata": {
        "id": "Z7bqKq0naXRA"
      }
    },
    {
      "cell_type": "code",
      "source": [
        "num_diff24_v3"
      ],
      "metadata": {
        "colab": {
          "base_uri": "https://localhost:8080/"
        },
        "id": "m5GOqoHKDxh2",
        "outputId": "064d939a-93cc-45d4-cae6-66a2fdc3fd27"
      },
      "execution_count": 24,
      "outputs": [
        {
          "output_type": "execute_result",
          "data": {
            "text/plain": [
              "47542"
            ]
          },
          "metadata": {},
          "execution_count": 24
        }
      ]
    },
    {
      "cell_type": "code",
      "source": [
        "sorted(common_elements_diff24_v3)[446:466]"
      ],
      "metadata": {
        "colab": {
          "base_uri": "https://localhost:8080/"
        },
        "id": "9IKnPQv1aZg2",
        "outputId": "1b8751a7-f440-48ac-87c5-f8cc120efda1"
      },
      "execution_count": 25,
      "outputs": [
        {
          "output_type": "execute_result",
          "data": {
            "text/plain": [
              "[(40871, 40873, 40877),\n",
              " (40889, 40891, 40895),\n",
              " (40907, 40909, 40913),\n",
              " (40997, 40999, 41003),\n",
              " (41027, 41029, 41033),\n",
              " (41089, 41091, 41095),\n",
              " (41127, 41129, 41133),\n",
              " (41153, 41155, 41159),\n",
              " (41271, 41273, 41277),\n",
              " (41309, 41311, 41315),\n",
              " (41315, 41317, 41321),\n",
              " (41487, 41489, 41493),\n",
              " (41567, 41569, 41573),\n",
              " (41747, 41749, 41753),\n",
              " (41867, 41869, 41873),\n",
              " (41933, 41935, 41939),\n",
              " (42047, 42049, 42053),\n",
              " (42907, 42909, 42913),\n",
              " (43021, 43023, 43027),\n",
              " (43139, 43141, 43145)]"
            ]
          },
          "metadata": {},
          "execution_count": 25
        }
      ]
    },
    {
      "cell_type": "markdown",
      "source": [
        "The largst prime triplet (p,p+2,p+6) for p<=10^5\n",
        "\n"
      ],
      "metadata": {
        "id": "0G_HpLa_adzE"
      }
    },
    {
      "cell_type": "code",
      "source": [
        "max(sorted(common_elements_diff24_v3))"
      ],
      "metadata": {
        "colab": {
          "base_uri": "https://localhost:8080/"
        },
        "id": "OCfdHsDoaawg",
        "outputId": "07dc2ed6-d0bb-487c-c1f0-2cc50eb232f4"
      },
      "execution_count": 26,
      "outputs": [
        {
          "output_type": "execute_result",
          "data": {
            "text/plain": [
              "(10352415917, 10352415919, 10352415923)"
            ]
          },
          "metadata": {},
          "execution_count": 26
        }
      ]
    },
    {
      "cell_type": "markdown",
      "source": [
        "The number of prime triplets (p, p+4, p+6) for p<=10^5\n"
      ],
      "metadata": {
        "id": "T1xjmxi9ahrE"
      }
    },
    {
      "cell_type": "code",
      "source": [
        "num_diff42_v3"
      ],
      "metadata": {
        "colab": {
          "base_uri": "https://localhost:8080/"
        },
        "id": "Sb9RcW3eFMTI",
        "outputId": "9c62aaf8-9a3b-4f87-bfc1-52145173f26f"
      },
      "execution_count": 27,
      "outputs": [
        {
          "output_type": "execute_result",
          "data": {
            "text/plain": [
              "47552"
            ]
          },
          "metadata": {},
          "execution_count": 27
        }
      ]
    },
    {
      "cell_type": "code",
      "source": [
        "sorted(common_elements_diff42_v3)[461:500]"
      ],
      "metadata": {
        "colab": {
          "base_uri": "https://localhost:8080/"
        },
        "id": "Jg8nXujuDyjt",
        "outputId": "7f3c4969-eae8-4284-9ca6-31268aa64c30"
      },
      "execution_count": 28,
      "outputs": [
        {
          "output_type": "execute_result",
          "data": {
            "text/plain": [
              "[(40607, 40611, 40613),\n",
              " (40895, 40899, 40901),\n",
              " (41003, 41007, 41009),\n",
              " (41159, 41163, 41165),\n",
              " (41267, 41271, 41273),\n",
              " (41311, 41315, 41317),\n",
              " (41339, 41343, 41345),\n",
              " (41417, 41421, 41423),\n",
              " (41455, 41459, 41461),\n",
              " (41551, 41555, 41557),\n",
              " (41563, 41567, 41569),\n",
              " (41703, 41707, 41709),\n",
              " (41717, 41721, 41723),\n",
              " (41827, 41831, 41833),\n",
              " (41885, 41889, 41891),\n",
              " (41929, 41933, 41935),\n",
              " (42027, 42031, 42033),\n",
              " (42109, 42113, 42115),\n",
              " (42145, 42149, 42151),\n",
              " (42167, 42171, 42173),\n",
              " (42243, 42247, 42249),\n",
              " (42547, 42551, 42553),\n",
              " (42587, 42591, 42593),\n",
              " (42617, 42621, 42623),\n",
              " (42913, 42917, 42919),\n",
              " (43027, 43031, 43033),\n",
              " (43141, 43145, 43147),\n",
              " (43157, 43161, 43163),\n",
              " (43213, 43217, 43219),\n",
              " (43243, 43247, 43249),\n",
              " (43273, 43277, 43279),\n",
              " (43357, 43361, 43363),\n",
              " (43379, 43383, 43385),\n",
              " (43417, 43421, 43423),\n",
              " (43553, 43557, 43559),\n",
              " (43693, 43697, 43699),\n",
              " (43729, 43733, 43735),\n",
              " (43837, 43841, 43843),\n",
              " (43843, 43847, 43849)]"
            ]
          },
          "metadata": {},
          "execution_count": 28
        }
      ]
    },
    {
      "cell_type": "markdown",
      "source": [
        "The largst prime triplet (p,p+4,p+6) for p<=10^5\n",
        "\n"
      ],
      "metadata": {
        "id": "JzxSWc5Bdq-Y"
      }
    },
    {
      "cell_type": "code",
      "source": [
        "max(sorted(common_elements_diff42_v3))"
      ],
      "metadata": {
        "colab": {
          "base_uri": "https://localhost:8080/"
        },
        "id": "VHNS2j1kEq38",
        "outputId": "c8dd3651-0085-4dfe-f806-e0ec4e2edc98"
      },
      "execution_count": 29,
      "outputs": [
        {
          "output_type": "execute_result",
          "data": {
            "text/plain": [
              "(8956913683, 8956913687, 8956913689)"
            ]
          },
          "metadata": {},
          "execution_count": 29
        }
      ]
    }
  ],
  "metadata": {
    "accelerator": "TPU",
    "colab": {
      "provenance": [],
      "mount_file_id": "1GNzWIn-ESMrttCBYaNh16Me-Pxzzd6k0",
      "authorship_tag": "ABX9TyOhjdn3WRCqQ1okGJd4ZaDu",
      "include_colab_link": true
    },
    "kernelspec": {
      "display_name": "Python 3",
      "name": "python3"
    },
    "language_info": {
      "name": "python"
    }
  },
  "nbformat": 4,
  "nbformat_minor": 0
}